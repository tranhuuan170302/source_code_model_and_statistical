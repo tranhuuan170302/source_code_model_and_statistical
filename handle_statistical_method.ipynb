{
  "cells": [
    {
      "cell_type": "markdown",
      "metadata": {
        "id": "view-in-github",
        "colab_type": "text"
      },
      "source": [
        "<a href=\"https://colab.research.google.com/github/tranhuuan170302/source_code_model_and_statistical/blob/main/handle_statistical_method.ipynb\" target=\"_parent\"><img src=\"https://colab.research.google.com/assets/colab-badge.svg\" alt=\"Open In Colab\"/></a>"
      ]
    },
    {
      "cell_type": "markdown",
      "metadata": {
        "id": "e_iVxjBzTnwI"
      },
      "source": [
        "# Import libraries"
      ]
    },
    {
      "cell_type": "code",
      "execution_count": 1,
      "metadata": {
        "id": "tjyhJe446y_N"
      },
      "outputs": [],
      "source": [
        "import pandas as pd\n",
        "import string \n",
        "import re\n",
        "import time\n",
        "import nltk\n",
        "from nltk.stem import PorterStemmer\n",
        "from nltk import pos_tag\n",
        "from nltk.corpus import stopwords\n",
        "from nltk.tokenize import word_tokenize\n",
        "from nltk.stem import WordNetLemmatizer\n",
        "from textblob import TextBlob\n",
        "\n",
        "import matplotlib.pyplot as plt\n",
        "import seaborn as sns\n",
        "\n",
        "import math\n",
        "sns.set()"
      ]
    },
    {
      "cell_type": "markdown",
      "metadata": {
        "id": "nRI8LJvrTtwn"
      },
      "source": [
        "# Overview data source"
      ]
    },
    {
      "cell_type": "code",
      "execution_count": 2,
      "metadata": {
        "id": "RJ4yJWdzTtJR"
      },
      "outputs": [],
      "source": [
        "df = pd.read_csv('/content/drive/MyDrive/indeed/resultData.csv')"
      ]
    },
    {
      "cell_type": "code",
      "execution_count": 3,
      "metadata": {
        "colab": {
          "base_uri": "https://localhost:8080/",
          "height": 206
        },
        "id": "2oQEcmacT2Io",
        "outputId": "cb667d0f-42a6-43b8-f6ed-1482adaeef7c"
      },
      "outputs": [
        {
          "output_type": "execute_result",
          "data": {
            "text/plain": [
              "   Unnamed: 0                              JobTitle            Company  \\\n",
              "0           0                        .Net Developer           SmartDev   \n",
              "1           1            Intern / Fresher Developer     DXC Technology   \n",
              "2           2  .NET Developer (Middle/Senior level)              SIOUX   \n",
              "3           3         Jun/Mid/Senior .NET Developer  Saigon Technology   \n",
              "4           4     Web Developer (.NET, ASP.NET, C#)           NPV Corp   \n",
              "\n",
              "                Location                      PostDate ExtractDate  \\\n",
              "0                Ðà Nẵng    Posted\\nPosted 14 days ago  2023-01-25   \n",
              "1  Thành phố Hồ Chí Minh  Employer\\nActive 22 days ago  2023-01-25   \n",
              "2                Ðà Nẵng   Posted\\nPosted 30+ days ago  2023-01-25   \n",
              "3                Ðà Nẵng    Posted\\nPosted 18 days ago  2023-01-25   \n",
              "4                Ðà Nẵng    Posted\\nPosted 16 days ago  2023-01-25   \n",
              "\n",
              "                                             Summary            JobUrl  \n",
              "0  Company Description\\nSmartDev is a leading pro...  .NET Developer\\n  \n",
              "1  Overview:\\nHow would you like to join an inter...  .NET Developer\\n  \n",
              "2  Sioux Group was founded in 1996 in the Netherl...  .NET Developer\\n  \n",
              "3  Up to $2,200\\nJunior, Middle, Senior\\nDa Nang\\...  .NET Developer\\n  \n",
              "4  Web Developer (.NET, ASP.NET, C#)\\nNPV Corp\\nỨ...  .NET Developer\\n  "
            ],
            "text/html": [
              "\n",
              "  <div id=\"df-1a4357a6-444b-4fa5-b3de-05127f2806c8\">\n",
              "    <div class=\"colab-df-container\">\n",
              "      <div>\n",
              "<style scoped>\n",
              "    .dataframe tbody tr th:only-of-type {\n",
              "        vertical-align: middle;\n",
              "    }\n",
              "\n",
              "    .dataframe tbody tr th {\n",
              "        vertical-align: top;\n",
              "    }\n",
              "\n",
              "    .dataframe thead th {\n",
              "        text-align: right;\n",
              "    }\n",
              "</style>\n",
              "<table border=\"1\" class=\"dataframe\">\n",
              "  <thead>\n",
              "    <tr style=\"text-align: right;\">\n",
              "      <th></th>\n",
              "      <th>Unnamed: 0</th>\n",
              "      <th>JobTitle</th>\n",
              "      <th>Company</th>\n",
              "      <th>Location</th>\n",
              "      <th>PostDate</th>\n",
              "      <th>ExtractDate</th>\n",
              "      <th>Summary</th>\n",
              "      <th>JobUrl</th>\n",
              "    </tr>\n",
              "  </thead>\n",
              "  <tbody>\n",
              "    <tr>\n",
              "      <th>0</th>\n",
              "      <td>0</td>\n",
              "      <td>.Net Developer</td>\n",
              "      <td>SmartDev</td>\n",
              "      <td>Ðà Nẵng</td>\n",
              "      <td>Posted\\nPosted 14 days ago</td>\n",
              "      <td>2023-01-25</td>\n",
              "      <td>Company Description\\nSmartDev is a leading pro...</td>\n",
              "      <td>.NET Developer\\n</td>\n",
              "    </tr>\n",
              "    <tr>\n",
              "      <th>1</th>\n",
              "      <td>1</td>\n",
              "      <td>Intern / Fresher Developer</td>\n",
              "      <td>DXC Technology</td>\n",
              "      <td>Thành phố Hồ Chí Minh</td>\n",
              "      <td>Employer\\nActive 22 days ago</td>\n",
              "      <td>2023-01-25</td>\n",
              "      <td>Overview:\\nHow would you like to join an inter...</td>\n",
              "      <td>.NET Developer\\n</td>\n",
              "    </tr>\n",
              "    <tr>\n",
              "      <th>2</th>\n",
              "      <td>2</td>\n",
              "      <td>.NET Developer (Middle/Senior level)</td>\n",
              "      <td>SIOUX</td>\n",
              "      <td>Ðà Nẵng</td>\n",
              "      <td>Posted\\nPosted 30+ days ago</td>\n",
              "      <td>2023-01-25</td>\n",
              "      <td>Sioux Group was founded in 1996 in the Netherl...</td>\n",
              "      <td>.NET Developer\\n</td>\n",
              "    </tr>\n",
              "    <tr>\n",
              "      <th>3</th>\n",
              "      <td>3</td>\n",
              "      <td>Jun/Mid/Senior .NET Developer</td>\n",
              "      <td>Saigon Technology</td>\n",
              "      <td>Ðà Nẵng</td>\n",
              "      <td>Posted\\nPosted 18 days ago</td>\n",
              "      <td>2023-01-25</td>\n",
              "      <td>Up to $2,200\\nJunior, Middle, Senior\\nDa Nang\\...</td>\n",
              "      <td>.NET Developer\\n</td>\n",
              "    </tr>\n",
              "    <tr>\n",
              "      <th>4</th>\n",
              "      <td>4</td>\n",
              "      <td>Web Developer (.NET, ASP.NET, C#)</td>\n",
              "      <td>NPV Corp</td>\n",
              "      <td>Ðà Nẵng</td>\n",
              "      <td>Posted\\nPosted 16 days ago</td>\n",
              "      <td>2023-01-25</td>\n",
              "      <td>Web Developer (.NET, ASP.NET, C#)\\nNPV Corp\\nỨ...</td>\n",
              "      <td>.NET Developer\\n</td>\n",
              "    </tr>\n",
              "  </tbody>\n",
              "</table>\n",
              "</div>\n",
              "      <button class=\"colab-df-convert\" onclick=\"convertToInteractive('df-1a4357a6-444b-4fa5-b3de-05127f2806c8')\"\n",
              "              title=\"Convert this dataframe to an interactive table.\"\n",
              "              style=\"display:none;\">\n",
              "        \n",
              "  <svg xmlns=\"http://www.w3.org/2000/svg\" height=\"24px\"viewBox=\"0 0 24 24\"\n",
              "       width=\"24px\">\n",
              "    <path d=\"M0 0h24v24H0V0z\" fill=\"none\"/>\n",
              "    <path d=\"M18.56 5.44l.94 2.06.94-2.06 2.06-.94-2.06-.94-.94-2.06-.94 2.06-2.06.94zm-11 1L8.5 8.5l.94-2.06 2.06-.94-2.06-.94L8.5 2.5l-.94 2.06-2.06.94zm10 10l.94 2.06.94-2.06 2.06-.94-2.06-.94-.94-2.06-.94 2.06-2.06.94z\"/><path d=\"M17.41 7.96l-1.37-1.37c-.4-.4-.92-.59-1.43-.59-.52 0-1.04.2-1.43.59L10.3 9.45l-7.72 7.72c-.78.78-.78 2.05 0 2.83L4 21.41c.39.39.9.59 1.41.59.51 0 1.02-.2 1.41-.59l7.78-7.78 2.81-2.81c.8-.78.8-2.07 0-2.86zM5.41 20L4 18.59l7.72-7.72 1.47 1.35L5.41 20z\"/>\n",
              "  </svg>\n",
              "      </button>\n",
              "      \n",
              "  <style>\n",
              "    .colab-df-container {\n",
              "      display:flex;\n",
              "      flex-wrap:wrap;\n",
              "      gap: 12px;\n",
              "    }\n",
              "\n",
              "    .colab-df-convert {\n",
              "      background-color: #E8F0FE;\n",
              "      border: none;\n",
              "      border-radius: 50%;\n",
              "      cursor: pointer;\n",
              "      display: none;\n",
              "      fill: #1967D2;\n",
              "      height: 32px;\n",
              "      padding: 0 0 0 0;\n",
              "      width: 32px;\n",
              "    }\n",
              "\n",
              "    .colab-df-convert:hover {\n",
              "      background-color: #E2EBFA;\n",
              "      box-shadow: 0px 1px 2px rgba(60, 64, 67, 0.3), 0px 1px 3px 1px rgba(60, 64, 67, 0.15);\n",
              "      fill: #174EA6;\n",
              "    }\n",
              "\n",
              "    [theme=dark] .colab-df-convert {\n",
              "      background-color: #3B4455;\n",
              "      fill: #D2E3FC;\n",
              "    }\n",
              "\n",
              "    [theme=dark] .colab-df-convert:hover {\n",
              "      background-color: #434B5C;\n",
              "      box-shadow: 0px 1px 3px 1px rgba(0, 0, 0, 0.15);\n",
              "      filter: drop-shadow(0px 1px 2px rgba(0, 0, 0, 0.3));\n",
              "      fill: #FFFFFF;\n",
              "    }\n",
              "  </style>\n",
              "\n",
              "      <script>\n",
              "        const buttonEl =\n",
              "          document.querySelector('#df-1a4357a6-444b-4fa5-b3de-05127f2806c8 button.colab-df-convert');\n",
              "        buttonEl.style.display =\n",
              "          google.colab.kernel.accessAllowed ? 'block' : 'none';\n",
              "\n",
              "        async function convertToInteractive(key) {\n",
              "          const element = document.querySelector('#df-1a4357a6-444b-4fa5-b3de-05127f2806c8');\n",
              "          const dataTable =\n",
              "            await google.colab.kernel.invokeFunction('convertToInteractive',\n",
              "                                                     [key], {});\n",
              "          if (!dataTable) return;\n",
              "\n",
              "          const docLinkHtml = 'Like what you see? Visit the ' +\n",
              "            '<a target=\"_blank\" href=https://colab.research.google.com/notebooks/data_table.ipynb>data table notebook</a>'\n",
              "            + ' to learn more about interactive tables.';\n",
              "          element.innerHTML = '';\n",
              "          dataTable['output_type'] = 'display_data';\n",
              "          await google.colab.output.renderOutput(dataTable, element);\n",
              "          const docLink = document.createElement('div');\n",
              "          docLink.innerHTML = docLinkHtml;\n",
              "          element.appendChild(docLink);\n",
              "        }\n",
              "      </script>\n",
              "    </div>\n",
              "  </div>\n",
              "  "
            ]
          },
          "metadata": {},
          "execution_count": 3
        }
      ],
      "source": [
        "# show top 5 data is head\n",
        "df.head()"
      ]
    },
    {
      "cell_type": "code",
      "execution_count": 4,
      "metadata": {
        "id": "fiIvGhK8UDnN"
      },
      "outputs": [],
      "source": [
        "# drop column 'Unnamed'\n",
        "df.drop(columns='Unnamed: 0', inplace = True)"
      ]
    },
    {
      "cell_type": "code",
      "execution_count": 5,
      "metadata": {
        "id": "r8ok4MAgUOcv"
      },
      "outputs": [],
      "source": [
        "# show infomaion data\n",
        "def overView(x):\n",
        "    listSummary = []\n",
        "    for i in x.columns:\n",
        "        row = x[i].shape[0]\n",
        "        missingVal = x[i].isna().sum()\n",
        "        unique = len(x[i].unique())\n",
        "        typeCol = str(x[i].dtype)\n",
        "        percentageMissingVal = x[i].isna().sum()/x.shape[0]*100\n",
        "        listSummary.append([i, row,typeCol,unique, missingVal, percentageMissingVal])\n",
        "    return pd.DataFrame(listSummary, columns = ['Name Columns', 'Total row', 'type col', 'Total unique', 'Total miss val', 'percentage missing value'])"
      ]
    },
    {
      "cell_type": "code",
      "execution_count": 6,
      "metadata": {
        "colab": {
          "base_uri": "https://localhost:8080/",
          "height": 269
        },
        "id": "zaQkfW7UUUBq",
        "outputId": "5524612c-052a-480a-b1fa-868ff008ff44"
      },
      "outputs": [
        {
          "output_type": "execute_result",
          "data": {
            "text/plain": [
              "  Name Columns  Total row type col  Total unique  Total miss val  \\\n",
              "0     JobTitle       4379   object          2220               0   \n",
              "1      Company       4379   object          1114               0   \n",
              "2     Location       4379   object            39               0   \n",
              "3     PostDate       4379   object            43               0   \n",
              "4  ExtractDate       4379   object             2               0   \n",
              "5      Summary       4379   object          2678               0   \n",
              "6       JobUrl       4379   object            13               0   \n",
              "\n",
              "   percentage missing value  \n",
              "0                       0.0  \n",
              "1                       0.0  \n",
              "2                       0.0  \n",
              "3                       0.0  \n",
              "4                       0.0  \n",
              "5                       0.0  \n",
              "6                       0.0  "
            ],
            "text/html": [
              "\n",
              "  <div id=\"df-4b46f936-accf-4876-9bef-03c7735650c6\">\n",
              "    <div class=\"colab-df-container\">\n",
              "      <div>\n",
              "<style scoped>\n",
              "    .dataframe tbody tr th:only-of-type {\n",
              "        vertical-align: middle;\n",
              "    }\n",
              "\n",
              "    .dataframe tbody tr th {\n",
              "        vertical-align: top;\n",
              "    }\n",
              "\n",
              "    .dataframe thead th {\n",
              "        text-align: right;\n",
              "    }\n",
              "</style>\n",
              "<table border=\"1\" class=\"dataframe\">\n",
              "  <thead>\n",
              "    <tr style=\"text-align: right;\">\n",
              "      <th></th>\n",
              "      <th>Name Columns</th>\n",
              "      <th>Total row</th>\n",
              "      <th>type col</th>\n",
              "      <th>Total unique</th>\n",
              "      <th>Total miss val</th>\n",
              "      <th>percentage missing value</th>\n",
              "    </tr>\n",
              "  </thead>\n",
              "  <tbody>\n",
              "    <tr>\n",
              "      <th>0</th>\n",
              "      <td>JobTitle</td>\n",
              "      <td>4379</td>\n",
              "      <td>object</td>\n",
              "      <td>2220</td>\n",
              "      <td>0</td>\n",
              "      <td>0.0</td>\n",
              "    </tr>\n",
              "    <tr>\n",
              "      <th>1</th>\n",
              "      <td>Company</td>\n",
              "      <td>4379</td>\n",
              "      <td>object</td>\n",
              "      <td>1114</td>\n",
              "      <td>0</td>\n",
              "      <td>0.0</td>\n",
              "    </tr>\n",
              "    <tr>\n",
              "      <th>2</th>\n",
              "      <td>Location</td>\n",
              "      <td>4379</td>\n",
              "      <td>object</td>\n",
              "      <td>39</td>\n",
              "      <td>0</td>\n",
              "      <td>0.0</td>\n",
              "    </tr>\n",
              "    <tr>\n",
              "      <th>3</th>\n",
              "      <td>PostDate</td>\n",
              "      <td>4379</td>\n",
              "      <td>object</td>\n",
              "      <td>43</td>\n",
              "      <td>0</td>\n",
              "      <td>0.0</td>\n",
              "    </tr>\n",
              "    <tr>\n",
              "      <th>4</th>\n",
              "      <td>ExtractDate</td>\n",
              "      <td>4379</td>\n",
              "      <td>object</td>\n",
              "      <td>2</td>\n",
              "      <td>0</td>\n",
              "      <td>0.0</td>\n",
              "    </tr>\n",
              "    <tr>\n",
              "      <th>5</th>\n",
              "      <td>Summary</td>\n",
              "      <td>4379</td>\n",
              "      <td>object</td>\n",
              "      <td>2678</td>\n",
              "      <td>0</td>\n",
              "      <td>0.0</td>\n",
              "    </tr>\n",
              "    <tr>\n",
              "      <th>6</th>\n",
              "      <td>JobUrl</td>\n",
              "      <td>4379</td>\n",
              "      <td>object</td>\n",
              "      <td>13</td>\n",
              "      <td>0</td>\n",
              "      <td>0.0</td>\n",
              "    </tr>\n",
              "  </tbody>\n",
              "</table>\n",
              "</div>\n",
              "      <button class=\"colab-df-convert\" onclick=\"convertToInteractive('df-4b46f936-accf-4876-9bef-03c7735650c6')\"\n",
              "              title=\"Convert this dataframe to an interactive table.\"\n",
              "              style=\"display:none;\">\n",
              "        \n",
              "  <svg xmlns=\"http://www.w3.org/2000/svg\" height=\"24px\"viewBox=\"0 0 24 24\"\n",
              "       width=\"24px\">\n",
              "    <path d=\"M0 0h24v24H0V0z\" fill=\"none\"/>\n",
              "    <path d=\"M18.56 5.44l.94 2.06.94-2.06 2.06-.94-2.06-.94-.94-2.06-.94 2.06-2.06.94zm-11 1L8.5 8.5l.94-2.06 2.06-.94-2.06-.94L8.5 2.5l-.94 2.06-2.06.94zm10 10l.94 2.06.94-2.06 2.06-.94-2.06-.94-.94-2.06-.94 2.06-2.06.94z\"/><path d=\"M17.41 7.96l-1.37-1.37c-.4-.4-.92-.59-1.43-.59-.52 0-1.04.2-1.43.59L10.3 9.45l-7.72 7.72c-.78.78-.78 2.05 0 2.83L4 21.41c.39.39.9.59 1.41.59.51 0 1.02-.2 1.41-.59l7.78-7.78 2.81-2.81c.8-.78.8-2.07 0-2.86zM5.41 20L4 18.59l7.72-7.72 1.47 1.35L5.41 20z\"/>\n",
              "  </svg>\n",
              "      </button>\n",
              "      \n",
              "  <style>\n",
              "    .colab-df-container {\n",
              "      display:flex;\n",
              "      flex-wrap:wrap;\n",
              "      gap: 12px;\n",
              "    }\n",
              "\n",
              "    .colab-df-convert {\n",
              "      background-color: #E8F0FE;\n",
              "      border: none;\n",
              "      border-radius: 50%;\n",
              "      cursor: pointer;\n",
              "      display: none;\n",
              "      fill: #1967D2;\n",
              "      height: 32px;\n",
              "      padding: 0 0 0 0;\n",
              "      width: 32px;\n",
              "    }\n",
              "\n",
              "    .colab-df-convert:hover {\n",
              "      background-color: #E2EBFA;\n",
              "      box-shadow: 0px 1px 2px rgba(60, 64, 67, 0.3), 0px 1px 3px 1px rgba(60, 64, 67, 0.15);\n",
              "      fill: #174EA6;\n",
              "    }\n",
              "\n",
              "    [theme=dark] .colab-df-convert {\n",
              "      background-color: #3B4455;\n",
              "      fill: #D2E3FC;\n",
              "    }\n",
              "\n",
              "    [theme=dark] .colab-df-convert:hover {\n",
              "      background-color: #434B5C;\n",
              "      box-shadow: 0px 1px 3px 1px rgba(0, 0, 0, 0.15);\n",
              "      filter: drop-shadow(0px 1px 2px rgba(0, 0, 0, 0.3));\n",
              "      fill: #FFFFFF;\n",
              "    }\n",
              "  </style>\n",
              "\n",
              "      <script>\n",
              "        const buttonEl =\n",
              "          document.querySelector('#df-4b46f936-accf-4876-9bef-03c7735650c6 button.colab-df-convert');\n",
              "        buttonEl.style.display =\n",
              "          google.colab.kernel.accessAllowed ? 'block' : 'none';\n",
              "\n",
              "        async function convertToInteractive(key) {\n",
              "          const element = document.querySelector('#df-4b46f936-accf-4876-9bef-03c7735650c6');\n",
              "          const dataTable =\n",
              "            await google.colab.kernel.invokeFunction('convertToInteractive',\n",
              "                                                     [key], {});\n",
              "          if (!dataTable) return;\n",
              "\n",
              "          const docLinkHtml = 'Like what you see? Visit the ' +\n",
              "            '<a target=\"_blank\" href=https://colab.research.google.com/notebooks/data_table.ipynb>data table notebook</a>'\n",
              "            + ' to learn more about interactive tables.';\n",
              "          element.innerHTML = '';\n",
              "          dataTable['output_type'] = 'display_data';\n",
              "          await google.colab.output.renderOutput(dataTable, element);\n",
              "          const docLink = document.createElement('div');\n",
              "          docLink.innerHTML = docLinkHtml;\n",
              "          element.appendChild(docLink);\n",
              "        }\n",
              "      </script>\n",
              "    </div>\n",
              "  </div>\n",
              "  "
            ]
          },
          "metadata": {},
          "execution_count": 6
        }
      ],
      "source": [
        "# show information databases\n",
        "overView(df)"
      ]
    },
    {
      "cell_type": "markdown",
      "metadata": {
        "id": "CdTLsZ_FUfs-"
      },
      "source": [
        "# Process data step-by-step <br>\n",
        "+ Step 1: Remove special character.<br>\n",
        "+ Step 2: Using algorithm TF-IDF to look up keyword important in sentence.<br>\n",
        "+ Step 3: Create list keywords include: keyword skill, keyword tool, keyword degree, keyword level. <br>\n",
        "+ Step 4: Filter keywords in sentence by look at list keyword to choose.<br>\n",
        "+ Step 5: Create dataFrame add keyword.<br>\n",
        "+ Step 6: Visualization data, and hypothesis testing.<br>"
      ]
    },
    {
      "cell_type": "code",
      "execution_count": 7,
      "metadata": {
        "colab": {
          "base_uri": "https://localhost:8080/"
        },
        "id": "kPDCxxmFbOfO",
        "outputId": "53f0dd65-ebe4-46dc-aa2f-951ccff9a912"
      },
      "outputs": [
        {
          "output_type": "stream",
          "name": "stderr",
          "text": [
            "[nltk_data] Downloading package stopwords to /root/nltk_data...\n",
            "[nltk_data]   Unzipping corpora/stopwords.zip.\n",
            "[nltk_data] Downloading package punkt to /root/nltk_data...\n",
            "[nltk_data]   Unzipping tokenizers/punkt.zip.\n",
            "[nltk_data] Downloading package averaged_perceptron_tagger to\n",
            "[nltk_data]     /root/nltk_data...\n",
            "[nltk_data]   Unzipping taggers/averaged_perceptron_tagger.zip.\n"
          ]
        },
        {
          "output_type": "execute_result",
          "data": {
            "text/plain": [
              "True"
            ]
          },
          "metadata": {},
          "execution_count": 7
        }
      ],
      "source": [
        "# download package\n",
        "nltk.download('stopwords')\n",
        "nltk.download('punkt')\n",
        "# required for parts of speech tagging\n",
        "nltk.download('averaged_perceptron_tagger')"
      ]
    },
    {
      "cell_type": "markdown",
      "metadata": {
        "id": "Q25a3d7lYCeA"
      },
      "source": [
        "## Keyword skills, tools, degree, level."
      ]
    },
    {
      "cell_type": "code",
      "execution_count": 8,
      "metadata": {
        "id": "1aGYyaVXYI9N"
      },
      "outputs": [],
      "source": [
        "# got these keywords by looking at some examples and using existing knowledge.\n",
        "tool_keywords = ['.net', 'java', 'azur', 'javascript', 'css3', 'azure', 'amazon', 'python', 'c', 'c++', 'c#', 'linux', 'angularjs', 'regularjs', 'requirejs', 'numpy', 'nuxtjs', 'xlsx',\n",
        "\t\t\t'microsoft', 'bootstrap', 'js', 'visual', 'typescript', 'snack', 'abi', 'nodejs', 'html5', 'reactjs', 'redhat', 'reactcharts', 'mongoldb', 'xmlhttprequest',\n",
        "\t\t\t'vscode', 'vuejs','melonjs', 'xampp', 'winform', 'wireless', 'wireshark', 'wordpress', 'virtualbox', 'google cloud', 'scala', 'django', 'hadoop', 'haoop', 'zookeep' , 'solr',\n",
        "\t\t\t'photoshop', 'php', 'phd', 'relayjs', 'oracle', 'opencv', 'p2p', 'redux', 'referenced', 'pytest', 'matplotlib', 'lavarel', 'nestjs', 'unix', 'git', 'redi',\n",
        "\t\t\t'pyspark', 'pytorch', 'protocol', 'sql', 'websocket', 'proptech', 'progresql', 'plsql', 'powerbi', 'powerdesigner', 'lambda', 'nuget', 'untiy3d', 'flutter',\n",
        "\t\t\t'tableau', 'scratch', 'scrum', 'scipy', 'scikit', 'simulated', 'screenshot', 'script', 'powerpoint', 'serves', 'excel', 'word', 'waveform', 'docker', 'mariadb', 'markdowns', 'matlab', 'melonjs', 'ngnix', 'ubuntu', 'toolkits']\n",
        "\n",
        "\n",
        "\n",
        "\n",
        "# hard skills/knowledge required.\n",
        "skill_keywords = ['refresh', 'probabilities', 'leader', 'portability', 'warehouse', 'maitainance', 'metadata', 'maximization', 'knowledgeable', 'modify', 'navigate',\n",
        " 'manager', 'metastock', 'metaverse', 'psychology','pipline', 'programing', 'provides', 'prblem solving','predict', 'statistics',\n",
        "'cleansing', 'chatbot', 'cleaning', 'blockchain', 'causality', 'correlation', 'bandit', 'anomaly', 'test case', 'tsql', 'databases', 'sql',\n",
        " 'dashboard', 'geospatial', 'ocr', 'english', 'math', 'econometrics', 'marketing', 'tuning', 'hyperparameter', 'hypothesis',\n",
        " 'salesforcecom', 'segmentation', 'biostatistics', 'unsupervised', 'supervised', 'exploratory', 'logic', 'multithread',\n",
        " 'recommender', 'recommendations', 'research', 'sequencing', 'probability', 'reinforcement', 'graph', 'bioinformatics', \n",
        " 'knn', 'outlier', 'etl', 'normalization', 'classification', 'optimizing', 'csdl', 'report', 'databases', 'sql', 'test',\n",
        " 'clustering', 'cluster', 'design', 'optimization', 'visualization', 'nlp', 'negotiation', 'network', 'glm', 'uiux', 'teamwork', 'creative thinking',\n",
        "  'gbm', 'boosting', 'recurrent', 'convolutional', 'bayesian', 'mindset', 'threadhandling', 'analytic', 'e-commerc',\n",
        "  'support', 'teamwork', 'communicated', 'adaptability', 'coding', 'virtualization', 'organization', 'creativity']\n",
        "\n",
        "\n",
        "\n",
        "degree = ['bs', 'bachelor', 'undergraduate', 'certificate',\n",
        "               'master', 'graduate', 'mba', 'intermediate',\n",
        "               'phd', 'ph.d', 'ba', 'ma', 'it',\n",
        "               'postdoctoral', 'postdoc', 'doctorate']\n",
        "\n",
        "level = ['junior', 'intership', 'fresher', 'senior', 'middle', 'leader', 'architect', 'manager']"
      ]
    },
    {
      "cell_type": "code",
      "execution_count": 9,
      "metadata": {
        "id": "2g2wHqHJYkA7"
      },
      "outputs": [],
      "source": [
        "# parts of speech tagging\n",
        "tagged = nltk.pos_tag(tool_keywords)"
      ]
    },
    {
      "cell_type": "code",
      "execution_count": 10,
      "metadata": {
        "colab": {
          "base_uri": "https://localhost:8080/"
        },
        "id": "nh-fS41fbZBQ",
        "outputId": "1626e0a7-3f29-478c-a5b1-303a03ce445d"
      },
      "outputs": [
        {
          "output_type": "stream",
          "name": "stdout",
          "text": [
            "[('.net', 'NN'), ('java', 'NN'), ('azur', 'NN'), ('javascript', 'NN'), ('css3', 'NN'), ('azure', 'NN'), ('amazon', 'NN'), ('python', 'NN'), ('c', 'NN'), ('c++', 'NN'), ('c#', 'NN'), ('linux', 'NN'), ('angularjs', 'NN'), ('regularjs', 'NN'), ('requirejs', 'NN'), ('numpy', 'JJ'), ('nuxtjs', 'JJ'), ('xlsx', 'NN'), ('microsoft', 'JJ'), ('bootstrap', 'NN'), ('js', 'NN'), ('visual', 'JJ'), ('typescript', 'NN'), ('snack', 'NN'), ('abi', 'NN'), ('nodejs', 'JJ'), ('html5', 'NN'), ('reactjs', 'NN'), ('redhat', 'WP'), ('reactcharts', 'VBZ'), ('mongoldb', 'NN'), ('xmlhttprequest', 'JJS'), ('vscode', 'NN'), ('vuejs', 'NN'), ('melonjs', 'NN'), ('xampp', 'NNP'), ('winform', 'NN'), ('wireless', 'NN'), ('wireshark', 'NN'), ('wordpress', 'NN'), ('virtualbox', 'NN'), ('google cloud', 'NN'), ('scala', 'NN'), ('django', 'NN'), ('hadoop', 'NN'), ('haoop', 'NN'), ('zookeep', 'NN'), ('solr', 'NN'), ('photoshop', 'NN'), ('php', 'NN'), ('phd', 'NN'), ('relayjs', 'NN'), ('oracle', 'NN'), ('opencv', 'IN'), ('p2p', 'NN'), ('redux', 'NN'), ('referenced', 'VBD'), ('pytest', 'JJS'), ('matplotlib', 'NN'), ('lavarel', 'NN'), ('nestjs', 'JJ'), ('unix', 'JJ'), ('git', 'NN'), ('redi', 'NN'), ('pyspark', 'NN'), ('pytorch', 'NN'), ('protocol', 'NN'), ('sql', 'NN'), ('websocket', 'NN'), ('proptech', 'NN'), ('progresql', 'NN'), ('plsql', 'NN'), ('powerbi', 'NN'), ('powerdesigner', 'NN'), ('lambda', 'JJ'), ('nuget', 'NN'), ('untiy3d', 'JJ'), ('flutter', 'NN'), ('tableau', 'NN'), ('scratch', 'NN'), ('scrum', 'NN'), ('scipy', 'JJ'), ('scikit', 'NN'), ('simulated', 'VBD'), ('screenshot', 'JJ'), ('script', 'NN'), ('powerpoint', 'NN'), ('serves', 'VBZ'), ('excel', 'JJ'), ('word', 'NN'), ('waveform', 'NN'), ('docker', 'NN'), ('mariadb', 'NN'), ('markdowns', 'NNS'), ('matlab', 'VBP'), ('melonjs', 'JJ'), ('ngnix', 'JJ'), ('ubuntu', 'JJ'), ('toolkits', 'NNS')]\n"
          ]
        }
      ],
      "source": [
        "print(tagged)"
      ]
    },
    {
      "cell_type": "markdown",
      "metadata": {
        "id": "qB7dH91nXGcV"
      },
      "source": [
        "## Step 1: Remove special character."
      ]
    },
    {
      "cell_type": "code",
      "execution_count": 11,
      "metadata": {
        "id": "57OlveYnYsB3"
      },
      "outputs": [],
      "source": [
        "# create key in row\n",
        "df = df.reset_index()"
      ]
    },
    {
      "cell_type": "code",
      "execution_count": 12,
      "metadata": {
        "id": "nHPC3bfWUVtO"
      },
      "outputs": [],
      "source": [
        "# column Summary\n",
        "df['Summary'] = df['Summary'].apply(lambda x : re.sub(r'(<[^>]+>)|(http[s]?://(?:[a-zA-Z]|[0-9]|[$-_@.&+]|[!*,]|(?:%[0-9a-fA-F][0-9a-fA-F]))+)',' ', x))\n",
        "df['Summary'] = df['Summary'].str.replace('\\n', ' ')\n",
        "\n",
        "# column JobUrl\n",
        "df['JobUrl'] = df['JobUrl'].str.replace('\\n', '')\n",
        "# column locations\n",
        "df['Location'] = df['Location'].apply(lambda string: string.replace(string[string.find('+'): len(string)], '') if string.find('+') >0 else string, '')\n",
        "df['Location'] = df['Location'].str.lower()\n",
        "df['Location'] = df['Location'].str.replace('\\n', '')\n",
        "df['Location'] = df['Location'].str.replace('ð', 'đ')"
      ]
    },
    {
      "cell_type": "code",
      "execution_count": 13,
      "metadata": {
        "id": "5750mQ1iY_Lg"
      },
      "outputs": [],
      "source": [
        "df['review'] = df['Summary']\n",
        "df1 = pd.DataFrame(columns = ['index', 'review'])\n",
        "# split the text by \".\"\n",
        "for idx in df.index.unique():\n",
        "  string = df['Summary'][idx]\n",
        "  string = string.split('.')\n",
        "  id = []\n",
        "  txt = []\n",
        "  \n",
        "  for st in string:\n",
        "    id.append(idx)\n",
        "    txt.append(st)\n",
        "    datax = pd.DataFrame(list(zip(id, txt)), columns = ['index', 'review'])\n",
        "  df1 = pd.concat([df1, datax])"
      ]
    },
    {
      "cell_type": "code",
      "execution_count": 14,
      "metadata": {
        "id": "QwvHIl9lZlat"
      },
      "outputs": [],
      "source": [
        "df1.rename(columns= {'review': 'sentence_review'}, inplace=True)"
      ]
    },
    {
      "cell_type": "code",
      "execution_count": 15,
      "metadata": {
        "id": "JJIJfLuMZ0Fz"
      },
      "outputs": [],
      "source": [
        "# merger data by index\n",
        "df = df.merge(df1, left_on = 'index', right_on = 'index')"
      ]
    },
    {
      "cell_type": "code",
      "execution_count": 16,
      "metadata": {
        "id": "Ww3NxajkZ6OV"
      },
      "outputs": [],
      "source": [
        "# remove data is duplicated\n",
        "df = df.loc[df.duplicated() == False, :]"
      ]
    },
    {
      "cell_type": "markdown",
      "metadata": {
        "id": "W4ZXQXeahITH"
      },
      "source": [
        "## Filter keywords in sentences"
      ]
    },
    {
      "cell_type": "code",
      "execution_count": 17,
      "metadata": {
        "id": "mNsvG1KCbEbF"
      },
      "outputs": [],
      "source": [
        "keywords = tool_keywords + skill_keywords + degree + level"
      ]
    },
    {
      "cell_type": "code",
      "execution_count": 18,
      "metadata": {
        "colab": {
          "base_uri": "https://localhost:8080/"
        },
        "id": "exvav-Jfb768",
        "outputId": "5fa3d4b9-9a5c-4398-8145-1284967263bb"
      },
      "outputs": [
        {
          "output_type": "execute_result",
          "data": {
            "text/plain": [
              "['.net',\n",
              " 'java',\n",
              " 'azur',\n",
              " 'javascript',\n",
              " 'css3',\n",
              " 'azure',\n",
              " 'amazon',\n",
              " 'python',\n",
              " 'c',\n",
              " 'c++']"
            ]
          },
          "metadata": {},
          "execution_count": 18
        }
      ],
      "source": [
        "keywords[:10]"
      ]
    },
    {
      "cell_type": "code",
      "execution_count": 19,
      "metadata": {
        "id": "YWDltYF-aBjN"
      },
      "outputs": [],
      "source": [
        "\n",
        "ps = PorterStemmer()\n",
        "keywords_set = set([ps.stem(tok) for tok in keywords])\n",
        "\n",
        "#find sentences with words in tool_keyword list\n",
        "def filterString(string):\n",
        "  item = string.split(' ')\n",
        "  stemmed_tokens = [ps.stem(tok).lower() for tok in item]\n",
        "  for st in stemmed_tokens:\n",
        "    if keywords_set.__contains__(st):\n",
        "      return string\n",
        "  return None"
      ]
    },
    {
      "cell_type": "code",
      "execution_count": 20,
      "metadata": {
        "id": "ucmXOSu1aBY4"
      },
      "outputs": [],
      "source": [
        "df['review_filter'] = df['sentence_review'].apply(lambda string: filterString(string))"
      ]
    },
    {
      "cell_type": "code",
      "execution_count": 21,
      "metadata": {
        "colab": {
          "base_uri": "https://localhost:8080/"
        },
        "id": "iJWgp1LQivmo",
        "outputId": "e59b6f90-5f88-47ff-c54d-2a1422dd8178"
      },
      "outputs": [
        {
          "output_type": "execute_result",
          "data": {
            "text/plain": [
              "46559"
            ]
          },
          "metadata": {},
          "execution_count": 21
        }
      ],
      "source": [
        "df['review_filter'].isna().sum()"
      ]
    },
    {
      "cell_type": "code",
      "execution_count": 22,
      "metadata": {
        "id": "U54B3TLfjD85"
      },
      "outputs": [],
      "source": [
        "df = df.loc[df['review_filter'].isna() == False, :]"
      ]
    },
    {
      "cell_type": "code",
      "execution_count": 23,
      "metadata": {
        "id": "dJB7AdNYht-E"
      },
      "outputs": [],
      "source": [
        "ps = PorterStemmer()\n",
        "\n",
        "arr = ['JJ', 'NN', 'RB', 'VBD', 'PRP', 'VBG', 'NNS', 'JJS', 'VBP', 'JJR', 'VBZJJ', 'IN', 'NNP', 'WP', 'VBZ']\n",
        "# process the job description.\n",
        "def prepare_job_desc(desc):\n",
        "    # tokenize description.\n",
        "    tokens = word_tokenize(desc)\n",
        "        \n",
        "    # Parts of speech (POS) tag tokens.\n",
        "    token_tag = pos_tag(tokens)\n",
        "    \n",
        "    # Only include some of the POS tags.\n",
        "    include_tags = ['VBN', 'VBD', 'JJ', 'JJS', 'JJR', 'CD', 'NN', 'NNS', 'NNP', 'NNPS']\n",
        "    filtered_tokens = [tok for tok, tag in token_tag if tag in include_tags]\n",
        "    \n",
        "    # stem words.\n",
        "    stemmed_tokens = [ps.stem(tok).lower() for tok in filtered_tokens]\n",
        "    return set(stemmed_tokens)\n",
        "\n",
        "df['job_description_word_set'] = df['review_filter'].map(prepare_job_desc)"
      ]
    },
    {
      "cell_type": "code",
      "execution_count": 24,
      "metadata": {
        "id": "8PL_keXCg4OI"
      },
      "outputs": [],
      "source": [
        "tool_keywords_set = set([ps.stem(tok) for tok in tool_keywords])\n",
        "skill_keywords_set = set([ps.stem(tok) for tok in skill_keywords])\n",
        "degree_set = set([ps.stem(tok) for tok in degree])\n",
        "level_set = set([ps.stem(tok) for tok in level])"
      ]
    },
    {
      "cell_type": "code",
      "execution_count": 25,
      "metadata": {
        "id": "Wau1FCm4hUj7"
      },
      "outputs": [],
      "source": [
        "degree_dict = {ps.stem(tok): tok for tok in degree}\n",
        "skill_keywords_dict = {ps.stem(tok): tok for tok in skill_keywords}\n",
        "tool_keywords_dict = {ps.stem(tok): tok for tok in tool_keywords}\n",
        "level_dict = {ps.stem(tok): tok for tok in level}"
      ]
    },
    {
      "cell_type": "code",
      "execution_count": 26,
      "metadata": {
        "id": "mVzMxRSbhdNQ"
      },
      "outputs": [],
      "source": [
        "# look at keyword of tool in job_description_word_set\n",
        "def tool_word(string):\n",
        "  tool_words = ''\n",
        "  words = tool_keywords_set.intersection(string)\n",
        "  if len(words) == 0:\n",
        "    tool_words = None\n",
        "  else:\n",
        "    for word in words:\n",
        "      tool_words += word\n",
        "      tool_words += ', '\n",
        "  return tool_words\n",
        "\n",
        "df['tool_words'] = df['job_description_word_set'].map(tool_word)\n",
        "df['tool_words'] = df['tool_words'].apply(lambda string: re.sub(', $', '', string) if string != None else string, '')"
      ]
    },
    {
      "cell_type": "code",
      "execution_count": 27,
      "metadata": {
        "id": "UCLUI1x0j2rO"
      },
      "outputs": [],
      "source": [
        "# look at keyword of skill in job_description_word_set\n",
        "def skill_word(string):\n",
        "  tool_words = ''\n",
        "  words = skill_keywords_set.intersection(string)\n",
        "  if len(words) == 0:\n",
        "    tool_words = None\n",
        "  else:\n",
        "    for word in words:\n",
        "      tool_words += word\n",
        "      tool_words += ', '\n",
        "  return tool_words\n",
        "\n",
        "df['skill_words'] = df['job_description_word_set'].map(skill_word)\n",
        "df['skill_words'] = df['skill_words'].apply(lambda string: re.sub(', $', '', string) if string != None else string, '')"
      ]
    },
    {
      "cell_type": "code",
      "execution_count": 28,
      "metadata": {
        "id": "7hhHziU5kApO"
      },
      "outputs": [],
      "source": [
        "\n",
        "# look at keyword of degree in job_description_word_set\n",
        "def degree_word(string):\n",
        "    \n",
        "    tool_words = ''\n",
        "    words = degree_set.intersection(string)\n",
        "    \n",
        "    if len(words) == 0:\n",
        "      tool_words = None\n",
        "    else:\n",
        "      for word in words:\n",
        "        tool_words += word\n",
        "        tool_words += ', '\n",
        "    return tool_words\n",
        "  \n",
        "df['degree'] = df['job_description_word_set'].map(degree_word)\n",
        "df['degree'] = df['degree'].apply(lambda string: re.sub(', $', '', string) if string != None else string, '')"
      ]
    },
    {
      "cell_type": "code",
      "execution_count": 29,
      "metadata": {
        "id": "k03oLJ73kECz"
      },
      "outputs": [],
      "source": [
        "\n",
        "# look at keyword of level in job_description_word_set\n",
        "def level_word(string):\n",
        "    \n",
        "    tool_words = ''\n",
        "    words = level_set.intersection(string)\n",
        "    \n",
        "    if len(words) == 0:\n",
        "      tool_words = None\n",
        "    else:\n",
        "      for word in words:\n",
        "        tool_words += word\n",
        "        tool_words += ', '\n",
        "    return tool_words\n",
        "  \n",
        "df['level'] = df['job_description_word_set'].map(level_word)\n",
        "df['level'] = df['level'].apply(lambda string: re.sub(', $', '', string) if string != None else string, '')"
      ]
    },
    {
      "cell_type": "code",
      "execution_count": 30,
      "metadata": {
        "id": "qhLlkYtKkjBo"
      },
      "outputs": [],
      "source": [
        "df['Summary'] = df.Summary.apply(lambda x: word_tokenize(x))\n",
        "df['Summary'] = df.Summary.apply(lambda x: [ps.stem(word) for word in x])\n",
        "df['Summary'] = df.Summary.apply(lambda x: ' '.join(x))\n",
        "\n",
        "df['Summary'] = df['Summary'].str.replace('năm', 'year')\n",
        "\n",
        "df['YearExperience'] = df['Summary'].apply(lambda x : re.findall(r'([0-9]+) year',x))\n",
        "df['YearExperience'] = df['YearExperience'].apply(lambda y : [0] if len(y)==0 else y)"
      ]
    },
    {
      "cell_type": "code",
      "execution_count": 31,
      "metadata": {
        "colab": {
          "base_uri": "https://localhost:8080/",
          "height": 704
        },
        "id": "cmsqbkKJkGke",
        "outputId": "1379cca7-c7e7-4ad0-9860-a99322fe6206"
      },
      "outputs": [
        {
          "output_type": "execute_result",
          "data": {
            "text/plain": [
              "  index        JobTitle   Company Location                    PostDate  \\\n",
              "0     0  .Net Developer  SmartDev  đà nẵng  Posted\\nPosted 14 days ago   \n",
              "2     0  .Net Developer  SmartDev  đà nẵng  Posted\\nPosted 14 days ago   \n",
              "6     0  .Net Developer  SmartDev  đà nẵng  Posted\\nPosted 14 days ago   \n",
              "7     0  .Net Developer  SmartDev  đà nẵng  Posted\\nPosted 14 days ago   \n",
              "9     0  .Net Developer  SmartDev  đà nẵng  Posted\\nPosted 14 days ago   \n",
              "\n",
              "  ExtractDate                                            Summary  \\\n",
              "0  2023-01-25  compani descript smartdev is a lead provid of ...   \n",
              "2  2023-01-25  compani descript smartdev is a lead provid of ...   \n",
              "6  2023-01-25  compani descript smartdev is a lead provid of ...   \n",
              "7  2023-01-25  compani descript smartdev is a lead provid of ...   \n",
              "9  2023-01-25  compani descript smartdev is a lead provid of ...   \n",
              "\n",
              "           JobUrl                                             review  \\\n",
              "0  .NET Developer  Company Description SmartDev is a leading prov...   \n",
              "2  .NET Developer  Company Description SmartDev is a leading prov...   \n",
              "6  .NET Developer  Company Description SmartDev is a leading prov...   \n",
              "7  .NET Developer  Company Description SmartDev is a leading prov...   \n",
              "9  .NET Developer  Company Description SmartDev is a leading prov...   \n",
              "\n",
              "                                     sentence_review  \\\n",
              "0  Company Description SmartDev is a leading prov...   \n",
              "2   SmartDev combines renowned Swiss quality with...   \n",
              "6    Job Description  You will report to PM (Proj...   \n",
              "7  Net programming languages Test and deploy appl...   \n",
              "9  NET framework, SQL Server and design/ architec...   \n",
              "\n",
              "                                       review_filter  \\\n",
              "0  Company Description SmartDev is a leading prov...   \n",
              "2   SmartDev combines renowned Swiss quality with...   \n",
              "6    Job Description  You will report to PM (Proj...   \n",
              "7  Net programming languages Test and deploy appl...   \n",
              "9  NET framework, SQL Server and design/ architec...   \n",
              "\n",
              "                            job_description_word_set tool_words  \\\n",
              "0  {descript, smartdev, solut, compani, provid, g...       None   \n",
              "2  {excel, smartdev, passion, qualiti, renown, co...      excel   \n",
              "6  {descript, manag, product, architectur, team, ...       None   \n",
              "7  {work, particip, qualif, languag, applic, year...       None   \n",
              "9  {sql, design/, framework, knowledg, pattern, s...        sql   \n",
              "\n",
              "                  skill_words degree  level YearExperience  \n",
              "0                      provid   None   None            [0]  \n",
              "2                        None   None   None            [0]  \n",
              "6  manag, design, clean, code   None  manag            [0]  \n",
              "7         program, test, code   None   None            [0]  \n",
              "9               knowledg, sql   None   None            [0]  "
            ],
            "text/html": [
              "\n",
              "  <div id=\"df-57bf5d69-d07a-4998-b8af-58b703cfad16\">\n",
              "    <div class=\"colab-df-container\">\n",
              "      <div>\n",
              "<style scoped>\n",
              "    .dataframe tbody tr th:only-of-type {\n",
              "        vertical-align: middle;\n",
              "    }\n",
              "\n",
              "    .dataframe tbody tr th {\n",
              "        vertical-align: top;\n",
              "    }\n",
              "\n",
              "    .dataframe thead th {\n",
              "        text-align: right;\n",
              "    }\n",
              "</style>\n",
              "<table border=\"1\" class=\"dataframe\">\n",
              "  <thead>\n",
              "    <tr style=\"text-align: right;\">\n",
              "      <th></th>\n",
              "      <th>index</th>\n",
              "      <th>JobTitle</th>\n",
              "      <th>Company</th>\n",
              "      <th>Location</th>\n",
              "      <th>PostDate</th>\n",
              "      <th>ExtractDate</th>\n",
              "      <th>Summary</th>\n",
              "      <th>JobUrl</th>\n",
              "      <th>review</th>\n",
              "      <th>sentence_review</th>\n",
              "      <th>review_filter</th>\n",
              "      <th>job_description_word_set</th>\n",
              "      <th>tool_words</th>\n",
              "      <th>skill_words</th>\n",
              "      <th>degree</th>\n",
              "      <th>level</th>\n",
              "      <th>YearExperience</th>\n",
              "    </tr>\n",
              "  </thead>\n",
              "  <tbody>\n",
              "    <tr>\n",
              "      <th>0</th>\n",
              "      <td>0</td>\n",
              "      <td>.Net Developer</td>\n",
              "      <td>SmartDev</td>\n",
              "      <td>đà nẵng</td>\n",
              "      <td>Posted\\nPosted 14 days ago</td>\n",
              "      <td>2023-01-25</td>\n",
              "      <td>compani descript smartdev is a lead provid of ...</td>\n",
              "      <td>.NET Developer</td>\n",
              "      <td>Company Description SmartDev is a leading prov...</td>\n",
              "      <td>Company Description SmartDev is a leading prov...</td>\n",
              "      <td>Company Description SmartDev is a leading prov...</td>\n",
              "      <td>{descript, smartdev, solut, compani, provid, g...</td>\n",
              "      <td>None</td>\n",
              "      <td>provid</td>\n",
              "      <td>None</td>\n",
              "      <td>None</td>\n",
              "      <td>[0]</td>\n",
              "    </tr>\n",
              "    <tr>\n",
              "      <th>2</th>\n",
              "      <td>0</td>\n",
              "      <td>.Net Developer</td>\n",
              "      <td>SmartDev</td>\n",
              "      <td>đà nẵng</td>\n",
              "      <td>Posted\\nPosted 14 days ago</td>\n",
              "      <td>2023-01-25</td>\n",
              "      <td>compani descript smartdev is a lead provid of ...</td>\n",
              "      <td>.NET Developer</td>\n",
              "      <td>Company Description SmartDev is a leading prov...</td>\n",
              "      <td>SmartDev combines renowned Swiss quality with...</td>\n",
              "      <td>SmartDev combines renowned Swiss quality with...</td>\n",
              "      <td>{excel, smartdev, passion, qualiti, renown, co...</td>\n",
              "      <td>excel</td>\n",
              "      <td>None</td>\n",
              "      <td>None</td>\n",
              "      <td>None</td>\n",
              "      <td>[0]</td>\n",
              "    </tr>\n",
              "    <tr>\n",
              "      <th>6</th>\n",
              "      <td>0</td>\n",
              "      <td>.Net Developer</td>\n",
              "      <td>SmartDev</td>\n",
              "      <td>đà nẵng</td>\n",
              "      <td>Posted\\nPosted 14 days ago</td>\n",
              "      <td>2023-01-25</td>\n",
              "      <td>compani descript smartdev is a lead provid of ...</td>\n",
              "      <td>.NET Developer</td>\n",
              "      <td>Company Description SmartDev is a leading prov...</td>\n",
              "      <td>Job Description  You will report to PM (Proj...</td>\n",
              "      <td>Job Description  You will report to PM (Proj...</td>\n",
              "      <td>{descript, manag, product, architectur, team, ...</td>\n",
              "      <td>None</td>\n",
              "      <td>manag, design, clean, code</td>\n",
              "      <td>None</td>\n",
              "      <td>manag</td>\n",
              "      <td>[0]</td>\n",
              "    </tr>\n",
              "    <tr>\n",
              "      <th>7</th>\n",
              "      <td>0</td>\n",
              "      <td>.Net Developer</td>\n",
              "      <td>SmartDev</td>\n",
              "      <td>đà nẵng</td>\n",
              "      <td>Posted\\nPosted 14 days ago</td>\n",
              "      <td>2023-01-25</td>\n",
              "      <td>compani descript smartdev is a lead provid of ...</td>\n",
              "      <td>.NET Developer</td>\n",
              "      <td>Company Description SmartDev is a leading prov...</td>\n",
              "      <td>Net programming languages Test and deploy appl...</td>\n",
              "      <td>Net programming languages Test and deploy appl...</td>\n",
              "      <td>{work, particip, qualif, languag, applic, year...</td>\n",
              "      <td>None</td>\n",
              "      <td>program, test, code</td>\n",
              "      <td>None</td>\n",
              "      <td>None</td>\n",
              "      <td>[0]</td>\n",
              "    </tr>\n",
              "    <tr>\n",
              "      <th>9</th>\n",
              "      <td>0</td>\n",
              "      <td>.Net Developer</td>\n",
              "      <td>SmartDev</td>\n",
              "      <td>đà nẵng</td>\n",
              "      <td>Posted\\nPosted 14 days ago</td>\n",
              "      <td>2023-01-25</td>\n",
              "      <td>compani descript smartdev is a lead provid of ...</td>\n",
              "      <td>.NET Developer</td>\n",
              "      <td>Company Description SmartDev is a leading prov...</td>\n",
              "      <td>NET framework, SQL Server and design/ architec...</td>\n",
              "      <td>NET framework, SQL Server and design/ architec...</td>\n",
              "      <td>{sql, design/, framework, knowledg, pattern, s...</td>\n",
              "      <td>sql</td>\n",
              "      <td>knowledg, sql</td>\n",
              "      <td>None</td>\n",
              "      <td>None</td>\n",
              "      <td>[0]</td>\n",
              "    </tr>\n",
              "  </tbody>\n",
              "</table>\n",
              "</div>\n",
              "      <button class=\"colab-df-convert\" onclick=\"convertToInteractive('df-57bf5d69-d07a-4998-b8af-58b703cfad16')\"\n",
              "              title=\"Convert this dataframe to an interactive table.\"\n",
              "              style=\"display:none;\">\n",
              "        \n",
              "  <svg xmlns=\"http://www.w3.org/2000/svg\" height=\"24px\"viewBox=\"0 0 24 24\"\n",
              "       width=\"24px\">\n",
              "    <path d=\"M0 0h24v24H0V0z\" fill=\"none\"/>\n",
              "    <path d=\"M18.56 5.44l.94 2.06.94-2.06 2.06-.94-2.06-.94-.94-2.06-.94 2.06-2.06.94zm-11 1L8.5 8.5l.94-2.06 2.06-.94-2.06-.94L8.5 2.5l-.94 2.06-2.06.94zm10 10l.94 2.06.94-2.06 2.06-.94-2.06-.94-.94-2.06-.94 2.06-2.06.94z\"/><path d=\"M17.41 7.96l-1.37-1.37c-.4-.4-.92-.59-1.43-.59-.52 0-1.04.2-1.43.59L10.3 9.45l-7.72 7.72c-.78.78-.78 2.05 0 2.83L4 21.41c.39.39.9.59 1.41.59.51 0 1.02-.2 1.41-.59l7.78-7.78 2.81-2.81c.8-.78.8-2.07 0-2.86zM5.41 20L4 18.59l7.72-7.72 1.47 1.35L5.41 20z\"/>\n",
              "  </svg>\n",
              "      </button>\n",
              "      \n",
              "  <style>\n",
              "    .colab-df-container {\n",
              "      display:flex;\n",
              "      flex-wrap:wrap;\n",
              "      gap: 12px;\n",
              "    }\n",
              "\n",
              "    .colab-df-convert {\n",
              "      background-color: #E8F0FE;\n",
              "      border: none;\n",
              "      border-radius: 50%;\n",
              "      cursor: pointer;\n",
              "      display: none;\n",
              "      fill: #1967D2;\n",
              "      height: 32px;\n",
              "      padding: 0 0 0 0;\n",
              "      width: 32px;\n",
              "    }\n",
              "\n",
              "    .colab-df-convert:hover {\n",
              "      background-color: #E2EBFA;\n",
              "      box-shadow: 0px 1px 2px rgba(60, 64, 67, 0.3), 0px 1px 3px 1px rgba(60, 64, 67, 0.15);\n",
              "      fill: #174EA6;\n",
              "    }\n",
              "\n",
              "    [theme=dark] .colab-df-convert {\n",
              "      background-color: #3B4455;\n",
              "      fill: #D2E3FC;\n",
              "    }\n",
              "\n",
              "    [theme=dark] .colab-df-convert:hover {\n",
              "      background-color: #434B5C;\n",
              "      box-shadow: 0px 1px 3px 1px rgba(0, 0, 0, 0.15);\n",
              "      filter: drop-shadow(0px 1px 2px rgba(0, 0, 0, 0.3));\n",
              "      fill: #FFFFFF;\n",
              "    }\n",
              "  </style>\n",
              "\n",
              "      <script>\n",
              "        const buttonEl =\n",
              "          document.querySelector('#df-57bf5d69-d07a-4998-b8af-58b703cfad16 button.colab-df-convert');\n",
              "        buttonEl.style.display =\n",
              "          google.colab.kernel.accessAllowed ? 'block' : 'none';\n",
              "\n",
              "        async function convertToInteractive(key) {\n",
              "          const element = document.querySelector('#df-57bf5d69-d07a-4998-b8af-58b703cfad16');\n",
              "          const dataTable =\n",
              "            await google.colab.kernel.invokeFunction('convertToInteractive',\n",
              "                                                     [key], {});\n",
              "          if (!dataTable) return;\n",
              "\n",
              "          const docLinkHtml = 'Like what you see? Visit the ' +\n",
              "            '<a target=\"_blank\" href=https://colab.research.google.com/notebooks/data_table.ipynb>data table notebook</a>'\n",
              "            + ' to learn more about interactive tables.';\n",
              "          element.innerHTML = '';\n",
              "          dataTable['output_type'] = 'display_data';\n",
              "          await google.colab.output.renderOutput(dataTable, element);\n",
              "          const docLink = document.createElement('div');\n",
              "          docLink.innerHTML = docLinkHtml;\n",
              "          element.appendChild(docLink);\n",
              "        }\n",
              "      </script>\n",
              "    </div>\n",
              "  </div>\n",
              "  "
            ]
          },
          "metadata": {},
          "execution_count": 31
        }
      ],
      "source": [
        "df.head()"
      ]
    },
    {
      "cell_type": "code",
      "execution_count": 32,
      "metadata": {
        "id": "MLhAKNB4nkuc"
      },
      "outputs": [],
      "source": [
        "def convertInt(array):\n",
        "    result = []\n",
        "    for arr in array:\n",
        "        result.append(int(arr))\n",
        "    return min(result)"
      ]
    },
    {
      "cell_type": "code",
      "execution_count": 33,
      "metadata": {
        "id": "YWvEvFL_nn1W"
      },
      "outputs": [],
      "source": [
        "df['YearExperience'] = df['YearExperience'].apply(lambda arr: convertInt(arr)) "
      ]
    },
    {
      "cell_type": "code",
      "execution_count": 34,
      "metadata": {
        "colab": {
          "base_uri": "https://localhost:8080/",
          "height": 641
        },
        "id": "KLB9LDNMnpUA",
        "outputId": "bec19f9f-cc1c-467f-d883-86ff96f10261"
      },
      "outputs": [
        {
          "output_type": "execute_result",
          "data": {
            "text/plain": [
              "      index                                           JobTitle  \\\n",
              "0         0                                     .Net Developer   \n",
              "2         0                                     .Net Developer   \n",
              "6         0                                     .Net Developer   \n",
              "7         0                                     .Net Developer   \n",
              "9         0                                     .Net Developer   \n",
              "...     ...                                                ...   \n",
              "84541  4377  Lập Trình Viên Fullstack (PHP, MYSQL, React) S...   \n",
              "84542  4377  Lập Trình Viên Fullstack (PHP, MYSQL, React) S...   \n",
              "84550  4378            Senior Fullstack Engineer (Java, React)   \n",
              "84552  4378            Senior Fullstack Engineer (Java, React)   \n",
              "84554  4378            Senior Fullstack Engineer (Java, React)   \n",
              "\n",
              "              Company               Location                 tool_words  \\\n",
              "0            SmartDev                đà nẵng                       None   \n",
              "2            SmartDev                đà nẵng                      excel   \n",
              "6            SmartDev                đà nẵng                       None   \n",
              "7            SmartDev                đà nẵng                       None   \n",
              "9            SmartDev                đà nẵng                        sql   \n",
              "...               ...                    ...                        ...   \n",
              "84541  JobsGO Recruit  thành phố hồ chí minh                        git   \n",
              "84542  JobsGO Recruit  thành phố hồ chí minh                       None   \n",
              "84550          Zühlke  thành phố hồ chí minh  docker, scrum, java, azur   \n",
              "84552          Zühlke  thành phố hồ chí minh                      scrum   \n",
              "84554          Zühlke  thành phố hồ chí minh                       None   \n",
              "\n",
              "                      skill_words  \\\n",
              "0                          provid   \n",
              "2                            None   \n",
              "6      manag, design, clean, code   \n",
              "7             program, test, code   \n",
              "9                   knowledg, sql   \n",
              "...                           ...   \n",
              "84541                        None   \n",
              "84542             commun, english   \n",
              "84550                        test   \n",
              "84552    commun, mindset, english   \n",
              "84554                        None   \n",
              "\n",
              "                                                 Summary            degree  \\\n",
              "0      compani descript smartdev is a lead provid of ...              None   \n",
              "2      compani descript smartdev is a lead provid of ...              None   \n",
              "6      compani descript smartdev is a lead provid of ...              None   \n",
              "7      compani descript smartdev is a lead provid of ...              None   \n",
              "9      compani descript smartdev is a lead provid of ...              None   \n",
              "...                                                  ...               ...   \n",
              "84541  mô tả công việc : ( mức lương : thỏa thuận ) d...              None   \n",
              "84542  mô tả công việc : ( mức lương : thỏa thuận ) d...              None   \n",
              "84550  perman full-tim ho chi minh citi softwar engin...            certif   \n",
              "84552  perman full-tim ho chi minh citi softwar engin...  master, bachelor   \n",
              "84554  perman full-tim ho chi minh citi softwar engin...              None   \n",
              "\n",
              "        level  YearExperience                    JobUrl  \n",
              "0        None               0            .NET Developer  \n",
              "2        None               0            .NET Developer  \n",
              "6       manag               0            .NET Developer  \n",
              "7        None               0            .NET Developer  \n",
              "9        None               0            .NET Developer  \n",
              "...       ...             ...                       ...  \n",
              "84541    None               3  Full Stack Web Developer  \n",
              "84542    None               3  Full Stack Web Developer  \n",
              "84550  senior               5  Full Stack Web Developer  \n",
              "84552    None               5  Full Stack Web Developer  \n",
              "84554    None               5  Full Stack Web Developer  \n",
              "\n",
              "[34265 rows x 11 columns]"
            ],
            "text/html": [
              "\n",
              "  <div id=\"df-fbf3a165-3a49-4d52-b5e2-c1b3e3a99799\">\n",
              "    <div class=\"colab-df-container\">\n",
              "      <div>\n",
              "<style scoped>\n",
              "    .dataframe tbody tr th:only-of-type {\n",
              "        vertical-align: middle;\n",
              "    }\n",
              "\n",
              "    .dataframe tbody tr th {\n",
              "        vertical-align: top;\n",
              "    }\n",
              "\n",
              "    .dataframe thead th {\n",
              "        text-align: right;\n",
              "    }\n",
              "</style>\n",
              "<table border=\"1\" class=\"dataframe\">\n",
              "  <thead>\n",
              "    <tr style=\"text-align: right;\">\n",
              "      <th></th>\n",
              "      <th>index</th>\n",
              "      <th>JobTitle</th>\n",
              "      <th>Company</th>\n",
              "      <th>Location</th>\n",
              "      <th>tool_words</th>\n",
              "      <th>skill_words</th>\n",
              "      <th>Summary</th>\n",
              "      <th>degree</th>\n",
              "      <th>level</th>\n",
              "      <th>YearExperience</th>\n",
              "      <th>JobUrl</th>\n",
              "    </tr>\n",
              "  </thead>\n",
              "  <tbody>\n",
              "    <tr>\n",
              "      <th>0</th>\n",
              "      <td>0</td>\n",
              "      <td>.Net Developer</td>\n",
              "      <td>SmartDev</td>\n",
              "      <td>đà nẵng</td>\n",
              "      <td>None</td>\n",
              "      <td>provid</td>\n",
              "      <td>compani descript smartdev is a lead provid of ...</td>\n",
              "      <td>None</td>\n",
              "      <td>None</td>\n",
              "      <td>0</td>\n",
              "      <td>.NET Developer</td>\n",
              "    </tr>\n",
              "    <tr>\n",
              "      <th>2</th>\n",
              "      <td>0</td>\n",
              "      <td>.Net Developer</td>\n",
              "      <td>SmartDev</td>\n",
              "      <td>đà nẵng</td>\n",
              "      <td>excel</td>\n",
              "      <td>None</td>\n",
              "      <td>compani descript smartdev is a lead provid of ...</td>\n",
              "      <td>None</td>\n",
              "      <td>None</td>\n",
              "      <td>0</td>\n",
              "      <td>.NET Developer</td>\n",
              "    </tr>\n",
              "    <tr>\n",
              "      <th>6</th>\n",
              "      <td>0</td>\n",
              "      <td>.Net Developer</td>\n",
              "      <td>SmartDev</td>\n",
              "      <td>đà nẵng</td>\n",
              "      <td>None</td>\n",
              "      <td>manag, design, clean, code</td>\n",
              "      <td>compani descript smartdev is a lead provid of ...</td>\n",
              "      <td>None</td>\n",
              "      <td>manag</td>\n",
              "      <td>0</td>\n",
              "      <td>.NET Developer</td>\n",
              "    </tr>\n",
              "    <tr>\n",
              "      <th>7</th>\n",
              "      <td>0</td>\n",
              "      <td>.Net Developer</td>\n",
              "      <td>SmartDev</td>\n",
              "      <td>đà nẵng</td>\n",
              "      <td>None</td>\n",
              "      <td>program, test, code</td>\n",
              "      <td>compani descript smartdev is a lead provid of ...</td>\n",
              "      <td>None</td>\n",
              "      <td>None</td>\n",
              "      <td>0</td>\n",
              "      <td>.NET Developer</td>\n",
              "    </tr>\n",
              "    <tr>\n",
              "      <th>9</th>\n",
              "      <td>0</td>\n",
              "      <td>.Net Developer</td>\n",
              "      <td>SmartDev</td>\n",
              "      <td>đà nẵng</td>\n",
              "      <td>sql</td>\n",
              "      <td>knowledg, sql</td>\n",
              "      <td>compani descript smartdev is a lead provid of ...</td>\n",
              "      <td>None</td>\n",
              "      <td>None</td>\n",
              "      <td>0</td>\n",
              "      <td>.NET Developer</td>\n",
              "    </tr>\n",
              "    <tr>\n",
              "      <th>...</th>\n",
              "      <td>...</td>\n",
              "      <td>...</td>\n",
              "      <td>...</td>\n",
              "      <td>...</td>\n",
              "      <td>...</td>\n",
              "      <td>...</td>\n",
              "      <td>...</td>\n",
              "      <td>...</td>\n",
              "      <td>...</td>\n",
              "      <td>...</td>\n",
              "      <td>...</td>\n",
              "    </tr>\n",
              "    <tr>\n",
              "      <th>84541</th>\n",
              "      <td>4377</td>\n",
              "      <td>Lập Trình Viên Fullstack (PHP, MYSQL, React) S...</td>\n",
              "      <td>JobsGO Recruit</td>\n",
              "      <td>thành phố hồ chí minh</td>\n",
              "      <td>git</td>\n",
              "      <td>None</td>\n",
              "      <td>mô tả công việc : ( mức lương : thỏa thuận ) d...</td>\n",
              "      <td>None</td>\n",
              "      <td>None</td>\n",
              "      <td>3</td>\n",
              "      <td>Full Stack Web Developer</td>\n",
              "    </tr>\n",
              "    <tr>\n",
              "      <th>84542</th>\n",
              "      <td>4377</td>\n",
              "      <td>Lập Trình Viên Fullstack (PHP, MYSQL, React) S...</td>\n",
              "      <td>JobsGO Recruit</td>\n",
              "      <td>thành phố hồ chí minh</td>\n",
              "      <td>None</td>\n",
              "      <td>commun, english</td>\n",
              "      <td>mô tả công việc : ( mức lương : thỏa thuận ) d...</td>\n",
              "      <td>None</td>\n",
              "      <td>None</td>\n",
              "      <td>3</td>\n",
              "      <td>Full Stack Web Developer</td>\n",
              "    </tr>\n",
              "    <tr>\n",
              "      <th>84550</th>\n",
              "      <td>4378</td>\n",
              "      <td>Senior Fullstack Engineer (Java, React)</td>\n",
              "      <td>Zühlke</td>\n",
              "      <td>thành phố hồ chí minh</td>\n",
              "      <td>docker, scrum, java, azur</td>\n",
              "      <td>test</td>\n",
              "      <td>perman full-tim ho chi minh citi softwar engin...</td>\n",
              "      <td>certif</td>\n",
              "      <td>senior</td>\n",
              "      <td>5</td>\n",
              "      <td>Full Stack Web Developer</td>\n",
              "    </tr>\n",
              "    <tr>\n",
              "      <th>84552</th>\n",
              "      <td>4378</td>\n",
              "      <td>Senior Fullstack Engineer (Java, React)</td>\n",
              "      <td>Zühlke</td>\n",
              "      <td>thành phố hồ chí minh</td>\n",
              "      <td>scrum</td>\n",
              "      <td>commun, mindset, english</td>\n",
              "      <td>perman full-tim ho chi minh citi softwar engin...</td>\n",
              "      <td>master, bachelor</td>\n",
              "      <td>None</td>\n",
              "      <td>5</td>\n",
              "      <td>Full Stack Web Developer</td>\n",
              "    </tr>\n",
              "    <tr>\n",
              "      <th>84554</th>\n",
              "      <td>4378</td>\n",
              "      <td>Senior Fullstack Engineer (Java, React)</td>\n",
              "      <td>Zühlke</td>\n",
              "      <td>thành phố hồ chí minh</td>\n",
              "      <td>None</td>\n",
              "      <td>None</td>\n",
              "      <td>perman full-tim ho chi minh citi softwar engin...</td>\n",
              "      <td>None</td>\n",
              "      <td>None</td>\n",
              "      <td>5</td>\n",
              "      <td>Full Stack Web Developer</td>\n",
              "    </tr>\n",
              "  </tbody>\n",
              "</table>\n",
              "<p>34265 rows × 11 columns</p>\n",
              "</div>\n",
              "      <button class=\"colab-df-convert\" onclick=\"convertToInteractive('df-fbf3a165-3a49-4d52-b5e2-c1b3e3a99799')\"\n",
              "              title=\"Convert this dataframe to an interactive table.\"\n",
              "              style=\"display:none;\">\n",
              "        \n",
              "  <svg xmlns=\"http://www.w3.org/2000/svg\" height=\"24px\"viewBox=\"0 0 24 24\"\n",
              "       width=\"24px\">\n",
              "    <path d=\"M0 0h24v24H0V0z\" fill=\"none\"/>\n",
              "    <path d=\"M18.56 5.44l.94 2.06.94-2.06 2.06-.94-2.06-.94-.94-2.06-.94 2.06-2.06.94zm-11 1L8.5 8.5l.94-2.06 2.06-.94-2.06-.94L8.5 2.5l-.94 2.06-2.06.94zm10 10l.94 2.06.94-2.06 2.06-.94-2.06-.94-.94-2.06-.94 2.06-2.06.94z\"/><path d=\"M17.41 7.96l-1.37-1.37c-.4-.4-.92-.59-1.43-.59-.52 0-1.04.2-1.43.59L10.3 9.45l-7.72 7.72c-.78.78-.78 2.05 0 2.83L4 21.41c.39.39.9.59 1.41.59.51 0 1.02-.2 1.41-.59l7.78-7.78 2.81-2.81c.8-.78.8-2.07 0-2.86zM5.41 20L4 18.59l7.72-7.72 1.47 1.35L5.41 20z\"/>\n",
              "  </svg>\n",
              "      </button>\n",
              "      \n",
              "  <style>\n",
              "    .colab-df-container {\n",
              "      display:flex;\n",
              "      flex-wrap:wrap;\n",
              "      gap: 12px;\n",
              "    }\n",
              "\n",
              "    .colab-df-convert {\n",
              "      background-color: #E8F0FE;\n",
              "      border: none;\n",
              "      border-radius: 50%;\n",
              "      cursor: pointer;\n",
              "      display: none;\n",
              "      fill: #1967D2;\n",
              "      height: 32px;\n",
              "      padding: 0 0 0 0;\n",
              "      width: 32px;\n",
              "    }\n",
              "\n",
              "    .colab-df-convert:hover {\n",
              "      background-color: #E2EBFA;\n",
              "      box-shadow: 0px 1px 2px rgba(60, 64, 67, 0.3), 0px 1px 3px 1px rgba(60, 64, 67, 0.15);\n",
              "      fill: #174EA6;\n",
              "    }\n",
              "\n",
              "    [theme=dark] .colab-df-convert {\n",
              "      background-color: #3B4455;\n",
              "      fill: #D2E3FC;\n",
              "    }\n",
              "\n",
              "    [theme=dark] .colab-df-convert:hover {\n",
              "      background-color: #434B5C;\n",
              "      box-shadow: 0px 1px 3px 1px rgba(0, 0, 0, 0.15);\n",
              "      filter: drop-shadow(0px 1px 2px rgba(0, 0, 0, 0.3));\n",
              "      fill: #FFFFFF;\n",
              "    }\n",
              "  </style>\n",
              "\n",
              "      <script>\n",
              "        const buttonEl =\n",
              "          document.querySelector('#df-fbf3a165-3a49-4d52-b5e2-c1b3e3a99799 button.colab-df-convert');\n",
              "        buttonEl.style.display =\n",
              "          google.colab.kernel.accessAllowed ? 'block' : 'none';\n",
              "\n",
              "        async function convertToInteractive(key) {\n",
              "          const element = document.querySelector('#df-fbf3a165-3a49-4d52-b5e2-c1b3e3a99799');\n",
              "          const dataTable =\n",
              "            await google.colab.kernel.invokeFunction('convertToInteractive',\n",
              "                                                     [key], {});\n",
              "          if (!dataTable) return;\n",
              "\n",
              "          const docLinkHtml = 'Like what you see? Visit the ' +\n",
              "            '<a target=\"_blank\" href=https://colab.research.google.com/notebooks/data_table.ipynb>data table notebook</a>'\n",
              "            + ' to learn more about interactive tables.';\n",
              "          element.innerHTML = '';\n",
              "          dataTable['output_type'] = 'display_data';\n",
              "          await google.colab.output.renderOutput(dataTable, element);\n",
              "          const docLink = document.createElement('div');\n",
              "          docLink.innerHTML = docLinkHtml;\n",
              "          element.appendChild(docLink);\n",
              "        }\n",
              "      </script>\n",
              "    </div>\n",
              "  </div>\n",
              "  "
            ]
          },
          "metadata": {},
          "execution_count": 34
        }
      ],
      "source": [
        "# choose columns importaint\n",
        "df[['index', 'JobTitle', 'Company', 'Location', 'tool_words', 'skill_words', 'Summary', 'degree', 'level', 'YearExperience', 'JobUrl']]"
      ]
    },
    {
      "cell_type": "code",
      "execution_count": 35,
      "metadata": {
        "colab": {
          "base_uri": "https://localhost:8080/"
        },
        "id": "kjeyB811npKn",
        "outputId": "17507544-e812-403c-d856-0f0bba84778b"
      },
      "outputs": [
        {
          "output_type": "execute_result",
          "data": {
            "text/plain": [
              "Int64Index([    0,     2,     7,     9,    10,    11,    13,    16,    18,\n",
              "               19,\n",
              "            ...\n",
              "            84525, 84528, 84529, 84535, 84539, 84540, 84541, 84542, 84552,\n",
              "            84554],\n",
              "           dtype='int64', length=28458)"
            ]
          },
          "metadata": {},
          "execution_count": 35
        }
      ],
      "source": [
        "df.loc[df['level'].isna() == True, :].index"
      ]
    },
    {
      "cell_type": "code",
      "execution_count": 36,
      "metadata": {
        "colab": {
          "base_uri": "https://localhost:8080/"
        },
        "id": "KOm-azxLno90",
        "outputId": "662ba2b7-0e1b-45db-9455-608069865b86"
      },
      "outputs": [
        {
          "output_type": "stream",
          "name": "stderr",
          "text": [
            "<ipython-input-36-2676db7758f1>:4: SettingWithCopyWarning: \n",
            "A value is trying to be set on a copy of a slice from a DataFrame\n",
            "\n",
            "See the caveats in the documentation: https://pandas.pydata.org/pandas-docs/stable/user_guide/indexing.html#returning-a-view-versus-a-copy\n",
            "  df['degree'][i] = 'undergraduate'\n"
          ]
        }
      ],
      "source": [
        "for i in df.loc[df['degree'].isna() == True, :].index:\n",
        "  string = df['Summary'][i].lower()\n",
        "  if string.find('đại học') > 0:\n",
        "    df['degree'][i] = 'undergraduate'"
      ]
    },
    {
      "cell_type": "code",
      "execution_count": 37,
      "metadata": {
        "id": "W5thEAZEohiy"
      },
      "outputs": [],
      "source": [
        "job = df[['index', 'JobTitle', 'Company', 'Location','Summary', 'JobUrl']].loc[df[['index', 'JobTitle', 'Company', 'Location','Summary', 'JobUrl']].duplicated() == False, :]"
      ]
    },
    {
      "cell_type": "code",
      "execution_count": 38,
      "metadata": {
        "colab": {
          "base_uri": "https://localhost:8080/"
        },
        "id": "bahuBiAFokF9",
        "outputId": "22297ec8-4618-4083-9f25-9359c661a967"
      },
      "outputs": [
        {
          "output_type": "execute_result",
          "data": {
            "text/plain": [
              "(4318, 6)"
            ]
          },
          "metadata": {},
          "execution_count": 38
        }
      ],
      "source": [
        "job.shape"
      ]
    },
    {
      "cell_type": "markdown",
      "metadata": {
        "id": "qn3XkZtJqUPF"
      },
      "source": [
        "# Create dataFrame by class"
      ]
    },
    {
      "cell_type": "code",
      "execution_count": 39,
      "metadata": {
        "id": "aMwztLm2oo_Q"
      },
      "outputs": [],
      "source": [
        "job_tool = df[['index', 'tool_words']].loc[df[['index', 'tool_words']].duplicated() == False, :]\n",
        "job_skill = df[['index', 'skill_words']].loc[df[['skill_words']].duplicated() == False, :]\n",
        "job_level = df[['index', 'level']].loc[df[['index', 'level']].duplicated() == False, :]\n",
        "job_degree = df[['index', 'degree']].loc[df[['index', 'degree']].duplicated() == False, :]\n",
        "job_YearExperience = df[['index', 'YearExperience']].loc[df[['index', 'YearExperience']].duplicated() == False, :]"
      ]
    },
    {
      "cell_type": "code",
      "execution_count": 40,
      "metadata": {
        "id": "HwWk960QouRH"
      },
      "outputs": [],
      "source": [
        "skill = pd.DataFrame(job_tool.set_index('index').tool_words.str.split(', ', expand=True).stack().reset_index(level=1, drop=True)).reset_index()\n",
        "job_tool = skill.loc[skill.duplicated()==False, :]"
      ]
    },
    {
      "cell_type": "code",
      "execution_count": 41,
      "metadata": {
        "id": "0Jc_G0rjo9Ia"
      },
      "outputs": [],
      "source": [
        "skill = pd.DataFrame(job_skill.set_index('index').skill_words.str.split(', ', expand=True).stack().reset_index(level=1, drop=True)).reset_index()\n",
        "job_skill = skill.loc[skill.duplicated()==False, :]"
      ]
    },
    {
      "cell_type": "code",
      "execution_count": 42,
      "metadata": {
        "id": "_DDr9vc0o_Vi"
      },
      "outputs": [],
      "source": [
        "skill = pd.DataFrame(job_level.set_index('index').level.str.split(', ', expand=True).stack().reset_index(level=1, drop=True)).reset_index()\n",
        "job_level = skill.loc[skill.duplicated()==False, :]"
      ]
    },
    {
      "cell_type": "code",
      "execution_count": 43,
      "metadata": {
        "id": "eDU6E5-fo_4h"
      },
      "outputs": [],
      "source": [
        "job_YearExperience = job_YearExperience.loc[job_YearExperience.duplicated()==False, :]"
      ]
    },
    {
      "cell_type": "code",
      "execution_count": 44,
      "metadata": {
        "id": "5teoRNXRpAMI"
      },
      "outputs": [],
      "source": [
        "skill = pd.DataFrame(job_degree.set_index('index').degree.str.split(', ', expand=True).stack().reset_index(level=1, drop=True)).reset_index()\n",
        "job_degree = skill.loc[skill.duplicated()==False, :]"
      ]
    },
    {
      "cell_type": "code",
      "execution_count": 45,
      "metadata": {
        "colab": {
          "base_uri": "https://localhost:8080/"
        },
        "id": "EPJ4woRypPZD",
        "outputId": "ebcd9381-28c6-40da-fa0c-a28911efcab0"
      },
      "outputs": [
        {
          "output_type": "execute_result",
          "data": {
            "text/plain": [
              "array(['đà nẵng', 'thành phố hồ chí minh', 'việt nam', 'hà nội',\n",
              "       'thủ dầu một', 'remote', 'bình dương', 'bắc ninh', 'đồng nai',\n",
              "       'nha trang', 'quận 7', 'hòa bình', 'gò vấp', 'đắk lắk', 'long an',\n",
              "       'thừa thiên - huế', 'long thành', 'cần thơ', 'an giang', 'thủ đức',\n",
              "       'huế', 'hạ long', 'hưng yên', 'bình định', 'đà lạt', 'quảng ngãi',\n",
              "       'hải phòng', 'hải dương', 'thuận an', 'khánh hòa'], dtype=object)"
            ]
          },
          "metadata": {},
          "execution_count": 45
        }
      ],
      "source": [
        "job['Location'].unique()"
      ]
    },
    {
      "cell_type": "code",
      "execution_count": 46,
      "metadata": {
        "colab": {
          "base_uri": "https://localhost:8080/",
          "height": 206
        },
        "id": "TUYScQ-cvrDk",
        "outputId": "bbd62a1c-b413-4f9b-db7a-33926cbed730"
      },
      "outputs": [
        {
          "output_type": "execute_result",
          "data": {
            "text/plain": [
              "   index Name Tool\n",
              "0      0     excel\n",
              "1      0       sql\n",
              "2      0    visual\n",
              "3      0         c\n",
              "4      0    reactj"
            ],
            "text/html": [
              "\n",
              "  <div id=\"df-d651bc51-c365-4fd2-921e-cecee185447d\">\n",
              "    <div class=\"colab-df-container\">\n",
              "      <div>\n",
              "<style scoped>\n",
              "    .dataframe tbody tr th:only-of-type {\n",
              "        vertical-align: middle;\n",
              "    }\n",
              "\n",
              "    .dataframe tbody tr th {\n",
              "        vertical-align: top;\n",
              "    }\n",
              "\n",
              "    .dataframe thead th {\n",
              "        text-align: right;\n",
              "    }\n",
              "</style>\n",
              "<table border=\"1\" class=\"dataframe\">\n",
              "  <thead>\n",
              "    <tr style=\"text-align: right;\">\n",
              "      <th></th>\n",
              "      <th>index</th>\n",
              "      <th>Name Tool</th>\n",
              "    </tr>\n",
              "  </thead>\n",
              "  <tbody>\n",
              "    <tr>\n",
              "      <th>0</th>\n",
              "      <td>0</td>\n",
              "      <td>excel</td>\n",
              "    </tr>\n",
              "    <tr>\n",
              "      <th>1</th>\n",
              "      <td>0</td>\n",
              "      <td>sql</td>\n",
              "    </tr>\n",
              "    <tr>\n",
              "      <th>2</th>\n",
              "      <td>0</td>\n",
              "      <td>visual</td>\n",
              "    </tr>\n",
              "    <tr>\n",
              "      <th>3</th>\n",
              "      <td>0</td>\n",
              "      <td>c</td>\n",
              "    </tr>\n",
              "    <tr>\n",
              "      <th>4</th>\n",
              "      <td>0</td>\n",
              "      <td>reactj</td>\n",
              "    </tr>\n",
              "  </tbody>\n",
              "</table>\n",
              "</div>\n",
              "      <button class=\"colab-df-convert\" onclick=\"convertToInteractive('df-d651bc51-c365-4fd2-921e-cecee185447d')\"\n",
              "              title=\"Convert this dataframe to an interactive table.\"\n",
              "              style=\"display:none;\">\n",
              "        \n",
              "  <svg xmlns=\"http://www.w3.org/2000/svg\" height=\"24px\"viewBox=\"0 0 24 24\"\n",
              "       width=\"24px\">\n",
              "    <path d=\"M0 0h24v24H0V0z\" fill=\"none\"/>\n",
              "    <path d=\"M18.56 5.44l.94 2.06.94-2.06 2.06-.94-2.06-.94-.94-2.06-.94 2.06-2.06.94zm-11 1L8.5 8.5l.94-2.06 2.06-.94-2.06-.94L8.5 2.5l-.94 2.06-2.06.94zm10 10l.94 2.06.94-2.06 2.06-.94-2.06-.94-.94-2.06-.94 2.06-2.06.94z\"/><path d=\"M17.41 7.96l-1.37-1.37c-.4-.4-.92-.59-1.43-.59-.52 0-1.04.2-1.43.59L10.3 9.45l-7.72 7.72c-.78.78-.78 2.05 0 2.83L4 21.41c.39.39.9.59 1.41.59.51 0 1.02-.2 1.41-.59l7.78-7.78 2.81-2.81c.8-.78.8-2.07 0-2.86zM5.41 20L4 18.59l7.72-7.72 1.47 1.35L5.41 20z\"/>\n",
              "  </svg>\n",
              "      </button>\n",
              "      \n",
              "  <style>\n",
              "    .colab-df-container {\n",
              "      display:flex;\n",
              "      flex-wrap:wrap;\n",
              "      gap: 12px;\n",
              "    }\n",
              "\n",
              "    .colab-df-convert {\n",
              "      background-color: #E8F0FE;\n",
              "      border: none;\n",
              "      border-radius: 50%;\n",
              "      cursor: pointer;\n",
              "      display: none;\n",
              "      fill: #1967D2;\n",
              "      height: 32px;\n",
              "      padding: 0 0 0 0;\n",
              "      width: 32px;\n",
              "    }\n",
              "\n",
              "    .colab-df-convert:hover {\n",
              "      background-color: #E2EBFA;\n",
              "      box-shadow: 0px 1px 2px rgba(60, 64, 67, 0.3), 0px 1px 3px 1px rgba(60, 64, 67, 0.15);\n",
              "      fill: #174EA6;\n",
              "    }\n",
              "\n",
              "    [theme=dark] .colab-df-convert {\n",
              "      background-color: #3B4455;\n",
              "      fill: #D2E3FC;\n",
              "    }\n",
              "\n",
              "    [theme=dark] .colab-df-convert:hover {\n",
              "      background-color: #434B5C;\n",
              "      box-shadow: 0px 1px 3px 1px rgba(0, 0, 0, 0.15);\n",
              "      filter: drop-shadow(0px 1px 2px rgba(0, 0, 0, 0.3));\n",
              "      fill: #FFFFFF;\n",
              "    }\n",
              "  </style>\n",
              "\n",
              "      <script>\n",
              "        const buttonEl =\n",
              "          document.querySelector('#df-d651bc51-c365-4fd2-921e-cecee185447d button.colab-df-convert');\n",
              "        buttonEl.style.display =\n",
              "          google.colab.kernel.accessAllowed ? 'block' : 'none';\n",
              "\n",
              "        async function convertToInteractive(key) {\n",
              "          const element = document.querySelector('#df-d651bc51-c365-4fd2-921e-cecee185447d');\n",
              "          const dataTable =\n",
              "            await google.colab.kernel.invokeFunction('convertToInteractive',\n",
              "                                                     [key], {});\n",
              "          if (!dataTable) return;\n",
              "\n",
              "          const docLinkHtml = 'Like what you see? Visit the ' +\n",
              "            '<a target=\"_blank\" href=https://colab.research.google.com/notebooks/data_table.ipynb>data table notebook</a>'\n",
              "            + ' to learn more about interactive tables.';\n",
              "          element.innerHTML = '';\n",
              "          dataTable['output_type'] = 'display_data';\n",
              "          await google.colab.output.renderOutput(dataTable, element);\n",
              "          const docLink = document.createElement('div');\n",
              "          docLink.innerHTML = docLinkHtml;\n",
              "          element.appendChild(docLink);\n",
              "        }\n",
              "      </script>\n",
              "    </div>\n",
              "  </div>\n",
              "  "
            ]
          },
          "metadata": {},
          "execution_count": 46
        }
      ],
      "source": [
        "job_tool.rename(columns= {0: 'Name Tool'}, inplace = True)\n",
        "# show 5 top head records of tool\n",
        "job_tool.head()"
      ]
    },
    {
      "cell_type": "code",
      "execution_count": 47,
      "metadata": {
        "colab": {
          "base_uri": "https://localhost:8080/",
          "height": 206
        },
        "id": "GD33kDBoXvwK",
        "outputId": "11c73808-4d77-47a5-c371-bb332a30eea6"
      },
      "outputs": [
        {
          "output_type": "execute_result",
          "data": {
            "text/plain": [
              "   index Name Skill\n",
              "0      0     provid\n",
              "1      0      manag\n",
              "2      0     design\n",
              "3      0      clean\n",
              "4      0       code"
            ],
            "text/html": [
              "\n",
              "  <div id=\"df-17762150-9afa-4535-ac12-a858675c4f1a\">\n",
              "    <div class=\"colab-df-container\">\n",
              "      <div>\n",
              "<style scoped>\n",
              "    .dataframe tbody tr th:only-of-type {\n",
              "        vertical-align: middle;\n",
              "    }\n",
              "\n",
              "    .dataframe tbody tr th {\n",
              "        vertical-align: top;\n",
              "    }\n",
              "\n",
              "    .dataframe thead th {\n",
              "        text-align: right;\n",
              "    }\n",
              "</style>\n",
              "<table border=\"1\" class=\"dataframe\">\n",
              "  <thead>\n",
              "    <tr style=\"text-align: right;\">\n",
              "      <th></th>\n",
              "      <th>index</th>\n",
              "      <th>Name Skill</th>\n",
              "    </tr>\n",
              "  </thead>\n",
              "  <tbody>\n",
              "    <tr>\n",
              "      <th>0</th>\n",
              "      <td>0</td>\n",
              "      <td>provid</td>\n",
              "    </tr>\n",
              "    <tr>\n",
              "      <th>1</th>\n",
              "      <td>0</td>\n",
              "      <td>manag</td>\n",
              "    </tr>\n",
              "    <tr>\n",
              "      <th>2</th>\n",
              "      <td>0</td>\n",
              "      <td>design</td>\n",
              "    </tr>\n",
              "    <tr>\n",
              "      <th>3</th>\n",
              "      <td>0</td>\n",
              "      <td>clean</td>\n",
              "    </tr>\n",
              "    <tr>\n",
              "      <th>4</th>\n",
              "      <td>0</td>\n",
              "      <td>code</td>\n",
              "    </tr>\n",
              "  </tbody>\n",
              "</table>\n",
              "</div>\n",
              "      <button class=\"colab-df-convert\" onclick=\"convertToInteractive('df-17762150-9afa-4535-ac12-a858675c4f1a')\"\n",
              "              title=\"Convert this dataframe to an interactive table.\"\n",
              "              style=\"display:none;\">\n",
              "        \n",
              "  <svg xmlns=\"http://www.w3.org/2000/svg\" height=\"24px\"viewBox=\"0 0 24 24\"\n",
              "       width=\"24px\">\n",
              "    <path d=\"M0 0h24v24H0V0z\" fill=\"none\"/>\n",
              "    <path d=\"M18.56 5.44l.94 2.06.94-2.06 2.06-.94-2.06-.94-.94-2.06-.94 2.06-2.06.94zm-11 1L8.5 8.5l.94-2.06 2.06-.94-2.06-.94L8.5 2.5l-.94 2.06-2.06.94zm10 10l.94 2.06.94-2.06 2.06-.94-2.06-.94-.94-2.06-.94 2.06-2.06.94z\"/><path d=\"M17.41 7.96l-1.37-1.37c-.4-.4-.92-.59-1.43-.59-.52 0-1.04.2-1.43.59L10.3 9.45l-7.72 7.72c-.78.78-.78 2.05 0 2.83L4 21.41c.39.39.9.59 1.41.59.51 0 1.02-.2 1.41-.59l7.78-7.78 2.81-2.81c.8-.78.8-2.07 0-2.86zM5.41 20L4 18.59l7.72-7.72 1.47 1.35L5.41 20z\"/>\n",
              "  </svg>\n",
              "      </button>\n",
              "      \n",
              "  <style>\n",
              "    .colab-df-container {\n",
              "      display:flex;\n",
              "      flex-wrap:wrap;\n",
              "      gap: 12px;\n",
              "    }\n",
              "\n",
              "    .colab-df-convert {\n",
              "      background-color: #E8F0FE;\n",
              "      border: none;\n",
              "      border-radius: 50%;\n",
              "      cursor: pointer;\n",
              "      display: none;\n",
              "      fill: #1967D2;\n",
              "      height: 32px;\n",
              "      padding: 0 0 0 0;\n",
              "      width: 32px;\n",
              "    }\n",
              "\n",
              "    .colab-df-convert:hover {\n",
              "      background-color: #E2EBFA;\n",
              "      box-shadow: 0px 1px 2px rgba(60, 64, 67, 0.3), 0px 1px 3px 1px rgba(60, 64, 67, 0.15);\n",
              "      fill: #174EA6;\n",
              "    }\n",
              "\n",
              "    [theme=dark] .colab-df-convert {\n",
              "      background-color: #3B4455;\n",
              "      fill: #D2E3FC;\n",
              "    }\n",
              "\n",
              "    [theme=dark] .colab-df-convert:hover {\n",
              "      background-color: #434B5C;\n",
              "      box-shadow: 0px 1px 3px 1px rgba(0, 0, 0, 0.15);\n",
              "      filter: drop-shadow(0px 1px 2px rgba(0, 0, 0, 0.3));\n",
              "      fill: #FFFFFF;\n",
              "    }\n",
              "  </style>\n",
              "\n",
              "      <script>\n",
              "        const buttonEl =\n",
              "          document.querySelector('#df-17762150-9afa-4535-ac12-a858675c4f1a button.colab-df-convert');\n",
              "        buttonEl.style.display =\n",
              "          google.colab.kernel.accessAllowed ? 'block' : 'none';\n",
              "\n",
              "        async function convertToInteractive(key) {\n",
              "          const element = document.querySelector('#df-17762150-9afa-4535-ac12-a858675c4f1a');\n",
              "          const dataTable =\n",
              "            await google.colab.kernel.invokeFunction('convertToInteractive',\n",
              "                                                     [key], {});\n",
              "          if (!dataTable) return;\n",
              "\n",
              "          const docLinkHtml = 'Like what you see? Visit the ' +\n",
              "            '<a target=\"_blank\" href=https://colab.research.google.com/notebooks/data_table.ipynb>data table notebook</a>'\n",
              "            + ' to learn more about interactive tables.';\n",
              "          element.innerHTML = '';\n",
              "          dataTable['output_type'] = 'display_data';\n",
              "          await google.colab.output.renderOutput(dataTable, element);\n",
              "          const docLink = document.createElement('div');\n",
              "          docLink.innerHTML = docLinkHtml;\n",
              "          element.appendChild(docLink);\n",
              "        }\n",
              "      </script>\n",
              "    </div>\n",
              "  </div>\n",
              "  "
            ]
          },
          "metadata": {},
          "execution_count": 47
        }
      ],
      "source": [
        "job_skill.rename(columns= {0: 'Name Skill'}, inplace = True)\n",
        "# show 5 top head records of skills\n",
        "job_skill.head()"
      ]
    },
    {
      "cell_type": "code",
      "execution_count": 48,
      "metadata": {
        "colab": {
          "base_uri": "https://localhost:8080/",
          "height": 297
        },
        "id": "LEWFyiDErGPs",
        "outputId": "4f933e40-440e-483a-df01-9bf2f39beb78"
      },
      "outputs": [
        {
          "output_type": "stream",
          "name": "stderr",
          "text": [
            "/usr/local/lib/python3.9/dist-packages/pandas/core/frame.py:5039: SettingWithCopyWarning: \n",
            "A value is trying to be set on a copy of a slice from a DataFrame\n",
            "\n",
            "See the caveats in the documentation: https://pandas.pydata.org/pandas-docs/stable/user_guide/indexing.html#returning-a-view-versus-a-copy\n",
            "  return super().rename(\n"
          ]
        },
        {
          "output_type": "execute_result",
          "data": {
            "text/plain": [
              "   index name level\n",
              "0      0      manag\n",
              "1      3     senior\n",
              "2      3      middl\n",
              "3      3     junior\n",
              "4      5    fresher"
            ],
            "text/html": [
              "\n",
              "  <div id=\"df-7d3120c5-2223-48af-a6fc-9d73812a061d\">\n",
              "    <div class=\"colab-df-container\">\n",
              "      <div>\n",
              "<style scoped>\n",
              "    .dataframe tbody tr th:only-of-type {\n",
              "        vertical-align: middle;\n",
              "    }\n",
              "\n",
              "    .dataframe tbody tr th {\n",
              "        vertical-align: top;\n",
              "    }\n",
              "\n",
              "    .dataframe thead th {\n",
              "        text-align: right;\n",
              "    }\n",
              "</style>\n",
              "<table border=\"1\" class=\"dataframe\">\n",
              "  <thead>\n",
              "    <tr style=\"text-align: right;\">\n",
              "      <th></th>\n",
              "      <th>index</th>\n",
              "      <th>name level</th>\n",
              "    </tr>\n",
              "  </thead>\n",
              "  <tbody>\n",
              "    <tr>\n",
              "      <th>0</th>\n",
              "      <td>0</td>\n",
              "      <td>manag</td>\n",
              "    </tr>\n",
              "    <tr>\n",
              "      <th>1</th>\n",
              "      <td>3</td>\n",
              "      <td>senior</td>\n",
              "    </tr>\n",
              "    <tr>\n",
              "      <th>2</th>\n",
              "      <td>3</td>\n",
              "      <td>middl</td>\n",
              "    </tr>\n",
              "    <tr>\n",
              "      <th>3</th>\n",
              "      <td>3</td>\n",
              "      <td>junior</td>\n",
              "    </tr>\n",
              "    <tr>\n",
              "      <th>4</th>\n",
              "      <td>5</td>\n",
              "      <td>fresher</td>\n",
              "    </tr>\n",
              "  </tbody>\n",
              "</table>\n",
              "</div>\n",
              "      <button class=\"colab-df-convert\" onclick=\"convertToInteractive('df-7d3120c5-2223-48af-a6fc-9d73812a061d')\"\n",
              "              title=\"Convert this dataframe to an interactive table.\"\n",
              "              style=\"display:none;\">\n",
              "        \n",
              "  <svg xmlns=\"http://www.w3.org/2000/svg\" height=\"24px\"viewBox=\"0 0 24 24\"\n",
              "       width=\"24px\">\n",
              "    <path d=\"M0 0h24v24H0V0z\" fill=\"none\"/>\n",
              "    <path d=\"M18.56 5.44l.94 2.06.94-2.06 2.06-.94-2.06-.94-.94-2.06-.94 2.06-2.06.94zm-11 1L8.5 8.5l.94-2.06 2.06-.94-2.06-.94L8.5 2.5l-.94 2.06-2.06.94zm10 10l.94 2.06.94-2.06 2.06-.94-2.06-.94-.94-2.06-.94 2.06-2.06.94z\"/><path d=\"M17.41 7.96l-1.37-1.37c-.4-.4-.92-.59-1.43-.59-.52 0-1.04.2-1.43.59L10.3 9.45l-7.72 7.72c-.78.78-.78 2.05 0 2.83L4 21.41c.39.39.9.59 1.41.59.51 0 1.02-.2 1.41-.59l7.78-7.78 2.81-2.81c.8-.78.8-2.07 0-2.86zM5.41 20L4 18.59l7.72-7.72 1.47 1.35L5.41 20z\"/>\n",
              "  </svg>\n",
              "      </button>\n",
              "      \n",
              "  <style>\n",
              "    .colab-df-container {\n",
              "      display:flex;\n",
              "      flex-wrap:wrap;\n",
              "      gap: 12px;\n",
              "    }\n",
              "\n",
              "    .colab-df-convert {\n",
              "      background-color: #E8F0FE;\n",
              "      border: none;\n",
              "      border-radius: 50%;\n",
              "      cursor: pointer;\n",
              "      display: none;\n",
              "      fill: #1967D2;\n",
              "      height: 32px;\n",
              "      padding: 0 0 0 0;\n",
              "      width: 32px;\n",
              "    }\n",
              "\n",
              "    .colab-df-convert:hover {\n",
              "      background-color: #E2EBFA;\n",
              "      box-shadow: 0px 1px 2px rgba(60, 64, 67, 0.3), 0px 1px 3px 1px rgba(60, 64, 67, 0.15);\n",
              "      fill: #174EA6;\n",
              "    }\n",
              "\n",
              "    [theme=dark] .colab-df-convert {\n",
              "      background-color: #3B4455;\n",
              "      fill: #D2E3FC;\n",
              "    }\n",
              "\n",
              "    [theme=dark] .colab-df-convert:hover {\n",
              "      background-color: #434B5C;\n",
              "      box-shadow: 0px 1px 3px 1px rgba(0, 0, 0, 0.15);\n",
              "      filter: drop-shadow(0px 1px 2px rgba(0, 0, 0, 0.3));\n",
              "      fill: #FFFFFF;\n",
              "    }\n",
              "  </style>\n",
              "\n",
              "      <script>\n",
              "        const buttonEl =\n",
              "          document.querySelector('#df-7d3120c5-2223-48af-a6fc-9d73812a061d button.colab-df-convert');\n",
              "        buttonEl.style.display =\n",
              "          google.colab.kernel.accessAllowed ? 'block' : 'none';\n",
              "\n",
              "        async function convertToInteractive(key) {\n",
              "          const element = document.querySelector('#df-7d3120c5-2223-48af-a6fc-9d73812a061d');\n",
              "          const dataTable =\n",
              "            await google.colab.kernel.invokeFunction('convertToInteractive',\n",
              "                                                     [key], {});\n",
              "          if (!dataTable) return;\n",
              "\n",
              "          const docLinkHtml = 'Like what you see? Visit the ' +\n",
              "            '<a target=\"_blank\" href=https://colab.research.google.com/notebooks/data_table.ipynb>data table notebook</a>'\n",
              "            + ' to learn more about interactive tables.';\n",
              "          element.innerHTML = '';\n",
              "          dataTable['output_type'] = 'display_data';\n",
              "          await google.colab.output.renderOutput(dataTable, element);\n",
              "          const docLink = document.createElement('div');\n",
              "          docLink.innerHTML = docLinkHtml;\n",
              "          element.appendChild(docLink);\n",
              "        }\n",
              "      </script>\n",
              "    </div>\n",
              "  </div>\n",
              "  "
            ]
          },
          "metadata": {},
          "execution_count": 48
        }
      ],
      "source": [
        "job_level.rename(columns={0: 'name level'}, inplace = True)\n",
        "# show 5 top head records of level\n",
        "job_level.head()"
      ]
    },
    {
      "cell_type": "code",
      "execution_count": 49,
      "metadata": {
        "colab": {
          "base_uri": "https://localhost:8080/",
          "height": 297
        },
        "id": "2xRdE0r7raxr",
        "outputId": "6601f494-b4fe-4743-b6b7-f8efa1adb7ae"
      },
      "outputs": [
        {
          "output_type": "stream",
          "name": "stderr",
          "text": [
            "/usr/local/lib/python3.9/dist-packages/pandas/core/frame.py:5039: SettingWithCopyWarning: \n",
            "A value is trying to be set on a copy of a slice from a DataFrame\n",
            "\n",
            "See the caveats in the documentation: https://pandas.pydata.org/pandas-docs/stable/user_guide/indexing.html#returning-a-view-versus-a-copy\n",
            "  return super().rename(\n"
          ]
        },
        {
          "output_type": "execute_result",
          "data": {
            "text/plain": [
              "   index    name degree\n",
              "0      1        graduat\n",
              "1      2       bachelor\n",
              "2      3         master\n",
              "3      3         certif\n",
              "4      4  undergraduate"
            ],
            "text/html": [
              "\n",
              "  <div id=\"df-c544eee4-dad2-4f49-addd-f3d73ca5ac6d\">\n",
              "    <div class=\"colab-df-container\">\n",
              "      <div>\n",
              "<style scoped>\n",
              "    .dataframe tbody tr th:only-of-type {\n",
              "        vertical-align: middle;\n",
              "    }\n",
              "\n",
              "    .dataframe tbody tr th {\n",
              "        vertical-align: top;\n",
              "    }\n",
              "\n",
              "    .dataframe thead th {\n",
              "        text-align: right;\n",
              "    }\n",
              "</style>\n",
              "<table border=\"1\" class=\"dataframe\">\n",
              "  <thead>\n",
              "    <tr style=\"text-align: right;\">\n",
              "      <th></th>\n",
              "      <th>index</th>\n",
              "      <th>name degree</th>\n",
              "    </tr>\n",
              "  </thead>\n",
              "  <tbody>\n",
              "    <tr>\n",
              "      <th>0</th>\n",
              "      <td>1</td>\n",
              "      <td>graduat</td>\n",
              "    </tr>\n",
              "    <tr>\n",
              "      <th>1</th>\n",
              "      <td>2</td>\n",
              "      <td>bachelor</td>\n",
              "    </tr>\n",
              "    <tr>\n",
              "      <th>2</th>\n",
              "      <td>3</td>\n",
              "      <td>master</td>\n",
              "    </tr>\n",
              "    <tr>\n",
              "      <th>3</th>\n",
              "      <td>3</td>\n",
              "      <td>certif</td>\n",
              "    </tr>\n",
              "    <tr>\n",
              "      <th>4</th>\n",
              "      <td>4</td>\n",
              "      <td>undergraduate</td>\n",
              "    </tr>\n",
              "  </tbody>\n",
              "</table>\n",
              "</div>\n",
              "      <button class=\"colab-df-convert\" onclick=\"convertToInteractive('df-c544eee4-dad2-4f49-addd-f3d73ca5ac6d')\"\n",
              "              title=\"Convert this dataframe to an interactive table.\"\n",
              "              style=\"display:none;\">\n",
              "        \n",
              "  <svg xmlns=\"http://www.w3.org/2000/svg\" height=\"24px\"viewBox=\"0 0 24 24\"\n",
              "       width=\"24px\">\n",
              "    <path d=\"M0 0h24v24H0V0z\" fill=\"none\"/>\n",
              "    <path d=\"M18.56 5.44l.94 2.06.94-2.06 2.06-.94-2.06-.94-.94-2.06-.94 2.06-2.06.94zm-11 1L8.5 8.5l.94-2.06 2.06-.94-2.06-.94L8.5 2.5l-.94 2.06-2.06.94zm10 10l.94 2.06.94-2.06 2.06-.94-2.06-.94-.94-2.06-.94 2.06-2.06.94z\"/><path d=\"M17.41 7.96l-1.37-1.37c-.4-.4-.92-.59-1.43-.59-.52 0-1.04.2-1.43.59L10.3 9.45l-7.72 7.72c-.78.78-.78 2.05 0 2.83L4 21.41c.39.39.9.59 1.41.59.51 0 1.02-.2 1.41-.59l7.78-7.78 2.81-2.81c.8-.78.8-2.07 0-2.86zM5.41 20L4 18.59l7.72-7.72 1.47 1.35L5.41 20z\"/>\n",
              "  </svg>\n",
              "      </button>\n",
              "      \n",
              "  <style>\n",
              "    .colab-df-container {\n",
              "      display:flex;\n",
              "      flex-wrap:wrap;\n",
              "      gap: 12px;\n",
              "    }\n",
              "\n",
              "    .colab-df-convert {\n",
              "      background-color: #E8F0FE;\n",
              "      border: none;\n",
              "      border-radius: 50%;\n",
              "      cursor: pointer;\n",
              "      display: none;\n",
              "      fill: #1967D2;\n",
              "      height: 32px;\n",
              "      padding: 0 0 0 0;\n",
              "      width: 32px;\n",
              "    }\n",
              "\n",
              "    .colab-df-convert:hover {\n",
              "      background-color: #E2EBFA;\n",
              "      box-shadow: 0px 1px 2px rgba(60, 64, 67, 0.3), 0px 1px 3px 1px rgba(60, 64, 67, 0.15);\n",
              "      fill: #174EA6;\n",
              "    }\n",
              "\n",
              "    [theme=dark] .colab-df-convert {\n",
              "      background-color: #3B4455;\n",
              "      fill: #D2E3FC;\n",
              "    }\n",
              "\n",
              "    [theme=dark] .colab-df-convert:hover {\n",
              "      background-color: #434B5C;\n",
              "      box-shadow: 0px 1px 3px 1px rgba(0, 0, 0, 0.15);\n",
              "      filter: drop-shadow(0px 1px 2px rgba(0, 0, 0, 0.3));\n",
              "      fill: #FFFFFF;\n",
              "    }\n",
              "  </style>\n",
              "\n",
              "      <script>\n",
              "        const buttonEl =\n",
              "          document.querySelector('#df-c544eee4-dad2-4f49-addd-f3d73ca5ac6d button.colab-df-convert');\n",
              "        buttonEl.style.display =\n",
              "          google.colab.kernel.accessAllowed ? 'block' : 'none';\n",
              "\n",
              "        async function convertToInteractive(key) {\n",
              "          const element = document.querySelector('#df-c544eee4-dad2-4f49-addd-f3d73ca5ac6d');\n",
              "          const dataTable =\n",
              "            await google.colab.kernel.invokeFunction('convertToInteractive',\n",
              "                                                     [key], {});\n",
              "          if (!dataTable) return;\n",
              "\n",
              "          const docLinkHtml = 'Like what you see? Visit the ' +\n",
              "            '<a target=\"_blank\" href=https://colab.research.google.com/notebooks/data_table.ipynb>data table notebook</a>'\n",
              "            + ' to learn more about interactive tables.';\n",
              "          element.innerHTML = '';\n",
              "          dataTable['output_type'] = 'display_data';\n",
              "          await google.colab.output.renderOutput(dataTable, element);\n",
              "          const docLink = document.createElement('div');\n",
              "          docLink.innerHTML = docLinkHtml;\n",
              "          element.appendChild(docLink);\n",
              "        }\n",
              "      </script>\n",
              "    </div>\n",
              "  </div>\n",
              "  "
            ]
          },
          "metadata": {},
          "execution_count": 49
        }
      ],
      "source": [
        "job_degree.rename(columns={0: 'name degree'}, inplace = True)\n",
        "# show 5 top head records of degree\n",
        "job_degree.head()"
      ]
    },
    {
      "cell_type": "code",
      "execution_count": 50,
      "metadata": {
        "colab": {
          "base_uri": "https://localhost:8080/",
          "height": 206
        },
        "id": "blDS0ZR4rktv",
        "outputId": "980e4834-548e-4fa6-bf1b-4d8ec9b47b21"
      },
      "outputs": [
        {
          "output_type": "execute_result",
          "data": {
            "text/plain": [
              "   index  YearExperience\n",
              "0      0               0\n",
              "13     1               0\n",
              "27     2               4\n",
              "56     3               2\n",
              "75     4               1"
            ],
            "text/html": [
              "\n",
              "  <div id=\"df-950dfa39-ad09-4324-b4e6-2c2e36071da3\">\n",
              "    <div class=\"colab-df-container\">\n",
              "      <div>\n",
              "<style scoped>\n",
              "    .dataframe tbody tr th:only-of-type {\n",
              "        vertical-align: middle;\n",
              "    }\n",
              "\n",
              "    .dataframe tbody tr th {\n",
              "        vertical-align: top;\n",
              "    }\n",
              "\n",
              "    .dataframe thead th {\n",
              "        text-align: right;\n",
              "    }\n",
              "</style>\n",
              "<table border=\"1\" class=\"dataframe\">\n",
              "  <thead>\n",
              "    <tr style=\"text-align: right;\">\n",
              "      <th></th>\n",
              "      <th>index</th>\n",
              "      <th>YearExperience</th>\n",
              "    </tr>\n",
              "  </thead>\n",
              "  <tbody>\n",
              "    <tr>\n",
              "      <th>0</th>\n",
              "      <td>0</td>\n",
              "      <td>0</td>\n",
              "    </tr>\n",
              "    <tr>\n",
              "      <th>13</th>\n",
              "      <td>1</td>\n",
              "      <td>0</td>\n",
              "    </tr>\n",
              "    <tr>\n",
              "      <th>27</th>\n",
              "      <td>2</td>\n",
              "      <td>4</td>\n",
              "    </tr>\n",
              "    <tr>\n",
              "      <th>56</th>\n",
              "      <td>3</td>\n",
              "      <td>2</td>\n",
              "    </tr>\n",
              "    <tr>\n",
              "      <th>75</th>\n",
              "      <td>4</td>\n",
              "      <td>1</td>\n",
              "    </tr>\n",
              "  </tbody>\n",
              "</table>\n",
              "</div>\n",
              "      <button class=\"colab-df-convert\" onclick=\"convertToInteractive('df-950dfa39-ad09-4324-b4e6-2c2e36071da3')\"\n",
              "              title=\"Convert this dataframe to an interactive table.\"\n",
              "              style=\"display:none;\">\n",
              "        \n",
              "  <svg xmlns=\"http://www.w3.org/2000/svg\" height=\"24px\"viewBox=\"0 0 24 24\"\n",
              "       width=\"24px\">\n",
              "    <path d=\"M0 0h24v24H0V0z\" fill=\"none\"/>\n",
              "    <path d=\"M18.56 5.44l.94 2.06.94-2.06 2.06-.94-2.06-.94-.94-2.06-.94 2.06-2.06.94zm-11 1L8.5 8.5l.94-2.06 2.06-.94-2.06-.94L8.5 2.5l-.94 2.06-2.06.94zm10 10l.94 2.06.94-2.06 2.06-.94-2.06-.94-.94-2.06-.94 2.06-2.06.94z\"/><path d=\"M17.41 7.96l-1.37-1.37c-.4-.4-.92-.59-1.43-.59-.52 0-1.04.2-1.43.59L10.3 9.45l-7.72 7.72c-.78.78-.78 2.05 0 2.83L4 21.41c.39.39.9.59 1.41.59.51 0 1.02-.2 1.41-.59l7.78-7.78 2.81-2.81c.8-.78.8-2.07 0-2.86zM5.41 20L4 18.59l7.72-7.72 1.47 1.35L5.41 20z\"/>\n",
              "  </svg>\n",
              "      </button>\n",
              "      \n",
              "  <style>\n",
              "    .colab-df-container {\n",
              "      display:flex;\n",
              "      flex-wrap:wrap;\n",
              "      gap: 12px;\n",
              "    }\n",
              "\n",
              "    .colab-df-convert {\n",
              "      background-color: #E8F0FE;\n",
              "      border: none;\n",
              "      border-radius: 50%;\n",
              "      cursor: pointer;\n",
              "      display: none;\n",
              "      fill: #1967D2;\n",
              "      height: 32px;\n",
              "      padding: 0 0 0 0;\n",
              "      width: 32px;\n",
              "    }\n",
              "\n",
              "    .colab-df-convert:hover {\n",
              "      background-color: #E2EBFA;\n",
              "      box-shadow: 0px 1px 2px rgba(60, 64, 67, 0.3), 0px 1px 3px 1px rgba(60, 64, 67, 0.15);\n",
              "      fill: #174EA6;\n",
              "    }\n",
              "\n",
              "    [theme=dark] .colab-df-convert {\n",
              "      background-color: #3B4455;\n",
              "      fill: #D2E3FC;\n",
              "    }\n",
              "\n",
              "    [theme=dark] .colab-df-convert:hover {\n",
              "      background-color: #434B5C;\n",
              "      box-shadow: 0px 1px 3px 1px rgba(0, 0, 0, 0.15);\n",
              "      filter: drop-shadow(0px 1px 2px rgba(0, 0, 0, 0.3));\n",
              "      fill: #FFFFFF;\n",
              "    }\n",
              "  </style>\n",
              "\n",
              "      <script>\n",
              "        const buttonEl =\n",
              "          document.querySelector('#df-950dfa39-ad09-4324-b4e6-2c2e36071da3 button.colab-df-convert');\n",
              "        buttonEl.style.display =\n",
              "          google.colab.kernel.accessAllowed ? 'block' : 'none';\n",
              "\n",
              "        async function convertToInteractive(key) {\n",
              "          const element = document.querySelector('#df-950dfa39-ad09-4324-b4e6-2c2e36071da3');\n",
              "          const dataTable =\n",
              "            await google.colab.kernel.invokeFunction('convertToInteractive',\n",
              "                                                     [key], {});\n",
              "          if (!dataTable) return;\n",
              "\n",
              "          const docLinkHtml = 'Like what you see? Visit the ' +\n",
              "            '<a target=\"_blank\" href=https://colab.research.google.com/notebooks/data_table.ipynb>data table notebook</a>'\n",
              "            + ' to learn more about interactive tables.';\n",
              "          element.innerHTML = '';\n",
              "          dataTable['output_type'] = 'display_data';\n",
              "          await google.colab.output.renderOutput(dataTable, element);\n",
              "          const docLink = document.createElement('div');\n",
              "          docLink.innerHTML = docLinkHtml;\n",
              "          element.appendChild(docLink);\n",
              "        }\n",
              "      </script>\n",
              "    </div>\n",
              "  </div>\n",
              "  "
            ]
          },
          "metadata": {},
          "execution_count": 50
        }
      ],
      "source": [
        "job_YearExperience.rename(columns={0: 'name YearExperience'}, inplace = True)\n",
        "# show 5 top head records of degree\n",
        "job_YearExperience.head()"
      ]
    },
    {
      "cell_type": "markdown",
      "metadata": {
        "id": "IOsod1TWr_Q7"
      },
      "source": [
        "# Remove data outline"
      ]
    },
    {
      "cell_type": "code",
      "execution_count": 51,
      "metadata": {
        "colab": {
          "base_uri": "https://localhost:8080/"
        },
        "id": "N3wq40hzr1_J",
        "outputId": "01fadc76-389a-4f23-b335-98387917b575"
      },
      "outputs": [
        {
          "output_type": "stream",
          "name": "stdout",
          "text": [
            "Index(['index', 'YearExperience'], dtype='object')\n",
            "(4318, 2)\n"
          ]
        }
      ],
      "source": [
        "print(job_YearExperience.columns)\n",
        "print(job_YearExperience.shape)"
      ]
    },
    {
      "cell_type": "code",
      "execution_count": 52,
      "metadata": {
        "colab": {
          "base_uri": "https://localhost:8080/",
          "height": 303
        },
        "id": "6ZAdWjbRsESU",
        "outputId": "d23f22ef-5e12-40af-8cf7-08ad2c4c3726"
      },
      "outputs": [
        {
          "output_type": "execute_result",
          "data": {
            "text/plain": [
              "<AxesSubplot:xlabel='YearExperience'>"
            ]
          },
          "metadata": {},
          "execution_count": 52
        },
        {
          "output_type": "display_data",
          "data": {
            "text/plain": [
              "<Figure size 432x288 with 1 Axes>"
            ],
            "image/png": "[encoded data removed]"
          },
          "metadata": {}
        }
      ],
      "source": [
        "sns.boxplot(x=job_YearExperience['YearExperience'])"
      ]
    },
    {
      "cell_type": "code",
      "execution_count": 53,
      "metadata": {
        "id": "zmmyGvqisHXZ"
      },
      "outputs": [],
      "source": [
        "job_YearExperience = job_YearExperience.loc[job_YearExperience['YearExperience'] < 10, :]"
      ]
    },
    {
      "cell_type": "code",
      "execution_count": 54,
      "metadata": {
        "id": "hM__ZKxhsKKm"
      },
      "outputs": [],
      "source": [
        "def visualze(column, data):\n",
        "  plt.figure(figsize = (20,10))\n",
        "\n",
        "  plt.subplot(1, 2, 1)\n",
        "  string_density = 'vẽ biểu đồ density phân phố của ' + column\n",
        "  plt.title(string_density)\n",
        "  sns.kdeplot(data[column] , bw = 0.5 , fill = True)\n",
        "  plt.subplot(1, 2, 2)\n",
        "  string_box = 'vẽ biểu đồ boxplot của '+ column\n",
        "  plt.title(string_box)\n",
        "  sns.boxplot(x=data[column])\n",
        "  plt.show()"
      ]
    },
    {
      "cell_type": "code",
      "execution_count": 55,
      "metadata": {
        "colab": {
          "base_uri": "https://localhost:8080/",
          "height": 684
        },
        "id": "m1EDBOYisOw4",
        "outputId": "9d203feb-0c2c-4e58-dd12-c5b146c9347d"
      },
      "outputs": [
        {
          "output_type": "stream",
          "name": "stderr",
          "text": [
            "/usr/local/lib/python3.9/dist-packages/seaborn/distributions.py:1699: FutureWarning: The `bw` parameter is deprecated in favor of `bw_method` and `bw_adjust`. Using 0.5 for `bw_method`, but please see the docs for the new parameters and update your code.\n",
            "  warnings.warn(msg, FutureWarning)\n"
          ]
        },
        {
          "output_type": "display_data",
          "data": {
            "text/plain": [
              "<Figure size 1440x720 with 2 Axes>"
            ],
            "image/png": "[encoded data removed]"
          },
          "metadata": {}
        }
      ],
      "source": [
        "visualze('YearExperience', job_YearExperience)"
      ]
    },
    {
      "cell_type": "code",
      "execution_count": 56,
      "metadata": {
        "id": "Q4U-ZhZrzOH1"
      },
      "outputs": [],
      "source": [
        "# Filter values is trend in data job_skill\n",
        "name_skill = ['metadata', 'sequenc', 'csdl', 'multithr', 'correl', 'refresh', 'tsql',\n",
        "              'maxim', 'explorat', 'cleans', 'metavers', 'probabl', 'chatbot', 'nlp',\n",
        "              'classif', 'boost', 'portabl', 'hypothes', 'reinforc', 'uiux', 'maitain'\n",
        "              ,'metastoc', 'psycholo', 'economet', 'threadha', 'ocr', 'bayesian']"
      ]
    },
    {
      "cell_type": "code",
      "execution_count": 57,
      "metadata": {
        "id": "uHBDb7MlvKA5"
      },
      "outputs": [],
      "source": [
        "mark = job_skill['Name Skill'].isin(name_skill)"
      ]
    },
    {
      "cell_type": "code",
      "execution_count": 58,
      "metadata": {
        "id": "IQCfbxXwzF6l"
      },
      "outputs": [],
      "source": [
        "job_skill.drop(job_skill[mark].index, inplace = True)"
      ]
    },
    {
      "cell_type": "code",
      "execution_count": 59,
      "metadata": {
        "id": "sz_Is_Jyy0Mg"
      },
      "outputs": [],
      "source": [
        "name_tool = job_tool['Name Tool'].value_counts()[55:].index\n",
        "mark_tool = job_tool['Name Tool'].isin(name_tool)\n",
        "job_tool.drop(job_tool[mark_tool].index, inplace = True)"
      ]
    },
    {
      "cell_type": "code",
      "execution_count": 60,
      "metadata": {
        "colab": {
          "base_uri": "https://localhost:8080/"
        },
        "id": "SRPm8og81oIS",
        "outputId": "e3b0b39f-de9c-4e0d-e5b4-5172db8f53a4"
      },
      "outputs": [
        {
          "output_type": "stream",
          "name": "stderr",
          "text": [
            "<ipython-input-60-6683a53d4de4>:5: SettingWithCopyWarning: \n",
            "A value is trying to be set on a copy of a slice from a DataFrame.\n",
            "Try using .loc[row_indexer,col_indexer] = value instead\n",
            "\n",
            "See the caveats in the documentation: https://pandas.pydata.org/pandas-docs/stable/user_guide/indexing.html#returning-a-view-versus-a-copy\n",
            "  job_degree['name degree'] = job_degree['name degree'].apply(lambda string: string.replace(string, degree_dict[string]) if ((string != None) & (string != 'undergraduate')) else string, '')\n"
          ]
        }
      ],
      "source": [
        "# grammatical normalization of the word\n",
        "job_skill['Name Skill'] = job_skill['Name Skill'].apply(lambda string: string.replace(string, skill_keywords_dict[string]) if string != None else string, '')\n",
        "job_tool['Name Tool'] = job_tool['Name Tool'].apply(lambda string: string.replace(string, tool_keywords_dict[string]) if string != None else string, '')\n",
        "job_level['name level'] = job_level['name level'].apply(lambda string: string.replace(string, level_dict[string]) if (string != None) else string, '')\n",
        "job_degree['name degree'] = job_degree['name degree'].apply(lambda string: string.replace(string, degree_dict[string]) if ((string != None) & (string != 'undergraduate')) else string, '')"
      ]
    },
    {
      "cell_type": "markdown",
      "metadata": {
        "id": "xoaH6W9D23_Q"
      },
      "source": [
        "# Visualization databases"
      ]
    },
    {
      "cell_type": "markdown",
      "metadata": {
        "id": "JbjDFdbv4r7F"
      },
      "source": [
        "## Title job at Viet Nam"
      ]
    },
    {
      "cell_type": "code",
      "execution_count": 61,
      "metadata": {
        "id": "a_A7L5yj4WxQ"
      },
      "outputs": [],
      "source": [
        "name = job['JobUrl'].value_counts().index\n",
        "values = job['JobUrl'].value_counts().values"
      ]
    },
    {
      "cell_type": "code",
      "execution_count": 62,
      "metadata": {
        "id": "wB4twHB_4Z2t"
      },
      "outputs": [],
      "source": [
        "lis = []\n",
        "for i in values:\n",
        "  lis.append(i*100/values.sum())"
      ]
    },
    {
      "cell_type": "code",
      "execution_count": 63,
      "metadata": {
        "colab": {
          "base_uri": "https://localhost:8080/",
          "height": 630
        },
        "id": "59ZII8yp2RJ2",
        "outputId": "f4364909-704c-4614-c636-dd2564c95ce1"
      },
      "outputs": [
        {
          "output_type": "stream",
          "name": "stderr",
          "text": [
            "<ipython-input-63-17d570702b1a>:22: MatplotlibDeprecationWarning: The 'b' parameter of grid() has been renamed 'visible' since Matplotlib 3.5; support for the old name will be dropped two minor releases later.\n",
            "  ax.grid(b = True, color ='grey',\n"
          ]
        },
        {
          "output_type": "display_data",
          "data": {
            "text/plain": [
              "<Figure size 1152x648 with 1 Axes>"
            ],
            "image/png": "[encoded data removed]"
          },
          "metadata": {}
        }
      ],
      "source": [
        "from tkinter.constants import BOTTOM\n",
        "\n",
        "# Figure Size\n",
        "fig, ax = plt.subplots(figsize =(16, 9))\n",
        " \n",
        "# Horizontal Bar Plot\n",
        "ax.barh(name, lis)\n",
        " \n",
        "# Remove axes splines\n",
        "for s in ['top', 'bottom', 'left', 'right']:\n",
        "    ax.spines[s].set_visible(False)\n",
        " \n",
        "# Remove x, y Ticks\n",
        "ax.xaxis.set_ticks_position('none')\n",
        "ax.yaxis.set_ticks_position('none')\n",
        " \n",
        "# Add padding between axes and labels\n",
        "ax.xaxis.set_tick_params(pad = 5)\n",
        "ax.yaxis.set_tick_params(pad = 10)\n",
        " \n",
        "# Add x, y gridlines\n",
        "ax.grid(b = True, color ='grey',\n",
        "        linestyle ='-.', linewidth = 0.5,\n",
        "        alpha = 0.2)\n",
        " \n",
        "# Show top values\n",
        "ax.invert_yaxis()\n",
        " \n",
        "# Add annotation to bars\n",
        "for i in ax.patches:\n",
        "    plt.text(i.get_width()+0.2, i.get_y()+0.5,\n",
        "             str(round((i.get_width()), 2)),\n",
        "             fontsize = 10, fontweight ='bold',\n",
        "             color ='grey')\n",
        " \n",
        "# Add Plot Title\n",
        "ax.set_title('Biểu đồ 1: Việc làm được phổ biến theo nhu cầu của các công ty \\nở Viêt Nam tuyển dụng năm 2023',\n",
        "             loc ='center' )\n",
        " \n",
        "# Add Text watermark\n",
        "fig.text(0.9, 0.15, 'tranhuuan', fontsize = 12,\n",
        "         color ='grey', ha ='right', va ='bottom',\n",
        "         alpha = 0.7)\n",
        "# Show Plot\n",
        "plt.show()"
      ]
    },
    {
      "cell_type": "markdown",
      "metadata": {
        "id": "C8SESZqG41-n"
      },
      "source": [
        "# Top 10 tools in information technology."
      ]
    },
    {
      "cell_type": "code",
      "execution_count": 64,
      "metadata": {
        "id": "3LbgSf4g4c7m"
      },
      "outputs": [],
      "source": [
        "tool = ['excel', 'scrum', 'azure',\n",
        "       'amazon', 'bootstrap', 'microsoft', 'git', 'winform', 'linux',\n",
        "       'docker', 'oracle', 'simulated', 'wordpress', 'photoshop',\n",
        "       'mariadb', 'tableau', 'websocket', 'django', 'ubuntu', 'scratch', 'word',\n",
        "       'unix', 'powerpoint', 'hadoop', 'powerbi']"
      ]
    },
    {
      "cell_type": "code",
      "execution_count": 65,
      "metadata": {
        "id": "7JkL-8E04-_u"
      },
      "outputs": [],
      "source": [
        "name = job_tool['Name Tool'].value_counts().index\n",
        "values = job_tool['Name Tool'].value_counts().values\n",
        "idx = []\n",
        "val = []\n",
        "for i, v in zip(name,values):\n",
        "  if tool.__contains__(i):\n",
        "    idx.append(i)\n",
        "    val.append(v)\n",
        "\n",
        "lis = []\n",
        "for i in val:\n",
        "  lis.append(i*100/sum(val))"
      ]
    },
    {
      "cell_type": "code",
      "execution_count": 66,
      "metadata": {
        "colab": {
          "base_uri": "https://localhost:8080/",
          "height": 630
        },
        "id": "Rz2i4Xcb5Bs-",
        "outputId": "a06c7635-5a69-4c8b-df7e-129a881edd3d"
      },
      "outputs": [
        {
          "output_type": "stream",
          "name": "stderr",
          "text": [
            "<ipython-input-66-f837258f8a2c>:20: MatplotlibDeprecationWarning: The 'b' parameter of grid() has been renamed 'visible' since Matplotlib 3.5; support for the old name will be dropped two minor releases later.\n",
            "  ax.grid(b = True, color ='grey',\n"
          ]
        },
        {
          "output_type": "display_data",
          "data": {
            "text/plain": [
              "<Figure size 1152x648 with 1 Axes>"
            ],
            "image/png": "[encoded data removed]"
          },
          "metadata": {}
        }
      ],
      "source": [
        "\n",
        "# Figure Size\n",
        "fig, ax = plt.subplots(figsize =(16, 9))\n",
        " \n",
        "# Horizontal Bar Plot\n",
        "ax.barh(idx[:10], lis[:10])\n",
        " \n",
        "# Remove axes splines\n",
        "for s in ['top', 'bottom', 'left', 'right']:\n",
        "    ax.spines[s].set_visible(False)\n",
        " \n",
        "# Remove x, y Ticks\n",
        "ax.xaxis.set_ticks_position('none')\n",
        "ax.yaxis.set_ticks_position('none')\n",
        " \n",
        "# Add padding between axes and labels\n",
        "ax.xaxis.set_tick_params(pad = 5)\n",
        "ax.yaxis.set_tick_params(pad = 10)\n",
        " \n",
        "# Add x, y gridlines\n",
        "ax.grid(b = True, color ='grey',\n",
        "        linestyle ='-.', linewidth = 0.5,\n",
        "        alpha = 0.2)\n",
        " \n",
        "# Show top values\n",
        "ax.invert_yaxis()\n",
        " \n",
        "# Add annotation to bars\n",
        "for i in ax.patches:\n",
        "    plt.text(i.get_width()+0.2, i.get_y()+0.5,\n",
        "             str(round((i.get_width()), 2)),\n",
        "             fontsize = 10, fontweight ='bold',\n",
        "             color ='grey')\n",
        " \n",
        "# Add Plot Title\n",
        "ax.set_title('Biểu đồ 2: các công cụ được phổ biến theo nhu cầu của các công ty \\nở Viêt Nam tuyển dụng năm 2023',\n",
        "             loc ='center' )\n",
        " \n",
        "# Add Text watermark\n",
        "fig.text(0.9, 0.15, 'tranhuuan', fontsize = 12,\n",
        "         color ='grey', ha ='right', va ='bottom',\n",
        "         alpha = 0.7)\n",
        "# Show Plot\n",
        "plt.show()"
      ]
    },
    {
      "cell_type": "markdown",
      "metadata": {
        "id": "crHWsaVH5O02"
      },
      "source": [
        "## Top 10 tech using than most."
      ]
    },
    {
      "cell_type": "code",
      "execution_count": 67,
      "metadata": {
        "colab": {
          "base_uri": "https://localhost:8080/"
        },
        "id": "N6s_GO8w5KyZ",
        "outputId": "fbc0e65f-392c-4dd8-8acc-e31c49b3e9df"
      },
      "outputs": [
        {
          "output_type": "stream",
          "name": "stderr",
          "text": [
            "<ipython-input-67-5158f94e792e>:1: FutureWarning: The default value of regex will change from True to False in a future version.\n",
            "  job_tool['Name Tool'] = job_tool['Name Tool'].str.replace('^js$', 'javascript')\n"
          ]
        }
      ],
      "source": [
        "job_tool['Name Tool'] = job_tool['Name Tool'].str.replace('^js$', 'javascript')"
      ]
    },
    {
      "cell_type": "code",
      "execution_count": 68,
      "metadata": {
        "id": "LCuASrqP5hNr"
      },
      "outputs": [],
      "source": [
        "tech = ['c', 'nodejs', 'python', 'reactjs', 'angularjs', 'typescript', 'java', 'javascript', 'php', 'c++',\n",
        "            'nestjs', 'scala', 'matlab', 'flutter']"
      ]
    },
    {
      "cell_type": "code",
      "execution_count": 69,
      "metadata": {
        "id": "VJkuBnLX5oq1"
      },
      "outputs": [],
      "source": [
        "name = job_tool[\"Name Tool\"].value_counts().index\n",
        "values = job_tool[\"Name Tool\"].value_counts().values\n",
        "idx = []\n",
        "val = []\n",
        "for i, v in zip(name,values):\n",
        "  if tech.__contains__(i):\n",
        "    idx.append(i)\n",
        "    val.append(v)\n",
        "lis = []\n",
        "for i in val:\n",
        "  lis.append(i*100/sum(val))"
      ]
    },
    {
      "cell_type": "code",
      "execution_count": 70,
      "metadata": {
        "colab": {
          "base_uri": "https://localhost:8080/",
          "height": 630
        },
        "id": "9OTTd-KT5rdg",
        "outputId": "f7734198-bd47-401c-b68c-172230f9c572"
      },
      "outputs": [
        {
          "output_type": "stream",
          "name": "stderr",
          "text": [
            "<ipython-input-70-39a6939efcaf>:20: MatplotlibDeprecationWarning: The 'b' parameter of grid() has been renamed 'visible' since Matplotlib 3.5; support for the old name will be dropped two minor releases later.\n",
            "  ax.grid(b = True, color ='grey',\n"
          ]
        },
        {
          "output_type": "display_data",
          "data": {
            "text/plain": [
              "<Figure size 1152x648 with 1 Axes>"
            ],
            "image/png": "[encoded data removed]"
          },
          "metadata": {}
        }
      ],
      "source": [
        "\n",
        "# Figure Size\n",
        "fig, ax = plt.subplots(figsize =(16, 9))\n",
        " \n",
        "# Horizontal Bar Plot\n",
        "ax.barh(idx[:13], lis[:13])\n",
        " \n",
        "# Remove axes splines\n",
        "for s in ['top', 'bottom', 'left', 'right']:\n",
        "    ax.spines[s].set_visible(False)\n",
        " \n",
        "# Remove x, y Ticks\n",
        "ax.xaxis.set_ticks_position('none')\n",
        "ax.yaxis.set_ticks_position('none')\n",
        " \n",
        "# Add padding between axes and labels\n",
        "ax.xaxis.set_tick_params(pad = 5)\n",
        "ax.yaxis.set_tick_params(pad = 10)\n",
        " \n",
        "# Add x, y gridlines\n",
        "ax.grid(b = True, color ='grey',\n",
        "        linestyle ='-.', linewidth = 0.5,\n",
        "        alpha = 0.2)\n",
        " \n",
        "# Show top values\n",
        "ax.invert_yaxis()\n",
        " \n",
        "# Add annotation to bars\n",
        "for i in ax.patches:\n",
        "    plt.text(i.get_width()+0.2, i.get_y()+0.5,\n",
        "             str(round((i.get_width()), 2)),\n",
        "             fontsize = 10, fontweight ='bold',\n",
        "             color ='grey')\n",
        " \n",
        "# Add Plot Title\n",
        "ax.set_title('Biểu đồ 1: ngôn ngữ được phổ biến theo nhu cầu của các công ty \\nở Viêt Nam tuyển dụng năm 2023',\n",
        "             loc ='center' )\n",
        " \n",
        "# Add Text watermark\n",
        "fig.text(0.9, 0.15, 'tranhuuan', fontsize = 12,\n",
        "         color ='grey', ha ='right', va ='bottom',\n",
        "         alpha = 0.7)\n",
        "# Show Plot\n",
        "plt.show()"
      ]
    },
    {
      "cell_type": "markdown",
      "metadata": {
        "id": "pOablcPk56Iq"
      },
      "source": [
        "## Soft skill"
      ]
    },
    {
      "cell_type": "code",
      "execution_count": 71,
      "metadata": {
        "id": "E0GaY7s25wa6"
      },
      "outputs": [],
      "source": [
        "soft_skill = ['english', 'teamwork', 'research', 'communicated', 'manager', 'organization','mindset', 'creativity', 'adaptability', 'negotiation']"
      ]
    },
    {
      "cell_type": "code",
      "execution_count": 72,
      "metadata": {
        "id": "HoF9SDMG58cr"
      },
      "outputs": [],
      "source": [
        "name = job_skill[\"Name Skill\"].value_counts().index\n",
        "values = job_skill[\"Name Skill\"].value_counts().values\n",
        "idx = []\n",
        "val = []\n",
        "for i, v in zip(name,values):\n",
        "  if soft_skill.__contains__(i):\n",
        "    idx.append(i)\n",
        "    val.append(v)\n",
        "lis = []\n",
        "for i in val:\n",
        "  lis.append(i*100/sum(val))"
      ]
    },
    {
      "cell_type": "code",
      "execution_count": 73,
      "metadata": {
        "colab": {
          "base_uri": "https://localhost:8080/",
          "height": 630
        },
        "id": "wLvcY4Re5-U7",
        "outputId": "73de9e45-bb3f-46a2-f579-36de410bae87"
      },
      "outputs": [
        {
          "output_type": "stream",
          "name": "stderr",
          "text": [
            "<ipython-input-73-7c40b0f77ba9>:20: MatplotlibDeprecationWarning: The 'b' parameter of grid() has been renamed 'visible' since Matplotlib 3.5; support for the old name will be dropped two minor releases later.\n",
            "  ax.grid(b = True, color ='grey',\n"
          ]
        },
        {
          "output_type": "display_data",
          "data": {
            "text/plain": [
              "<Figure size 1152x648 with 1 Axes>"
            ],
            "image/png": "[encoded data removed]"
          },
          "metadata": {}
        }
      ],
      "source": [
        "\n",
        "# Figure Size\n",
        "fig, ax = plt.subplots(figsize =(16, 9))\n",
        " \n",
        "# Horizontal Bar Plot\n",
        "ax.barh(idx[:13], lis[:13])\n",
        " \n",
        "# Remove axes splines\n",
        "for s in ['top', 'bottom', 'left', 'right']:\n",
        "    ax.spines[s].set_visible(False)\n",
        " \n",
        "# Remove x, y Ticks\n",
        "ax.xaxis.set_ticks_position('none')\n",
        "ax.yaxis.set_ticks_position('none')\n",
        " \n",
        "# Add padding between axes and labels\n",
        "ax.xaxis.set_tick_params(pad = 5)\n",
        "ax.yaxis.set_tick_params(pad = 10)\n",
        " \n",
        "# Add x, y gridlines\n",
        "ax.grid(b = True, color ='grey',\n",
        "        linestyle ='-.', linewidth = 0.5,\n",
        "        alpha = 0.2)\n",
        " \n",
        "# Show top values\n",
        "ax.invert_yaxis()\n",
        " \n",
        "# Add annotation to bars\n",
        "for i in ax.patches:\n",
        "    plt.text(i.get_width()+0.2, i.get_y()+0.5,\n",
        "             str(round((i.get_width()), 2)),\n",
        "             fontsize = 10, fontweight ='bold',\n",
        "             color ='grey')\n",
        " \n",
        "# Add Plot Title\n",
        "ax.set_title('Biểu đồ 1: các kĩ năng mềm được phổ biến theo nhu cầu của các công ty \\nở Viêt Nam tuyển dụng năm 2023',\n",
        "             loc ='center' )\n",
        " \n",
        "# Add Text watermark\n",
        "fig.text(0.9, 0.15, 'tranhuuan', fontsize = 12,\n",
        "         color ='grey', ha ='right', va ='bottom',\n",
        "         alpha = 0.7)\n",
        "# Show Plot\n",
        "plt.show()"
      ]
    },
    {
      "cell_type": "markdown",
      "metadata": {
        "id": "9_BFzjtX6Kew"
      },
      "source": [
        "## Top 10 Technical skill"
      ]
    },
    {
      "cell_type": "code",
      "execution_count": 74,
      "metadata": {
        "id": "kIk_NUbg6ET8"
      },
      "outputs": [],
      "source": [
        "technical_skill = [ 'sql', 'design', 'coding', 'analytic',\n",
        "       'databases', 'test', 'network', 'virtualization']"
      ]
    },
    {
      "cell_type": "code",
      "execution_count": 75,
      "metadata": {
        "id": "B6BBgo3c6Per"
      },
      "outputs": [],
      "source": [
        "\n",
        "name = job_skill['Name Skill'].value_counts().index\n",
        "values = job_skill['Name Skill'].value_counts().values\n",
        "idx = []\n",
        "val = []\n",
        "for i, v in zip(name,values):\n",
        "  if technical_skill.__contains__(i):\n",
        "    idx.append(i)\n",
        "    val.append(v)\n",
        "lis = []\n",
        "for i in val:\n",
        "  lis.append(i*100/sum(val))"
      ]
    },
    {
      "cell_type": "code",
      "execution_count": 76,
      "metadata": {
        "colab": {
          "base_uri": "https://localhost:8080/",
          "height": 630
        },
        "id": "aBJ6uXyU6QKP",
        "outputId": "f43f06d7-2006-4f81-a5db-c53ebfee3c2c"
      },
      "outputs": [
        {
          "output_type": "stream",
          "name": "stderr",
          "text": [
            "<ipython-input-76-6610a2bf6208>:20: MatplotlibDeprecationWarning: The 'b' parameter of grid() has been renamed 'visible' since Matplotlib 3.5; support for the old name will be dropped two minor releases later.\n",
            "  ax.grid(b = True, color ='grey',\n"
          ]
        },
        {
          "output_type": "display_data",
          "data": {
            "text/plain": [
              "<Figure size 1152x648 with 1 Axes>"
            ],
            "image/png": "[encoded data removed]"
          },
          "metadata": {}
        }
      ],
      "source": [
        "\n",
        "# Figure Size\n",
        "fig, ax = plt.subplots(figsize =(16, 9))\n",
        " \n",
        "# Horizontal Bar Plot\n",
        "ax.barh(idx[:13], lis[:13])\n",
        " \n",
        "# Remove axes splines\n",
        "for s in ['top', 'bottom', 'left', 'right']:\n",
        "    ax.spines[s].set_visible(False)\n",
        " \n",
        "# Remove x, y Ticks\n",
        "ax.xaxis.set_ticks_position('none')\n",
        "ax.yaxis.set_ticks_position('none')\n",
        " \n",
        "# Add padding between axes and labels\n",
        "ax.xaxis.set_tick_params(pad = 5)\n",
        "ax.yaxis.set_tick_params(pad = 10)\n",
        " \n",
        "# Add x, y gridlines\n",
        "ax.grid(b = True, color ='grey',\n",
        "        linestyle ='-.', linewidth = 0.5,\n",
        "        alpha = 0.2)\n",
        " \n",
        "# Show top values\n",
        "ax.invert_yaxis()\n",
        " \n",
        "# Add annotation to bars\n",
        "for i in ax.patches:\n",
        "    plt.text(i.get_width()+0.2, i.get_y()+0.5,\n",
        "             str(round((i.get_width()), 2)),\n",
        "             fontsize = 10, fontweight ='bold',\n",
        "             color ='grey')\n",
        " \n",
        "# Add Plot Title\n",
        "ax.set_title('Biểu đồ 1: Technical skill được phổ biến theo nhu cầu của các công ty \\nở Viêt Nam tuyển dụng năm 2023',\n",
        "             loc ='center' )\n",
        " \n",
        "# Add Text watermark\n",
        "fig.text(0.9, 0.15, 'tranhuuan', fontsize = 12,\n",
        "         color ='grey', ha ='right', va ='bottom',\n",
        "         alpha = 0.7)\n",
        "# Show Plot\n",
        "plt.show()"
      ]
    },
    {
      "cell_type": "markdown",
      "metadata": {
        "id": "qn4sxZh18r6s"
      },
      "source": [
        "## Percentage degree."
      ]
    },
    {
      "cell_type": "code",
      "execution_count": 77,
      "metadata": {
        "id": "PL6iDXRi9M5n"
      },
      "outputs": [],
      "source": [
        "vs_degree = job.merge(job_degree, how='left', left_on='index', right_on='index')\n"
      ]
    },
    {
      "cell_type": "code",
      "execution_count": 78,
      "metadata": {
        "id": "NbYLWBt46V5b"
      },
      "outputs": [],
      "source": [
        "vs_degree = vs_degree[['index', 'name degree']]"
      ]
    },
    {
      "cell_type": "code",
      "execution_count": 79,
      "metadata": {
        "id": "YNjDTlHP8qvY"
      },
      "outputs": [],
      "source": [
        "vs_degree['y/n degree'] = vs_degree['name degree'].apply(lambda string: 'Yes' if str(string) != 'nan' else 'No', '')"
      ]
    },
    {
      "cell_type": "code",
      "execution_count": 80,
      "metadata": {
        "colab": {
          "base_uri": "https://localhost:8080/",
          "height": 575
        },
        "id": "bGKmgvEy99YT",
        "outputId": "da43773c-2789-4fbd-e4be-02a7cbac3f45"
      },
      "outputs": [
        {
          "output_type": "display_data",
          "data": {
            "text/plain": [
              "<Figure size 1440x720 with 1 Axes>"
            ],
            "image/png": "[encoded data removed]"
          },
          "metadata": {}
        }
      ],
      "source": [
        "degreeX = vs_degree['y/n degree'].value_counts()\n",
        "fig = plt.figure(figsize=(20,10))\n",
        "plt.pie(degreeX.values, labels=degreeX.index, autopct='%1.1f%%',\n",
        "       )\n",
        "plt.show()"
      ]
    },
    {
      "cell_type": "markdown",
      "metadata": {
        "id": "DOOrE1bUo57C"
      },
      "source": [
        "theo số liệu thống kê ở hình trên. Tỉ lệ mà bài tuyển dụng yêu cầu bằng cấp là 68.7%. Hỏi số liêu này có phù hợp với giả thuyết hay không hay nó sẽ lớn hơn 68.7%?<br>\n",
        "- H0: p=0.687\n",
        "- H1: p> 0.687<br>\n",
        " ta có tổng số là 5685 trong đó 3906 số lượng yêu cầu bằng cấp<br>\n",
        " "
      ]
    },
    {
      "cell_type": "code",
      "source": [
        "vs_degree.loc[vs_degree['y/n degree'] == 'Yes', :].shape"
      ],
      "metadata": {
        "colab": {
          "base_uri": "https://localhost:8080/"
        },
        "id": "4LpzSSmcTGJ_",
        "outputId": "f33a8547-f5c7-4768-871d-bc9247e13709"
      },
      "execution_count": 81,
      "outputs": [
        {
          "output_type": "execute_result",
          "data": {
            "text/plain": [
              "(3906, 3)"
            ]
          },
          "metadata": {},
          "execution_count": 81
        }
      ]
    },
    {
      "cell_type": "code",
      "source": [
        "print('Tỉ lệ f: ', 3906/5685)"
      ],
      "metadata": {
        "colab": {
          "base_uri": "https://localhost:8080/"
        },
        "id": "GfUi4-wzX9uP",
        "outputId": "a66c0e37-2f82-41e6-da5b-9ca51e520d40"
      },
      "execution_count": 82,
      "outputs": [
        {
          "output_type": "stream",
          "name": "stdout",
          "text": [
            "Tỉ lệ f:  0.6870712401055409\n"
          ]
        }
      ]
    },
    {
      "cell_type": "code",
      "source": [
        "((0.687-0.55)*math.sqrt(5685))/math.sqrt(1-0.687)"
      ],
      "metadata": {
        "colab": {
          "base_uri": "https://localhost:8080/"
        },
        "id": "md0WTk3TaQMS",
        "outputId": "b16d8c81-43c3-483f-e790-c7ac451a6b1f"
      },
      "execution_count": 83,
      "outputs": [
        {
          "output_type": "execute_result",
          "data": {
            "text/plain": [
              "18.463483086019597"
            ]
          },
          "metadata": {},
          "execution_count": 83
        }
      ]
    },
    {
      "cell_type": "markdown",
      "source": [
        "miền bác bỏ H0 sẽ nằm trong (-v  cùng, -1.96) hoặc (1.96, vô cùng)\n",
        "\n",
        "kết luận: giả thuyết H0 bị bác bỏ."
      ],
      "metadata": {
        "id": "sXhjBe5xddJO"
      }
    },
    {
      "cell_type": "code",
      "source": [
        "from statsmodels.stats.proportion import proportions_ztest"
      ],
      "metadata": {
        "id": "paHmXuKcXfMT"
      },
      "execution_count": 84,
      "outputs": []
    },
    {
      "cell_type": "code",
      "source": [
        "#perform one proportion z-test\n",
        "proportions_ztest(count=0.687, nobs=5685, value=0.55)"
      ],
      "metadata": {
        "colab": {
          "base_uri": "https://localhost:8080/"
        },
        "id": "4UFWQqohXgLR",
        "outputId": "75709c95-c4ef-4b67-e8f1-94e76a51b666"
      },
      "execution_count": 85,
      "outputs": [
        {
          "output_type": "execute_result",
          "data": {
            "text/plain": [
              "(-3771.7734596173214, 0.0)"
            ]
          },
          "metadata": {},
          "execution_count": 85
        }
      ]
    },
    {
      "cell_type": "markdown",
      "source": [
        "Với z-statics = 0.0115 và p-value=0.99 => không đủ cơ sở để bác bỏ giả thuyết H0"
      ],
      "metadata": {
        "id": "jQOneMpDYjLS"
      }
    },
    {
      "cell_type": "markdown",
      "metadata": {
        "id": "wF3l32VR-t1I"
      },
      "source": [
        "## Location jobs."
      ]
    },
    {
      "cell_type": "code",
      "execution_count": 86,
      "metadata": {
        "colab": {
          "base_uri": "https://localhost:8080/"
        },
        "id": "wAtUiWVx-cBK",
        "outputId": "9a105466-288d-4015-c018-82e79b55c24d"
      },
      "outputs": [
        {
          "output_type": "execute_result",
          "data": {
            "text/plain": [
              "thành phố hồ chí minh    2733\n",
              "hà nội                   1059\n",
              "đà nẵng                   200\n",
              "việt nam                  172\n",
              "remote                     32\n",
              "đắk lắk                    24\n",
              "nha trang                  17\n",
              "thừa thiên - huế           12\n",
              "đồng nai                    9\n",
              "gò vấp                      9\n",
              "quận 7                      8\n",
              "bình dương                  7\n",
              "cần thơ                     5\n",
              "bắc ninh                    4\n",
              "khánh hòa                   4\n",
              "hưng yên                    3\n",
              "bình định                   3\n",
              "thủ đức                     3\n",
              "long an                     2\n",
              "thuận an                    2\n",
              "thủ dầu một                 1\n",
              "long thành                  1\n",
              "an giang                    1\n",
              "hòa bình                    1\n",
              "huế                         1\n",
              "hạ long                     1\n",
              "đà lạt                      1\n",
              "quảng ngãi                  1\n",
              "hải phòng                   1\n",
              "hải dương                   1\n",
              "Name: Location, dtype: int64"
            ]
          },
          "metadata": {},
          "execution_count": 86
        }
      ],
      "source": [
        "job['Location'].value_counts()"
      ]
    },
    {
      "cell_type": "code",
      "execution_count": 87,
      "metadata": {
        "colab": {
          "base_uri": "https://localhost:8080/",
          "height": 575
        },
        "id": "npDTr6cX_bSC",
        "outputId": "af27092b-9a55-4b13-a7b2-2f03c0e5a77e"
      },
      "outputs": [
        {
          "output_type": "display_data",
          "data": {
            "text/plain": [
              "<Figure size 720x720 with 1 Axes>"
            ],
            "image/png": "[encoded data removed]"
          },
          "metadata": {}
        }
      ],
      "source": [
        "explode = [63.76, 24.52, 4.63, 7.1]\n",
        "labels = ['TP HCM', 'Hà Nội', 'Đà Nẵng', 'Khác']\n",
        "fig = plt.figure(figsize=(10,10))\n",
        "plt.pie(explode, labels=labels, autopct='%1.1f%%',\n",
        "       )\n",
        "plt.savefig('chart1_pieChart.png')"
      ]
    },
    {
      "cell_type": "markdown",
      "metadata": {
        "id": "u-klNwHtAQMw"
      },
      "source": [
        "## Degree by level."
      ]
    },
    {
      "cell_type": "code",
      "execution_count": 88,
      "metadata": {
        "id": "P9w_o5_RAJcu"
      },
      "outputs": [],
      "source": [
        "# visualization data level by degree\n",
        "data_vs_level = job.merge(job_level, how='left', left_on='index', right_on='index')\n",
        "data_vs_level = data_vs_level.merge(job_YearExperience, how='left', left_on='index', right_on='index').rename(columns={0:'YearExperience'})\n",
        "data_vs_level = data_vs_level.merge(job_degree, how='left', left_on='index', right_on='index').rename(columns={0:'degree'})"
      ]
    },
    {
      "cell_type": "code",
      "execution_count": 89,
      "metadata": {
        "colab": {
          "base_uri": "https://localhost:8080/",
          "height": 467
        },
        "id": "bwgUrk_wApEx",
        "outputId": "c1c36636-e042-45f2-dbd7-485e47dfb951"
      },
      "outputs": [
        {
          "output_type": "execute_result",
          "data": {
            "text/plain": [
              "     index                                           JobTitle  \\\n",
              "0        0                                     .Net Developer   \n",
              "1        1                         Intern / Fresher Developer   \n",
              "2        2               .NET Developer (Middle/Senior level)   \n",
              "3        3                      Jun/Mid/Senior .NET Developer   \n",
              "4        3                      Jun/Mid/Senior .NET Developer   \n",
              "...    ...                                                ...   \n",
              "8077  4376              [HÀ NỘI] SENIOR/ MIDDLE RUBY ON RAILS   \n",
              "8078  4377  Lập Trình Viên Fullstack (PHP, MYSQL, React) S...   \n",
              "8079  4378            Senior Fullstack Engineer (Java, React)   \n",
              "8080  4378            Senior Fullstack Engineer (Java, React)   \n",
              "8081  4378            Senior Fullstack Engineer (Java, React)   \n",
              "\n",
              "                Company               Location  \\\n",
              "0              SmartDev                đà nẵng   \n",
              "1        DXC Technology  thành phố hồ chí minh   \n",
              "2                 SIOUX                đà nẵng   \n",
              "3     Saigon Technology                đà nẵng   \n",
              "4     Saigon Technology                đà nẵng   \n",
              "...                 ...                    ...   \n",
              "8077  Việc Ơi It Client                 hà nội   \n",
              "8078     JobsGO Recruit  thành phố hồ chí minh   \n",
              "8079             Zühlke  thành phố hồ chí minh   \n",
              "8080             Zühlke  thành phố hồ chí minh   \n",
              "8081             Zühlke  thành phố hồ chí minh   \n",
              "\n",
              "                                                Summary  \\\n",
              "0     compani descript smartdev is a lead provid of ...   \n",
              "1     overview : how would you like to join an inter...   \n",
              "2     sioux group wa found in 1996 in the netherland...   \n",
              "3     up to $ 2,200 junior , middl , senior da nang ...   \n",
              "4     up to $ 2,200 junior , middl , senior da nang ...   \n",
              "...                                                 ...   \n",
              "8077  giới thiệu : việc ơi it client là công ty 100 ...   \n",
              "8078  mô tả công việc : ( mức lương : thỏa thuận ) d...   \n",
              "8079  perman full-tim ho chi minh citi softwar engin...   \n",
              "8080  perman full-tim ho chi minh citi softwar engin...   \n",
              "8081  perman full-tim ho chi minh citi softwar engin...   \n",
              "\n",
              "                        JobUrl name level  YearExperience    name degree  \n",
              "0               .NET Developer    manager             0.0            NaN  \n",
              "1               .NET Developer        NaN             0.0       graduate  \n",
              "2               .NET Developer        NaN             4.0       bachelor  \n",
              "3               .NET Developer     senior             2.0         master  \n",
              "4               .NET Developer     senior             2.0    certificate  \n",
              "...                        ...        ...             ...            ...  \n",
              "8077  Full Stack Web Developer     leader             2.0  undergraduate  \n",
              "8078  Full Stack Web Developer     senior             3.0            NaN  \n",
              "8079  Full Stack Web Developer     senior             5.0    certificate  \n",
              "8080  Full Stack Web Developer     senior             5.0         master  \n",
              "8081  Full Stack Web Developer     senior             5.0       bachelor  \n",
              "\n",
              "[8082 rows x 9 columns]"
            ],
            "text/html": [
              "\n",
              "  <div id=\"df-85f4c415-b94b-425b-a687-f3d4a48bf750\">\n",
              "    <div class=\"colab-df-container\">\n",
              "      <div>\n",
              "<style scoped>\n",
              "    .dataframe tbody tr th:only-of-type {\n",
              "        vertical-align: middle;\n",
              "    }\n",
              "\n",
              "    .dataframe tbody tr th {\n",
              "        vertical-align: top;\n",
              "    }\n",
              "\n",
              "    .dataframe thead th {\n",
              "        text-align: right;\n",
              "    }\n",
              "</style>\n",
              "<table border=\"1\" class=\"dataframe\">\n",
              "  <thead>\n",
              "    <tr style=\"text-align: right;\">\n",
              "      <th></th>\n",
              "      <th>index</th>\n",
              "      <th>JobTitle</th>\n",
              "      <th>Company</th>\n",
              "      <th>Location</th>\n",
              "      <th>Summary</th>\n",
              "      <th>JobUrl</th>\n",
              "      <th>name level</th>\n",
              "      <th>YearExperience</th>\n",
              "      <th>name degree</th>\n",
              "    </tr>\n",
              "  </thead>\n",
              "  <tbody>\n",
              "    <tr>\n",
              "      <th>0</th>\n",
              "      <td>0</td>\n",
              "      <td>.Net Developer</td>\n",
              "      <td>SmartDev</td>\n",
              "      <td>đà nẵng</td>\n",
              "      <td>compani descript smartdev is a lead provid of ...</td>\n",
              "      <td>.NET Developer</td>\n",
              "      <td>manager</td>\n",
              "      <td>0.0</td>\n",
              "      <td>NaN</td>\n",
              "    </tr>\n",
              "    <tr>\n",
              "      <th>1</th>\n",
              "      <td>1</td>\n",
              "      <td>Intern / Fresher Developer</td>\n",
              "      <td>DXC Technology</td>\n",
              "      <td>thành phố hồ chí minh</td>\n",
              "      <td>overview : how would you like to join an inter...</td>\n",
              "      <td>.NET Developer</td>\n",
              "      <td>NaN</td>\n",
              "      <td>0.0</td>\n",
              "      <td>graduate</td>\n",
              "    </tr>\n",
              "    <tr>\n",
              "      <th>2</th>\n",
              "      <td>2</td>\n",
              "      <td>.NET Developer (Middle/Senior level)</td>\n",
              "      <td>SIOUX</td>\n",
              "      <td>đà nẵng</td>\n",
              "      <td>sioux group wa found in 1996 in the netherland...</td>\n",
              "      <td>.NET Developer</td>\n",
              "      <td>NaN</td>\n",
              "      <td>4.0</td>\n",
              "      <td>bachelor</td>\n",
              "    </tr>\n",
              "    <tr>\n",
              "      <th>3</th>\n",
              "      <td>3</td>\n",
              "      <td>Jun/Mid/Senior .NET Developer</td>\n",
              "      <td>Saigon Technology</td>\n",
              "      <td>đà nẵng</td>\n",
              "      <td>up to $ 2,200 junior , middl , senior da nang ...</td>\n",
              "      <td>.NET Developer</td>\n",
              "      <td>senior</td>\n",
              "      <td>2.0</td>\n",
              "      <td>master</td>\n",
              "    </tr>\n",
              "    <tr>\n",
              "      <th>4</th>\n",
              "      <td>3</td>\n",
              "      <td>Jun/Mid/Senior .NET Developer</td>\n",
              "      <td>Saigon Technology</td>\n",
              "      <td>đà nẵng</td>\n",
              "      <td>up to $ 2,200 junior , middl , senior da nang ...</td>\n",
              "      <td>.NET Developer</td>\n",
              "      <td>senior</td>\n",
              "      <td>2.0</td>\n",
              "      <td>certificate</td>\n",
              "    </tr>\n",
              "    <tr>\n",
              "      <th>...</th>\n",
              "      <td>...</td>\n",
              "      <td>...</td>\n",
              "      <td>...</td>\n",
              "      <td>...</td>\n",
              "      <td>...</td>\n",
              "      <td>...</td>\n",
              "      <td>...</td>\n",
              "      <td>...</td>\n",
              "      <td>...</td>\n",
              "    </tr>\n",
              "    <tr>\n",
              "      <th>8077</th>\n",
              "      <td>4376</td>\n",
              "      <td>[HÀ NỘI] SENIOR/ MIDDLE RUBY ON RAILS</td>\n",
              "      <td>Việc Ơi It Client</td>\n",
              "      <td>hà nội</td>\n",
              "      <td>giới thiệu : việc ơi it client là công ty 100 ...</td>\n",
              "      <td>Full Stack Web Developer</td>\n",
              "      <td>leader</td>\n",
              "      <td>2.0</td>\n",
              "      <td>undergraduate</td>\n",
              "    </tr>\n",
              "    <tr>\n",
              "      <th>8078</th>\n",
              "      <td>4377</td>\n",
              "      <td>Lập Trình Viên Fullstack (PHP, MYSQL, React) S...</td>\n",
              "      <td>JobsGO Recruit</td>\n",
              "      <td>thành phố hồ chí minh</td>\n",
              "      <td>mô tả công việc : ( mức lương : thỏa thuận ) d...</td>\n",
              "      <td>Full Stack Web Developer</td>\n",
              "      <td>senior</td>\n",
              "      <td>3.0</td>\n",
              "      <td>NaN</td>\n",
              "    </tr>\n",
              "    <tr>\n",
              "      <th>8079</th>\n",
              "      <td>4378</td>\n",
              "      <td>Senior Fullstack Engineer (Java, React)</td>\n",
              "      <td>Zühlke</td>\n",
              "      <td>thành phố hồ chí minh</td>\n",
              "      <td>perman full-tim ho chi minh citi softwar engin...</td>\n",
              "      <td>Full Stack Web Developer</td>\n",
              "      <td>senior</td>\n",
              "      <td>5.0</td>\n",
              "      <td>certificate</td>\n",
              "    </tr>\n",
              "    <tr>\n",
              "      <th>8080</th>\n",
              "      <td>4378</td>\n",
              "      <td>Senior Fullstack Engineer (Java, React)</td>\n",
              "      <td>Zühlke</td>\n",
              "      <td>thành phố hồ chí minh</td>\n",
              "      <td>perman full-tim ho chi minh citi softwar engin...</td>\n",
              "      <td>Full Stack Web Developer</td>\n",
              "      <td>senior</td>\n",
              "      <td>5.0</td>\n",
              "      <td>master</td>\n",
              "    </tr>\n",
              "    <tr>\n",
              "      <th>8081</th>\n",
              "      <td>4378</td>\n",
              "      <td>Senior Fullstack Engineer (Java, React)</td>\n",
              "      <td>Zühlke</td>\n",
              "      <td>thành phố hồ chí minh</td>\n",
              "      <td>perman full-tim ho chi minh citi softwar engin...</td>\n",
              "      <td>Full Stack Web Developer</td>\n",
              "      <td>senior</td>\n",
              "      <td>5.0</td>\n",
              "      <td>bachelor</td>\n",
              "    </tr>\n",
              "  </tbody>\n",
              "</table>\n",
              "<p>8082 rows × 9 columns</p>\n",
              "</div>\n",
              "      <button class=\"colab-df-convert\" onclick=\"convertToInteractive('df-85f4c415-b94b-425b-a687-f3d4a48bf750')\"\n",
              "              title=\"Convert this dataframe to an interactive table.\"\n",
              "              style=\"display:none;\">\n",
              "        \n",
              "  <svg xmlns=\"http://www.w3.org/2000/svg\" height=\"24px\"viewBox=\"0 0 24 24\"\n",
              "       width=\"24px\">\n",
              "    <path d=\"M0 0h24v24H0V0z\" fill=\"none\"/>\n",
              "    <path d=\"M18.56 5.44l.94 2.06.94-2.06 2.06-.94-2.06-.94-.94-2.06-.94 2.06-2.06.94zm-11 1L8.5 8.5l.94-2.06 2.06-.94-2.06-.94L8.5 2.5l-.94 2.06-2.06.94zm10 10l.94 2.06.94-2.06 2.06-.94-2.06-.94-.94-2.06-.94 2.06-2.06.94z\"/><path d=\"M17.41 7.96l-1.37-1.37c-.4-.4-.92-.59-1.43-.59-.52 0-1.04.2-1.43.59L10.3 9.45l-7.72 7.72c-.78.78-.78 2.05 0 2.83L4 21.41c.39.39.9.59 1.41.59.51 0 1.02-.2 1.41-.59l7.78-7.78 2.81-2.81c.8-.78.8-2.07 0-2.86zM5.41 20L4 18.59l7.72-7.72 1.47 1.35L5.41 20z\"/>\n",
              "  </svg>\n",
              "      </button>\n",
              "      \n",
              "  <style>\n",
              "    .colab-df-container {\n",
              "      display:flex;\n",
              "      flex-wrap:wrap;\n",
              "      gap: 12px;\n",
              "    }\n",
              "\n",
              "    .colab-df-convert {\n",
              "      background-color: #E8F0FE;\n",
              "      border: none;\n",
              "      border-radius: 50%;\n",
              "      cursor: pointer;\n",
              "      display: none;\n",
              "      fill: #1967D2;\n",
              "      height: 32px;\n",
              "      padding: 0 0 0 0;\n",
              "      width: 32px;\n",
              "    }\n",
              "\n",
              "    .colab-df-convert:hover {\n",
              "      background-color: #E2EBFA;\n",
              "      box-shadow: 0px 1px 2px rgba(60, 64, 67, 0.3), 0px 1px 3px 1px rgba(60, 64, 67, 0.15);\n",
              "      fill: #174EA6;\n",
              "    }\n",
              "\n",
              "    [theme=dark] .colab-df-convert {\n",
              "      background-color: #3B4455;\n",
              "      fill: #D2E3FC;\n",
              "    }\n",
              "\n",
              "    [theme=dark] .colab-df-convert:hover {\n",
              "      background-color: #434B5C;\n",
              "      box-shadow: 0px 1px 3px 1px rgba(0, 0, 0, 0.15);\n",
              "      filter: drop-shadow(0px 1px 2px rgba(0, 0, 0, 0.3));\n",
              "      fill: #FFFFFF;\n",
              "    }\n",
              "  </style>\n",
              "\n",
              "      <script>\n",
              "        const buttonEl =\n",
              "          document.querySelector('#df-85f4c415-b94b-425b-a687-f3d4a48bf750 button.colab-df-convert');\n",
              "        buttonEl.style.display =\n",
              "          google.colab.kernel.accessAllowed ? 'block' : 'none';\n",
              "\n",
              "        async function convertToInteractive(key) {\n",
              "          const element = document.querySelector('#df-85f4c415-b94b-425b-a687-f3d4a48bf750');\n",
              "          const dataTable =\n",
              "            await google.colab.kernel.invokeFunction('convertToInteractive',\n",
              "                                                     [key], {});\n",
              "          if (!dataTable) return;\n",
              "\n",
              "          const docLinkHtml = 'Like what you see? Visit the ' +\n",
              "            '<a target=\"_blank\" href=https://colab.research.google.com/notebooks/data_table.ipynb>data table notebook</a>'\n",
              "            + ' to learn more about interactive tables.';\n",
              "          element.innerHTML = '';\n",
              "          dataTable['output_type'] = 'display_data';\n",
              "          await google.colab.output.renderOutput(dataTable, element);\n",
              "          const docLink = document.createElement('div');\n",
              "          docLink.innerHTML = docLinkHtml;\n",
              "          element.appendChild(docLink);\n",
              "        }\n",
              "      </script>\n",
              "    </div>\n",
              "  </div>\n",
              "  "
            ]
          },
          "metadata": {},
          "execution_count": 89
        }
      ],
      "source": [
        "data_vs_level"
      ]
    },
    {
      "cell_type": "code",
      "execution_count": 90,
      "metadata": {
        "colab": {
          "base_uri": "https://localhost:8080/"
        },
        "id": "3MEVxF72Aqsi",
        "outputId": "0340a108-747e-4aa6-c435-e90cbb5b1755"
      },
      "outputs": [
        {
          "output_type": "execute_result",
          "data": {
            "text/plain": [
              "array(['manager', nan, 'senior', 'middle', 'junior', 'fresher', 'leader',\n",
              "       'architect', 'intership'], dtype=object)"
            ]
          },
          "metadata": {},
          "execution_count": 90
        }
      ],
      "source": [
        "data_vs_level['name level'].unique()"
      ]
    },
    {
      "cell_type": "code",
      "execution_count": 91,
      "metadata": {
        "colab": {
          "base_uri": "https://localhost:8080/"
        },
        "id": "KevP-sOAA3T3",
        "outputId": "68186bfa-c516-41ce-ece8-55576bc261fb"
      },
      "outputs": [
        {
          "output_type": "stream",
          "name": "stderr",
          "text": [
            "<ipython-input-91-f2cf66d51619>:4: SettingWithCopyWarning: \n",
            "A value is trying to be set on a copy of a slice from a DataFrame\n",
            "\n",
            "See the caveats in the documentation: https://pandas.pydata.org/pandas-docs/stable/user_guide/indexing.html#returning-a-view-versus-a-copy\n",
            "  data_vs_level['name level'][indx] = 'intership/ fresher'\n",
            "<ipython-input-91-f2cf66d51619>:8: SettingWithCopyWarning: \n",
            "A value is trying to be set on a copy of a slice from a DataFrame\n",
            "\n",
            "See the caveats in the documentation: https://pandas.pydata.org/pandas-docs/stable/user_guide/indexing.html#returning-a-view-versus-a-copy\n",
            "  data_vs_level['name level'][indx] = 'senior'\n",
            "<ipython-input-91-f2cf66d51619>:6: SettingWithCopyWarning: \n",
            "A value is trying to be set on a copy of a slice from a DataFrame\n",
            "\n",
            "See the caveats in the documentation: https://pandas.pydata.org/pandas-docs/stable/user_guide/indexing.html#returning-a-view-versus-a-copy\n",
            "  data_vs_level['name level'][indx] = 'junior'\n"
          ]
        }
      ],
      "source": [
        "indxs = data_vs_level.loc[data_vs_level['name level'].isna() == True, :].index\n",
        "for indx in indxs:\n",
        "    if data_vs_level['YearExperience'][indx] == 0:\n",
        "        data_vs_level['name level'][indx] = 'intership/ fresher'\n",
        "    elif data_vs_level['YearExperience'][indx] <= 3:\n",
        "        data_vs_level['name level'][indx] = 'junior'\n",
        "    else:\n",
        "        data_vs_level['name level'][indx] = 'senior'"
      ]
    },
    {
      "cell_type": "code",
      "execution_count": 92,
      "metadata": {
        "colab": {
          "base_uri": "https://localhost:8080/"
        },
        "id": "RJVzbJxmA5w4",
        "outputId": "e3870098-71bd-426f-b1ee-4ddb76ce5765"
      },
      "outputs": [
        {
          "output_type": "stream",
          "name": "stderr",
          "text": [
            "<ipython-input-92-a6f11d5e506e>:1: FutureWarning: The default value of regex will change from True to False in a future version.\n",
            "  data_vs_level['name level'] = data_vs_level['name level'].str.replace('^fresher$|^intership$', 'intership/ fresher')\n"
          ]
        }
      ],
      "source": [
        "data_vs_level['name level'] = data_vs_level['name level'].str.replace('^fresher$|^intership$', 'intership/ fresher')"
      ]
    },
    {
      "cell_type": "code",
      "execution_count": 93,
      "metadata": {
        "id": "kiSg2zQEBF6m"
      },
      "outputs": [],
      "source": [
        "data_vs_level['y/n degree'] = data_vs_level['name degree']\n",
        "data_vs_level['y/n degree'] = data_vs_level['y/n degree'].apply(lambda string: 'Yes' if str(string) != 'nan' else 'No', '')"
      ]
    },
    {
      "cell_type": "code",
      "execution_count": 94,
      "metadata": {
        "id": "AxsOlBrFBOMl"
      },
      "outputs": [],
      "source": [
        "data_chi = data_vs_level[['y/n degree', 'name level']]"
      ]
    },
    {
      "cell_type": "code",
      "execution_count": 95,
      "metadata": {
        "id": "u4HEsa2tBbGN"
      },
      "outputs": [],
      "source": [
        "from scipy.stats import chi2_contingency"
      ]
    },
    {
      "cell_type": "code",
      "execution_count": 96,
      "metadata": {
        "colab": {
          "base_uri": "https://localhost:8080/"
        },
        "id": "1TtCI16DBUNv",
        "outputId": "1fe1eb84-5766-46d0-ace8-f816054a6db5"
      },
      "outputs": [
        {
          "output_type": "stream",
          "name": "stdout",
          "text": [
            "5.933118976707722e-103\n"
          ]
        }
      ],
      "source": [
        "contigency= pd.crosstab(data_chi['y/n degree'], data_chi['name level'])\n",
        "contigency\n",
        "c, p, dof, expected = chi2_contingency(contigency)\n",
        "print (p)"
      ]
    },
    {
      "cell_type": "code",
      "execution_count": 97,
      "metadata": {
        "id": "WAOST4GIBcf0"
      },
      "outputs": [],
      "source": [
        "data_v = data_vs_level[['y/n degree', 'name level']].groupby(['y/n degree', 'name level']).size().reset_index()"
      ]
    },
    {
      "cell_type": "code",
      "execution_count": 98,
      "metadata": {
        "colab": {
          "base_uri": "https://localhost:8080/",
          "height": 488
        },
        "id": "Oq5YgAzZBnID",
        "outputId": "cc07dcbd-dc88-4d57-e938-c0da94233c39"
      },
      "outputs": [
        {
          "output_type": "execute_result",
          "data": {
            "text/plain": [
              "   y/n degree          name level     0\n",
              "0          No           architect    71\n",
              "1          No  intership/ fresher   405\n",
              "2          No              junior   527\n",
              "3          No              leader   222\n",
              "4          No             manager   698\n",
              "5          No              middle    46\n",
              "6          No              senior   369\n",
              "7         Yes           architect   228\n",
              "8         Yes  intership/ fresher   374\n",
              "9         Yes              junior   791\n",
              "10        Yes              leader   588\n",
              "11        Yes             manager  1897\n",
              "12        Yes              middle    27\n",
              "13        Yes              senior  1839"
            ],
            "text/html": [
              "\n",
              "  <div id=\"df-12056d35-88bd-4198-a6b6-9ee3596ee7d5\">\n",
              "    <div class=\"colab-df-container\">\n",
              "      <div>\n",
              "<style scoped>\n",
              "    .dataframe tbody tr th:only-of-type {\n",
              "        vertical-align: middle;\n",
              "    }\n",
              "\n",
              "    .dataframe tbody tr th {\n",
              "        vertical-align: top;\n",
              "    }\n",
              "\n",
              "    .dataframe thead th {\n",
              "        text-align: right;\n",
              "    }\n",
              "</style>\n",
              "<table border=\"1\" class=\"dataframe\">\n",
              "  <thead>\n",
              "    <tr style=\"text-align: right;\">\n",
              "      <th></th>\n",
              "      <th>y/n degree</th>\n",
              "      <th>name level</th>\n",
              "      <th>0</th>\n",
              "    </tr>\n",
              "  </thead>\n",
              "  <tbody>\n",
              "    <tr>\n",
              "      <th>0</th>\n",
              "      <td>No</td>\n",
              "      <td>architect</td>\n",
              "      <td>71</td>\n",
              "    </tr>\n",
              "    <tr>\n",
              "      <th>1</th>\n",
              "      <td>No</td>\n",
              "      <td>intership/ fresher</td>\n",
              "      <td>405</td>\n",
              "    </tr>\n",
              "    <tr>\n",
              "      <th>2</th>\n",
              "      <td>No</td>\n",
              "      <td>junior</td>\n",
              "      <td>527</td>\n",
              "    </tr>\n",
              "    <tr>\n",
              "      <th>3</th>\n",
              "      <td>No</td>\n",
              "      <td>leader</td>\n",
              "      <td>222</td>\n",
              "    </tr>\n",
              "    <tr>\n",
              "      <th>4</th>\n",
              "      <td>No</td>\n",
              "      <td>manager</td>\n",
              "      <td>698</td>\n",
              "    </tr>\n",
              "    <tr>\n",
              "      <th>5</th>\n",
              "      <td>No</td>\n",
              "      <td>middle</td>\n",
              "      <td>46</td>\n",
              "    </tr>\n",
              "    <tr>\n",
              "      <th>6</th>\n",
              "      <td>No</td>\n",
              "      <td>senior</td>\n",
              "      <td>369</td>\n",
              "    </tr>\n",
              "    <tr>\n",
              "      <th>7</th>\n",
              "      <td>Yes</td>\n",
              "      <td>architect</td>\n",
              "      <td>228</td>\n",
              "    </tr>\n",
              "    <tr>\n",
              "      <th>8</th>\n",
              "      <td>Yes</td>\n",
              "      <td>intership/ fresher</td>\n",
              "      <td>374</td>\n",
              "    </tr>\n",
              "    <tr>\n",
              "      <th>9</th>\n",
              "      <td>Yes</td>\n",
              "      <td>junior</td>\n",
              "      <td>791</td>\n",
              "    </tr>\n",
              "    <tr>\n",
              "      <th>10</th>\n",
              "      <td>Yes</td>\n",
              "      <td>leader</td>\n",
              "      <td>588</td>\n",
              "    </tr>\n",
              "    <tr>\n",
              "      <th>11</th>\n",
              "      <td>Yes</td>\n",
              "      <td>manager</td>\n",
              "      <td>1897</td>\n",
              "    </tr>\n",
              "    <tr>\n",
              "      <th>12</th>\n",
              "      <td>Yes</td>\n",
              "      <td>middle</td>\n",
              "      <td>27</td>\n",
              "    </tr>\n",
              "    <tr>\n",
              "      <th>13</th>\n",
              "      <td>Yes</td>\n",
              "      <td>senior</td>\n",
              "      <td>1839</td>\n",
              "    </tr>\n",
              "  </tbody>\n",
              "</table>\n",
              "</div>\n",
              "      <button class=\"colab-df-convert\" onclick=\"convertToInteractive('df-12056d35-88bd-4198-a6b6-9ee3596ee7d5')\"\n",
              "              title=\"Convert this dataframe to an interactive table.\"\n",
              "              style=\"display:none;\">\n",
              "        \n",
              "  <svg xmlns=\"http://www.w3.org/2000/svg\" height=\"24px\"viewBox=\"0 0 24 24\"\n",
              "       width=\"24px\">\n",
              "    <path d=\"M0 0h24v24H0V0z\" fill=\"none\"/>\n",
              "    <path d=\"M18.56 5.44l.94 2.06.94-2.06 2.06-.94-2.06-.94-.94-2.06-.94 2.06-2.06.94zm-11 1L8.5 8.5l.94-2.06 2.06-.94-2.06-.94L8.5 2.5l-.94 2.06-2.06.94zm10 10l.94 2.06.94-2.06 2.06-.94-2.06-.94-.94-2.06-.94 2.06-2.06.94z\"/><path d=\"M17.41 7.96l-1.37-1.37c-.4-.4-.92-.59-1.43-.59-.52 0-1.04.2-1.43.59L10.3 9.45l-7.72 7.72c-.78.78-.78 2.05 0 2.83L4 21.41c.39.39.9.59 1.41.59.51 0 1.02-.2 1.41-.59l7.78-7.78 2.81-2.81c.8-.78.8-2.07 0-2.86zM5.41 20L4 18.59l7.72-7.72 1.47 1.35L5.41 20z\"/>\n",
              "  </svg>\n",
              "      </button>\n",
              "      \n",
              "  <style>\n",
              "    .colab-df-container {\n",
              "      display:flex;\n",
              "      flex-wrap:wrap;\n",
              "      gap: 12px;\n",
              "    }\n",
              "\n",
              "    .colab-df-convert {\n",
              "      background-color: #E8F0FE;\n",
              "      border: none;\n",
              "      border-radius: 50%;\n",
              "      cursor: pointer;\n",
              "      display: none;\n",
              "      fill: #1967D2;\n",
              "      height: 32px;\n",
              "      padding: 0 0 0 0;\n",
              "      width: 32px;\n",
              "    }\n",
              "\n",
              "    .colab-df-convert:hover {\n",
              "      background-color: #E2EBFA;\n",
              "      box-shadow: 0px 1px 2px rgba(60, 64, 67, 0.3), 0px 1px 3px 1px rgba(60, 64, 67, 0.15);\n",
              "      fill: #174EA6;\n",
              "    }\n",
              "\n",
              "    [theme=dark] .colab-df-convert {\n",
              "      background-color: #3B4455;\n",
              "      fill: #D2E3FC;\n",
              "    }\n",
              "\n",
              "    [theme=dark] .colab-df-convert:hover {\n",
              "      background-color: #434B5C;\n",
              "      box-shadow: 0px 1px 3px 1px rgba(0, 0, 0, 0.15);\n",
              "      filter: drop-shadow(0px 1px 2px rgba(0, 0, 0, 0.3));\n",
              "      fill: #FFFFFF;\n",
              "    }\n",
              "  </style>\n",
              "\n",
              "      <script>\n",
              "        const buttonEl =\n",
              "          document.querySelector('#df-12056d35-88bd-4198-a6b6-9ee3596ee7d5 button.colab-df-convert');\n",
              "        buttonEl.style.display =\n",
              "          google.colab.kernel.accessAllowed ? 'block' : 'none';\n",
              "\n",
              "        async function convertToInteractive(key) {\n",
              "          const element = document.querySelector('#df-12056d35-88bd-4198-a6b6-9ee3596ee7d5');\n",
              "          const dataTable =\n",
              "            await google.colab.kernel.invokeFunction('convertToInteractive',\n",
              "                                                     [key], {});\n",
              "          if (!dataTable) return;\n",
              "\n",
              "          const docLinkHtml = 'Like what you see? Visit the ' +\n",
              "            '<a target=\"_blank\" href=https://colab.research.google.com/notebooks/data_table.ipynb>data table notebook</a>'\n",
              "            + ' to learn more about interactive tables.';\n",
              "          element.innerHTML = '';\n",
              "          dataTable['output_type'] = 'display_data';\n",
              "          await google.colab.output.renderOutput(dataTable, element);\n",
              "          const docLink = document.createElement('div');\n",
              "          docLink.innerHTML = docLinkHtml;\n",
              "          element.appendChild(docLink);\n",
              "        }\n",
              "      </script>\n",
              "    </div>\n",
              "  </div>\n",
              "  "
            ]
          },
          "metadata": {},
          "execution_count": 98
        }
      ],
      "source": [
        "data_v"
      ]
    },
    {
      "cell_type": "code",
      "execution_count": 99,
      "metadata": {
        "colab": {
          "base_uri": "https://localhost:8080/",
          "height": 611
        },
        "id": "qMhZA5fHBi-f",
        "outputId": "dce6a8f9-dc57-4770-a310-1e4aa82da007"
      },
      "outputs": [
        {
          "output_type": "display_data",
          "data": {
            "text/plain": [
              "<Figure size 1440x720 with 1 Axes>"
            ],
            "image/png": "[encoded data removed]"
          },
          "metadata": {}
        }
      ],
      "source": [
        "fig = plt.figure(figsize=(20,10))\n",
        "sns.barplot(x = data_v['name level'], y = data_v[0], hue = data_v['y/n degree'])\n",
        "\n",
        "plt.show()"
      ]
    },
    {
      "cell_type": "markdown",
      "metadata": {
        "id": "sWWa4ud6Bf1M"
      },
      "source": [
        "## Language by level."
      ]
    },
    {
      "cell_type": "code",
      "execution_count": 100,
      "metadata": {
        "colab": {
          "base_uri": "https://localhost:8080/",
          "height": 206
        },
        "id": "U2Dz9vUVBkCf",
        "outputId": "bb7975ed-5a6b-4ad6-f0f5-b37b2d246f8f"
      },
      "outputs": [
        {
          "output_type": "execute_result",
          "data": {
            "text/plain": [
              "   index name level\n",
              "0      0    manager\n",
              "1      3     senior\n",
              "2      3     middle\n",
              "3      3     junior\n",
              "4      5    fresher"
            ],
            "text/html": [
              "\n",
              "  <div id=\"df-7cf5ca1b-b6e5-4f41-b80a-02c9ccd80722\">\n",
              "    <div class=\"colab-df-container\">\n",
              "      <div>\n",
              "<style scoped>\n",
              "    .dataframe tbody tr th:only-of-type {\n",
              "        vertical-align: middle;\n",
              "    }\n",
              "\n",
              "    .dataframe tbody tr th {\n",
              "        vertical-align: top;\n",
              "    }\n",
              "\n",
              "    .dataframe thead th {\n",
              "        text-align: right;\n",
              "    }\n",
              "</style>\n",
              "<table border=\"1\" class=\"dataframe\">\n",
              "  <thead>\n",
              "    <tr style=\"text-align: right;\">\n",
              "      <th></th>\n",
              "      <th>index</th>\n",
              "      <th>name level</th>\n",
              "    </tr>\n",
              "  </thead>\n",
              "  <tbody>\n",
              "    <tr>\n",
              "      <th>0</th>\n",
              "      <td>0</td>\n",
              "      <td>manager</td>\n",
              "    </tr>\n",
              "    <tr>\n",
              "      <th>1</th>\n",
              "      <td>3</td>\n",
              "      <td>senior</td>\n",
              "    </tr>\n",
              "    <tr>\n",
              "      <th>2</th>\n",
              "      <td>3</td>\n",
              "      <td>middle</td>\n",
              "    </tr>\n",
              "    <tr>\n",
              "      <th>3</th>\n",
              "      <td>3</td>\n",
              "      <td>junior</td>\n",
              "    </tr>\n",
              "    <tr>\n",
              "      <th>4</th>\n",
              "      <td>5</td>\n",
              "      <td>fresher</td>\n",
              "    </tr>\n",
              "  </tbody>\n",
              "</table>\n",
              "</div>\n",
              "      <button class=\"colab-df-convert\" onclick=\"convertToInteractive('df-7cf5ca1b-b6e5-4f41-b80a-02c9ccd80722')\"\n",
              "              title=\"Convert this dataframe to an interactive table.\"\n",
              "              style=\"display:none;\">\n",
              "        \n",
              "  <svg xmlns=\"http://www.w3.org/2000/svg\" height=\"24px\"viewBox=\"0 0 24 24\"\n",
              "       width=\"24px\">\n",
              "    <path d=\"M0 0h24v24H0V0z\" fill=\"none\"/>\n",
              "    <path d=\"M18.56 5.44l.94 2.06.94-2.06 2.06-.94-2.06-.94-.94-2.06-.94 2.06-2.06.94zm-11 1L8.5 8.5l.94-2.06 2.06-.94-2.06-.94L8.5 2.5l-.94 2.06-2.06.94zm10 10l.94 2.06.94-2.06 2.06-.94-2.06-.94-.94-2.06-.94 2.06-2.06.94z\"/><path d=\"M17.41 7.96l-1.37-1.37c-.4-.4-.92-.59-1.43-.59-.52 0-1.04.2-1.43.59L10.3 9.45l-7.72 7.72c-.78.78-.78 2.05 0 2.83L4 21.41c.39.39.9.59 1.41.59.51 0 1.02-.2 1.41-.59l7.78-7.78 2.81-2.81c.8-.78.8-2.07 0-2.86zM5.41 20L4 18.59l7.72-7.72 1.47 1.35L5.41 20z\"/>\n",
              "  </svg>\n",
              "      </button>\n",
              "      \n",
              "  <style>\n",
              "    .colab-df-container {\n",
              "      display:flex;\n",
              "      flex-wrap:wrap;\n",
              "      gap: 12px;\n",
              "    }\n",
              "\n",
              "    .colab-df-convert {\n",
              "      background-color: #E8F0FE;\n",
              "      border: none;\n",
              "      border-radius: 50%;\n",
              "      cursor: pointer;\n",
              "      display: none;\n",
              "      fill: #1967D2;\n",
              "      height: 32px;\n",
              "      padding: 0 0 0 0;\n",
              "      width: 32px;\n",
              "    }\n",
              "\n",
              "    .colab-df-convert:hover {\n",
              "      background-color: #E2EBFA;\n",
              "      box-shadow: 0px 1px 2px rgba(60, 64, 67, 0.3), 0px 1px 3px 1px rgba(60, 64, 67, 0.15);\n",
              "      fill: #174EA6;\n",
              "    }\n",
              "\n",
              "    [theme=dark] .colab-df-convert {\n",
              "      background-color: #3B4455;\n",
              "      fill: #D2E3FC;\n",
              "    }\n",
              "\n",
              "    [theme=dark] .colab-df-convert:hover {\n",
              "      background-color: #434B5C;\n",
              "      box-shadow: 0px 1px 3px 1px rgba(0, 0, 0, 0.15);\n",
              "      filter: drop-shadow(0px 1px 2px rgba(0, 0, 0, 0.3));\n",
              "      fill: #FFFFFF;\n",
              "    }\n",
              "  </style>\n",
              "\n",
              "      <script>\n",
              "        const buttonEl =\n",
              "          document.querySelector('#df-7cf5ca1b-b6e5-4f41-b80a-02c9ccd80722 button.colab-df-convert');\n",
              "        buttonEl.style.display =\n",
              "          google.colab.kernel.accessAllowed ? 'block' : 'none';\n",
              "\n",
              "        async function convertToInteractive(key) {\n",
              "          const element = document.querySelector('#df-7cf5ca1b-b6e5-4f41-b80a-02c9ccd80722');\n",
              "          const dataTable =\n",
              "            await google.colab.kernel.invokeFunction('convertToInteractive',\n",
              "                                                     [key], {});\n",
              "          if (!dataTable) return;\n",
              "\n",
              "          const docLinkHtml = 'Like what you see? Visit the ' +\n",
              "            '<a target=\"_blank\" href=https://colab.research.google.com/notebooks/data_table.ipynb>data table notebook</a>'\n",
              "            + ' to learn more about interactive tables.';\n",
              "          element.innerHTML = '';\n",
              "          dataTable['output_type'] = 'display_data';\n",
              "          await google.colab.output.renderOutput(dataTable, element);\n",
              "          const docLink = document.createElement('div');\n",
              "          docLink.innerHTML = docLinkHtml;\n",
              "          element.appendChild(docLink);\n",
              "        }\n",
              "      </script>\n",
              "    </div>\n",
              "  </div>\n",
              "  "
            ]
          },
          "metadata": {},
          "execution_count": 100
        }
      ],
      "source": [
        "job_level.head()"
      ]
    },
    {
      "cell_type": "code",
      "execution_count": 101,
      "metadata": {
        "colab": {
          "base_uri": "https://localhost:8080/",
          "height": 206
        },
        "id": "Vz5nOlrqBouF",
        "outputId": "fb1f7f9e-2a35-4dc0-a7b5-eef16d9afeba"
      },
      "outputs": [
        {
          "output_type": "execute_result",
          "data": {
            "text/plain": [
              "   index Name Tool\n",
              "0      0     excel\n",
              "1      0       sql\n",
              "2      0    visual\n",
              "3      0         c\n",
              "4      0   reactjs"
            ],
            "text/html": [
              "\n",
              "  <div id=\"df-77a8be89-ce3b-4a5f-8c54-c16051a29bd8\">\n",
              "    <div class=\"colab-df-container\">\n",
              "      <div>\n",
              "<style scoped>\n",
              "    .dataframe tbody tr th:only-of-type {\n",
              "        vertical-align: middle;\n",
              "    }\n",
              "\n",
              "    .dataframe tbody tr th {\n",
              "        vertical-align: top;\n",
              "    }\n",
              "\n",
              "    .dataframe thead th {\n",
              "        text-align: right;\n",
              "    }\n",
              "</style>\n",
              "<table border=\"1\" class=\"dataframe\">\n",
              "  <thead>\n",
              "    <tr style=\"text-align: right;\">\n",
              "      <th></th>\n",
              "      <th>index</th>\n",
              "      <th>Name Tool</th>\n",
              "    </tr>\n",
              "  </thead>\n",
              "  <tbody>\n",
              "    <tr>\n",
              "      <th>0</th>\n",
              "      <td>0</td>\n",
              "      <td>excel</td>\n",
              "    </tr>\n",
              "    <tr>\n",
              "      <th>1</th>\n",
              "      <td>0</td>\n",
              "      <td>sql</td>\n",
              "    </tr>\n",
              "    <tr>\n",
              "      <th>2</th>\n",
              "      <td>0</td>\n",
              "      <td>visual</td>\n",
              "    </tr>\n",
              "    <tr>\n",
              "      <th>3</th>\n",
              "      <td>0</td>\n",
              "      <td>c</td>\n",
              "    </tr>\n",
              "    <tr>\n",
              "      <th>4</th>\n",
              "      <td>0</td>\n",
              "      <td>reactjs</td>\n",
              "    </tr>\n",
              "  </tbody>\n",
              "</table>\n",
              "</div>\n",
              "      <button class=\"colab-df-convert\" onclick=\"convertToInteractive('df-77a8be89-ce3b-4a5f-8c54-c16051a29bd8')\"\n",
              "              title=\"Convert this dataframe to an interactive table.\"\n",
              "              style=\"display:none;\">\n",
              "        \n",
              "  <svg xmlns=\"http://www.w3.org/2000/svg\" height=\"24px\"viewBox=\"0 0 24 24\"\n",
              "       width=\"24px\">\n",
              "    <path d=\"M0 0h24v24H0V0z\" fill=\"none\"/>\n",
              "    <path d=\"M18.56 5.44l.94 2.06.94-2.06 2.06-.94-2.06-.94-.94-2.06-.94 2.06-2.06.94zm-11 1L8.5 8.5l.94-2.06 2.06-.94-2.06-.94L8.5 2.5l-.94 2.06-2.06.94zm10 10l.94 2.06.94-2.06 2.06-.94-2.06-.94-.94-2.06-.94 2.06-2.06.94z\"/><path d=\"M17.41 7.96l-1.37-1.37c-.4-.4-.92-.59-1.43-.59-.52 0-1.04.2-1.43.59L10.3 9.45l-7.72 7.72c-.78.78-.78 2.05 0 2.83L4 21.41c.39.39.9.59 1.41.59.51 0 1.02-.2 1.41-.59l7.78-7.78 2.81-2.81c.8-.78.8-2.07 0-2.86zM5.41 20L4 18.59l7.72-7.72 1.47 1.35L5.41 20z\"/>\n",
              "  </svg>\n",
              "      </button>\n",
              "      \n",
              "  <style>\n",
              "    .colab-df-container {\n",
              "      display:flex;\n",
              "      flex-wrap:wrap;\n",
              "      gap: 12px;\n",
              "    }\n",
              "\n",
              "    .colab-df-convert {\n",
              "      background-color: #E8F0FE;\n",
              "      border: none;\n",
              "      border-radius: 50%;\n",
              "      cursor: pointer;\n",
              "      display: none;\n",
              "      fill: #1967D2;\n",
              "      height: 32px;\n",
              "      padding: 0 0 0 0;\n",
              "      width: 32px;\n",
              "    }\n",
              "\n",
              "    .colab-df-convert:hover {\n",
              "      background-color: #E2EBFA;\n",
              "      box-shadow: 0px 1px 2px rgba(60, 64, 67, 0.3), 0px 1px 3px 1px rgba(60, 64, 67, 0.15);\n",
              "      fill: #174EA6;\n",
              "    }\n",
              "\n",
              "    [theme=dark] .colab-df-convert {\n",
              "      background-color: #3B4455;\n",
              "      fill: #D2E3FC;\n",
              "    }\n",
              "\n",
              "    [theme=dark] .colab-df-convert:hover {\n",
              "      background-color: #434B5C;\n",
              "      box-shadow: 0px 1px 3px 1px rgba(0, 0, 0, 0.15);\n",
              "      filter: drop-shadow(0px 1px 2px rgba(0, 0, 0, 0.3));\n",
              "      fill: #FFFFFF;\n",
              "    }\n",
              "  </style>\n",
              "\n",
              "      <script>\n",
              "        const buttonEl =\n",
              "          document.querySelector('#df-77a8be89-ce3b-4a5f-8c54-c16051a29bd8 button.colab-df-convert');\n",
              "        buttonEl.style.display =\n",
              "          google.colab.kernel.accessAllowed ? 'block' : 'none';\n",
              "\n",
              "        async function convertToInteractive(key) {\n",
              "          const element = document.querySelector('#df-77a8be89-ce3b-4a5f-8c54-c16051a29bd8');\n",
              "          const dataTable =\n",
              "            await google.colab.kernel.invokeFunction('convertToInteractive',\n",
              "                                                     [key], {});\n",
              "          if (!dataTable) return;\n",
              "\n",
              "          const docLinkHtml = 'Like what you see? Visit the ' +\n",
              "            '<a target=\"_blank\" href=https://colab.research.google.com/notebooks/data_table.ipynb>data table notebook</a>'\n",
              "            + ' to learn more about interactive tables.';\n",
              "          element.innerHTML = '';\n",
              "          dataTable['output_type'] = 'display_data';\n",
              "          await google.colab.output.renderOutput(dataTable, element);\n",
              "          const docLink = document.createElement('div');\n",
              "          docLink.innerHTML = docLinkHtml;\n",
              "          element.appendChild(docLink);\n",
              "        }\n",
              "      </script>\n",
              "    </div>\n",
              "  </div>\n",
              "  "
            ]
          },
          "metadata": {},
          "execution_count": 101
        }
      ],
      "source": [
        "job_tool.head()"
      ]
    },
    {
      "cell_type": "code",
      "execution_count": 102,
      "metadata": {
        "colab": {
          "base_uri": "https://localhost:8080/"
        },
        "id": "Xshv_sdvDO2a",
        "outputId": "b921b24c-79e6-48dc-d73f-767b6281e95c"
      },
      "outputs": [
        {
          "output_type": "stream",
          "name": "stdout",
          "text": [
            "['javascript', 'java', 'php', 'python', 'c', 'c++']\n",
            "['middle', 'junior', 'senior', 'fresher', 'intership']\n"
          ]
        }
      ],
      "source": [
        "level_by_l =  ['middle', 'junior', 'senior', 'fresher', 'intership']\n",
        "tech_by_level = ['javascript', 'java', 'php', 'python', 'c', 'c++']\n",
        "print(tech_by_level)\n",
        "print(level_by_l)"
      ]
    },
    {
      "cell_type": "code",
      "execution_count": 103,
      "metadata": {
        "id": "e8c64FvEBu68"
      },
      "outputs": [],
      "source": [
        "mark_l = job_tool['Name Tool'].isin(tech_by_level)\n",
        "job_l = job_tool[mark_l]"
      ]
    },
    {
      "cell_type": "code",
      "execution_count": 104,
      "metadata": {
        "id": "-CeHPTMkEG2u"
      },
      "outputs": [],
      "source": [
        "mark_by_l = job_level['name level'].isin(level_by_l)\n",
        "job_by_l = job_level[mark_by_l]"
      ]
    },
    {
      "cell_type": "code",
      "execution_count": 105,
      "metadata": {
        "colab": {
          "base_uri": "https://localhost:8080/"
        },
        "id": "WZOqBiKsET29",
        "outputId": "b4a7df82-1970-41bf-8ef7-e310ee614e1c"
      },
      "outputs": [
        {
          "output_type": "stream",
          "name": "stderr",
          "text": [
            "<ipython-input-105-011983439b35>:1: FutureWarning: The default value of regex will change from True to False in a future version.\n",
            "  job_by_l['name level'] = job_by_l['name level'].str.replace('^intership$', 'intenrship/fresher')\n",
            "<ipython-input-105-011983439b35>:1: SettingWithCopyWarning: \n",
            "A value is trying to be set on a copy of a slice from a DataFrame.\n",
            "Try using .loc[row_indexer,col_indexer] = value instead\n",
            "\n",
            "See the caveats in the documentation: https://pandas.pydata.org/pandas-docs/stable/user_guide/indexing.html#returning-a-view-versus-a-copy\n",
            "  job_by_l['name level'] = job_by_l['name level'].str.replace('^intership$', 'intenrship/fresher')\n",
            "<ipython-input-105-011983439b35>:2: FutureWarning: The default value of regex will change from True to False in a future version.\n",
            "  job_by_l['name level'] = job_by_l['name level'].str.replace('^fresher$', 'intenrship/fresher')\n",
            "<ipython-input-105-011983439b35>:2: SettingWithCopyWarning: \n",
            "A value is trying to be set on a copy of a slice from a DataFrame.\n",
            "Try using .loc[row_indexer,col_indexer] = value instead\n",
            "\n",
            "See the caveats in the documentation: https://pandas.pydata.org/pandas-docs/stable/user_guide/indexing.html#returning-a-view-versus-a-copy\n",
            "  job_by_l['name level'] = job_by_l['name level'].str.replace('^fresher$', 'intenrship/fresher')\n"
          ]
        }
      ],
      "source": [
        "job_by_l['name level'] = job_by_l['name level'].str.replace('^intership$', 'intenrship/fresher')\n",
        "job_by_l['name level'] = job_by_l['name level'].str.replace('^fresher$', 'intenrship/fresher')"
      ]
    },
    {
      "cell_type": "code",
      "execution_count": 106,
      "metadata": {
        "colab": {
          "base_uri": "https://localhost:8080/",
          "height": 206
        },
        "id": "NW1kJGrBFRb_",
        "outputId": "3e033b80-f600-4144-b5df-787e115fe9e5"
      },
      "outputs": [
        {
          "output_type": "execute_result",
          "data": {
            "text/plain": [
              "    index   Name Tool\n",
              "3       0           c\n",
              "10      2           c\n",
              "13      3  javascript\n",
              "23      4           c\n",
              "25      5           c"
            ],
            "text/html": [
              "\n",
              "  <div id=\"df-d4b801fb-e979-497b-ae58-f6077263fa48\">\n",
              "    <div class=\"colab-df-container\">\n",
              "      <div>\n",
              "<style scoped>\n",
              "    .dataframe tbody tr th:only-of-type {\n",
              "        vertical-align: middle;\n",
              "    }\n",
              "\n",
              "    .dataframe tbody tr th {\n",
              "        vertical-align: top;\n",
              "    }\n",
              "\n",
              "    .dataframe thead th {\n",
              "        text-align: right;\n",
              "    }\n",
              "</style>\n",
              "<table border=\"1\" class=\"dataframe\">\n",
              "  <thead>\n",
              "    <tr style=\"text-align: right;\">\n",
              "      <th></th>\n",
              "      <th>index</th>\n",
              "      <th>Name Tool</th>\n",
              "    </tr>\n",
              "  </thead>\n",
              "  <tbody>\n",
              "    <tr>\n",
              "      <th>3</th>\n",
              "      <td>0</td>\n",
              "      <td>c</td>\n",
              "    </tr>\n",
              "    <tr>\n",
              "      <th>10</th>\n",
              "      <td>2</td>\n",
              "      <td>c</td>\n",
              "    </tr>\n",
              "    <tr>\n",
              "      <th>13</th>\n",
              "      <td>3</td>\n",
              "      <td>javascript</td>\n",
              "    </tr>\n",
              "    <tr>\n",
              "      <th>23</th>\n",
              "      <td>4</td>\n",
              "      <td>c</td>\n",
              "    </tr>\n",
              "    <tr>\n",
              "      <th>25</th>\n",
              "      <td>5</td>\n",
              "      <td>c</td>\n",
              "    </tr>\n",
              "  </tbody>\n",
              "</table>\n",
              "</div>\n",
              "      <button class=\"colab-df-convert\" onclick=\"convertToInteractive('df-d4b801fb-e979-497b-ae58-f6077263fa48')\"\n",
              "              title=\"Convert this dataframe to an interactive table.\"\n",
              "              style=\"display:none;\">\n",
              "        \n",
              "  <svg xmlns=\"http://www.w3.org/2000/svg\" height=\"24px\"viewBox=\"0 0 24 24\"\n",
              "       width=\"24px\">\n",
              "    <path d=\"M0 0h24v24H0V0z\" fill=\"none\"/>\n",
              "    <path d=\"M18.56 5.44l.94 2.06.94-2.06 2.06-.94-2.06-.94-.94-2.06-.94 2.06-2.06.94zm-11 1L8.5 8.5l.94-2.06 2.06-.94-2.06-.94L8.5 2.5l-.94 2.06-2.06.94zm10 10l.94 2.06.94-2.06 2.06-.94-2.06-.94-.94-2.06-.94 2.06-2.06.94z\"/><path d=\"M17.41 7.96l-1.37-1.37c-.4-.4-.92-.59-1.43-.59-.52 0-1.04.2-1.43.59L10.3 9.45l-7.72 7.72c-.78.78-.78 2.05 0 2.83L4 21.41c.39.39.9.59 1.41.59.51 0 1.02-.2 1.41-.59l7.78-7.78 2.81-2.81c.8-.78.8-2.07 0-2.86zM5.41 20L4 18.59l7.72-7.72 1.47 1.35L5.41 20z\"/>\n",
              "  </svg>\n",
              "      </button>\n",
              "      \n",
              "  <style>\n",
              "    .colab-df-container {\n",
              "      display:flex;\n",
              "      flex-wrap:wrap;\n",
              "      gap: 12px;\n",
              "    }\n",
              "\n",
              "    .colab-df-convert {\n",
              "      background-color: #E8F0FE;\n",
              "      border: none;\n",
              "      border-radius: 50%;\n",
              "      cursor: pointer;\n",
              "      display: none;\n",
              "      fill: #1967D2;\n",
              "      height: 32px;\n",
              "      padding: 0 0 0 0;\n",
              "      width: 32px;\n",
              "    }\n",
              "\n",
              "    .colab-df-convert:hover {\n",
              "      background-color: #E2EBFA;\n",
              "      box-shadow: 0px 1px 2px rgba(60, 64, 67, 0.3), 0px 1px 3px 1px rgba(60, 64, 67, 0.15);\n",
              "      fill: #174EA6;\n",
              "    }\n",
              "\n",
              "    [theme=dark] .colab-df-convert {\n",
              "      background-color: #3B4455;\n",
              "      fill: #D2E3FC;\n",
              "    }\n",
              "\n",
              "    [theme=dark] .colab-df-convert:hover {\n",
              "      background-color: #434B5C;\n",
              "      box-shadow: 0px 1px 3px 1px rgba(0, 0, 0, 0.15);\n",
              "      filter: drop-shadow(0px 1px 2px rgba(0, 0, 0, 0.3));\n",
              "      fill: #FFFFFF;\n",
              "    }\n",
              "  </style>\n",
              "\n",
              "      <script>\n",
              "        const buttonEl =\n",
              "          document.querySelector('#df-d4b801fb-e979-497b-ae58-f6077263fa48 button.colab-df-convert');\n",
              "        buttonEl.style.display =\n",
              "          google.colab.kernel.accessAllowed ? 'block' : 'none';\n",
              "\n",
              "        async function convertToInteractive(key) {\n",
              "          const element = document.querySelector('#df-d4b801fb-e979-497b-ae58-f6077263fa48');\n",
              "          const dataTable =\n",
              "            await google.colab.kernel.invokeFunction('convertToInteractive',\n",
              "                                                     [key], {});\n",
              "          if (!dataTable) return;\n",
              "\n",
              "          const docLinkHtml = 'Like what you see? Visit the ' +\n",
              "            '<a target=\"_blank\" href=https://colab.research.google.com/notebooks/data_table.ipynb>data table notebook</a>'\n",
              "            + ' to learn more about interactive tables.';\n",
              "          element.innerHTML = '';\n",
              "          dataTable['output_type'] = 'display_data';\n",
              "          await google.colab.output.renderOutput(dataTable, element);\n",
              "          const docLink = document.createElement('div');\n",
              "          docLink.innerHTML = docLinkHtml;\n",
              "          element.appendChild(docLink);\n",
              "        }\n",
              "      </script>\n",
              "    </div>\n",
              "  </div>\n",
              "  "
            ]
          },
          "metadata": {},
          "execution_count": 106
        }
      ],
      "source": [
        "job_l.head()"
      ]
    },
    {
      "cell_type": "code",
      "execution_count": 107,
      "metadata": {
        "id": "xxFUG_t2Faz_"
      },
      "outputs": [],
      "source": [
        "data_analyst_level_by_language = job_by_l.merge(job_l, how = 'left', left_on='index', right_on='index')"
      ]
    },
    {
      "cell_type": "code",
      "execution_count": 108,
      "metadata": {
        "id": "Eb_K_BAeGC-S"
      },
      "outputs": [],
      "source": [
        "x = data_analyst_level_by_language.groupby([ 'Name Tool', 'name level'])['name level'].size()"
      ]
    },
    {
      "cell_type": "code",
      "execution_count": 109,
      "metadata": {
        "id": "7pAnzxFOHWB3"
      },
      "outputs": [],
      "source": [
        "df3 = x.groupby(level=0).apply(lambda x:100 * x / float(x.sum()))"
      ]
    },
    {
      "cell_type": "code",
      "execution_count": 110,
      "metadata": {
        "colab": {
          "base_uri": "https://localhost:8080/"
        },
        "id": "eN5DneqwINWs",
        "outputId": "fb3080f0-f75e-4904-dd33-73b7bbce948b"
      },
      "outputs": [
        {
          "output_type": "execute_result",
          "data": {
            "text/plain": [
              "Name Tool   name level        \n",
              "c           intenrship/fresher     34\n",
              "            junior                 62\n",
              "            middle                  3\n",
              "            senior                248\n",
              "c++         intenrship/fresher      5\n",
              "            junior                 33\n",
              "            senior                 79\n",
              "java        intenrship/fresher     22\n",
              "            junior                 91\n",
              "            middle                 10\n",
              "            senior                281\n",
              "javascript  intenrship/fresher     64\n",
              "            junior                221\n",
              "            middle                 10\n",
              "            senior                606\n",
              "php         intenrship/fresher     20\n",
              "            junior                 44\n",
              "            middle                  1\n",
              "            senior                157\n",
              "python      intenrship/fresher     20\n",
              "            junior                 43\n",
              "            senior                101\n",
              "Name: name level, dtype: int64"
            ]
          },
          "metadata": {},
          "execution_count": 110
        }
      ],
      "source": [
        "x"
      ]
    },
    {
      "cell_type": "code",
      "execution_count": 111,
      "metadata": {
        "colab": {
          "base_uri": "https://localhost:8080/"
        },
        "id": "PlQUV3r9IJJP",
        "outputId": "34d73071-e37b-4963-ce08-89e0e22d3264"
      },
      "outputs": [
        {
          "output_type": "execute_result",
          "data": {
            "text/plain": [
              "Name Tool   name level        \n",
              "c           intenrship/fresher     9.798271\n",
              "            junior                17.867435\n",
              "            middle                 0.864553\n",
              "            senior                71.469741\n",
              "c++         intenrship/fresher     4.273504\n",
              "            junior                28.205128\n",
              "            senior                67.521368\n",
              "java        intenrship/fresher     5.445545\n",
              "            junior                22.524752\n",
              "            middle                 2.475248\n",
              "            senior                69.554455\n",
              "javascript  intenrship/fresher     7.103219\n",
              "            junior                24.528302\n",
              "            middle                 1.109878\n",
              "            senior                67.258602\n",
              "php         intenrship/fresher     9.009009\n",
              "            junior                19.819820\n",
              "            middle                 0.450450\n",
              "            senior                70.720721\n",
              "python      intenrship/fresher    12.195122\n",
              "            junior                26.219512\n",
              "            senior                61.585366\n",
              "Name: name level, dtype: float64"
            ]
          },
          "metadata": {},
          "execution_count": 111
        }
      ],
      "source": [
        "df3"
      ]
    },
    {
      "cell_type": "code",
      "execution_count": 112,
      "metadata": {
        "colab": {
          "base_uri": "https://localhost:8080/",
          "height": 206
        },
        "id": "SJOCIaWYNhc6",
        "outputId": "e7ae2945-28a6-486a-afb7-a32960d463eb"
      },
      "outputs": [
        {
          "output_type": "execute_result",
          "data": {
            "text/plain": [
              "   index          name level   Name Tool\n",
              "0      3              senior  javascript\n",
              "1      3              middle  javascript\n",
              "2      3              junior  javascript\n",
              "3      5  intenrship/fresher           c\n",
              "4      5  intenrship/fresher      python"
            ],
            "text/html": [
              "\n",
              "  <div id=\"df-43003601-ea38-4693-b451-ccf7b70a0c3a\">\n",
              "    <div class=\"colab-df-container\">\n",
              "      <div>\n",
              "<style scoped>\n",
              "    .dataframe tbody tr th:only-of-type {\n",
              "        vertical-align: middle;\n",
              "    }\n",
              "\n",
              "    .dataframe tbody tr th {\n",
              "        vertical-align: top;\n",
              "    }\n",
              "\n",
              "    .dataframe thead th {\n",
              "        text-align: right;\n",
              "    }\n",
              "</style>\n",
              "<table border=\"1\" class=\"dataframe\">\n",
              "  <thead>\n",
              "    <tr style=\"text-align: right;\">\n",
              "      <th></th>\n",
              "      <th>index</th>\n",
              "      <th>name level</th>\n",
              "      <th>Name Tool</th>\n",
              "    </tr>\n",
              "  </thead>\n",
              "  <tbody>\n",
              "    <tr>\n",
              "      <th>0</th>\n",
              "      <td>3</td>\n",
              "      <td>senior</td>\n",
              "      <td>javascript</td>\n",
              "    </tr>\n",
              "    <tr>\n",
              "      <th>1</th>\n",
              "      <td>3</td>\n",
              "      <td>middle</td>\n",
              "      <td>javascript</td>\n",
              "    </tr>\n",
              "    <tr>\n",
              "      <th>2</th>\n",
              "      <td>3</td>\n",
              "      <td>junior</td>\n",
              "      <td>javascript</td>\n",
              "    </tr>\n",
              "    <tr>\n",
              "      <th>3</th>\n",
              "      <td>5</td>\n",
              "      <td>intenrship/fresher</td>\n",
              "      <td>c</td>\n",
              "    </tr>\n",
              "    <tr>\n",
              "      <th>4</th>\n",
              "      <td>5</td>\n",
              "      <td>intenrship/fresher</td>\n",
              "      <td>python</td>\n",
              "    </tr>\n",
              "  </tbody>\n",
              "</table>\n",
              "</div>\n",
              "      <button class=\"colab-df-convert\" onclick=\"convertToInteractive('df-43003601-ea38-4693-b451-ccf7b70a0c3a')\"\n",
              "              title=\"Convert this dataframe to an interactive table.\"\n",
              "              style=\"display:none;\">\n",
              "        \n",
              "  <svg xmlns=\"http://www.w3.org/2000/svg\" height=\"24px\"viewBox=\"0 0 24 24\"\n",
              "       width=\"24px\">\n",
              "    <path d=\"M0 0h24v24H0V0z\" fill=\"none\"/>\n",
              "    <path d=\"M18.56 5.44l.94 2.06.94-2.06 2.06-.94-2.06-.94-.94-2.06-.94 2.06-2.06.94zm-11 1L8.5 8.5l.94-2.06 2.06-.94-2.06-.94L8.5 2.5l-.94 2.06-2.06.94zm10 10l.94 2.06.94-2.06 2.06-.94-2.06-.94-.94-2.06-.94 2.06-2.06.94z\"/><path d=\"M17.41 7.96l-1.37-1.37c-.4-.4-.92-.59-1.43-.59-.52 0-1.04.2-1.43.59L10.3 9.45l-7.72 7.72c-.78.78-.78 2.05 0 2.83L4 21.41c.39.39.9.59 1.41.59.51 0 1.02-.2 1.41-.59l7.78-7.78 2.81-2.81c.8-.78.8-2.07 0-2.86zM5.41 20L4 18.59l7.72-7.72 1.47 1.35L5.41 20z\"/>\n",
              "  </svg>\n",
              "      </button>\n",
              "      \n",
              "  <style>\n",
              "    .colab-df-container {\n",
              "      display:flex;\n",
              "      flex-wrap:wrap;\n",
              "      gap: 12px;\n",
              "    }\n",
              "\n",
              "    .colab-df-convert {\n",
              "      background-color: #E8F0FE;\n",
              "      border: none;\n",
              "      border-radius: 50%;\n",
              "      cursor: pointer;\n",
              "      display: none;\n",
              "      fill: #1967D2;\n",
              "      height: 32px;\n",
              "      padding: 0 0 0 0;\n",
              "      width: 32px;\n",
              "    }\n",
              "\n",
              "    .colab-df-convert:hover {\n",
              "      background-color: #E2EBFA;\n",
              "      box-shadow: 0px 1px 2px rgba(60, 64, 67, 0.3), 0px 1px 3px 1px rgba(60, 64, 67, 0.15);\n",
              "      fill: #174EA6;\n",
              "    }\n",
              "\n",
              "    [theme=dark] .colab-df-convert {\n",
              "      background-color: #3B4455;\n",
              "      fill: #D2E3FC;\n",
              "    }\n",
              "\n",
              "    [theme=dark] .colab-df-convert:hover {\n",
              "      background-color: #434B5C;\n",
              "      box-shadow: 0px 1px 3px 1px rgba(0, 0, 0, 0.15);\n",
              "      filter: drop-shadow(0px 1px 2px rgba(0, 0, 0, 0.3));\n",
              "      fill: #FFFFFF;\n",
              "    }\n",
              "  </style>\n",
              "\n",
              "      <script>\n",
              "        const buttonEl =\n",
              "          document.querySelector('#df-43003601-ea38-4693-b451-ccf7b70a0c3a button.colab-df-convert');\n",
              "        buttonEl.style.display =\n",
              "          google.colab.kernel.accessAllowed ? 'block' : 'none';\n",
              "\n",
              "        async function convertToInteractive(key) {\n",
              "          const element = document.querySelector('#df-43003601-ea38-4693-b451-ccf7b70a0c3a');\n",
              "          const dataTable =\n",
              "            await google.colab.kernel.invokeFunction('convertToInteractive',\n",
              "                                                     [key], {});\n",
              "          if (!dataTable) return;\n",
              "\n",
              "          const docLinkHtml = 'Like what you see? Visit the ' +\n",
              "            '<a target=\"_blank\" href=https://colab.research.google.com/notebooks/data_table.ipynb>data table notebook</a>'\n",
              "            + ' to learn more about interactive tables.';\n",
              "          element.innerHTML = '';\n",
              "          dataTable['output_type'] = 'display_data';\n",
              "          await google.colab.output.renderOutput(dataTable, element);\n",
              "          const docLink = document.createElement('div');\n",
              "          docLink.innerHTML = docLinkHtml;\n",
              "          element.appendChild(docLink);\n",
              "        }\n",
              "      </script>\n",
              "    </div>\n",
              "  </div>\n",
              "  "
            ]
          },
          "metadata": {},
          "execution_count": 112
        }
      ],
      "source": [
        "data_analyst_level_by_language.head()"
      ]
    },
    {
      "cell_type": "code",
      "execution_count": 113,
      "metadata": {
        "colab": {
          "base_uri": "https://localhost:8080/"
        },
        "id": "rvHqJFinNXUf",
        "outputId": "a110ad4a-f9ed-4f6d-9804-a4f03a4f47ef"
      },
      "outputs": [
        {
          "output_type": "stream",
          "name": "stdout",
          "text": [
            "0.005149610211194277\n"
          ]
        }
      ],
      "source": [
        "contigency= pd.crosstab(data_analyst_level_by_language['name level'], data_analyst_level_by_language['Name Tool'])\n",
        "contigency\n",
        "c, p, dof, expected = chi2_contingency(contigency)\n",
        "print (p)"
      ]
    },
    {
      "cell_type": "markdown",
      "metadata": {
        "id": "ksCDGL7BCUFB"
      },
      "source": [
        "# Model recommend by statistical."
      ]
    },
    {
      "cell_type": "code",
      "execution_count": 114,
      "metadata": {
        "id": "uJOqG_Q6CvK2"
      },
      "outputs": [],
      "source": [
        "import string"
      ]
    },
    {
      "cell_type": "code",
      "execution_count": 115,
      "metadata": {
        "id": "FNdv3pxyCuYp"
      },
      "outputs": [],
      "source": [
        "def lables_title(string1):\n",
        "  strings = string1\n",
        "  strings = strings.lower()\n",
        "  strings = strings.replace(strings[strings.find('('): strings.find(')')], '')\n",
        "  strings = re.sub('senior|junior|fresher|intenr', '', strings)\n",
        "  strings = strings.translate(str.maketrans('', '', string.punctuation))\n",
        "  return strings"
      ]
    },
    {
      "cell_type": "code",
      "execution_count": 116,
      "metadata": {
        "id": "e1IXrVtlBovt"
      },
      "outputs": [],
      "source": [
        "job['JobTitle_to_fix'] = job['JobTitle'].apply(lambda strings: lables_title(strings))"
      ]
    },
    {
      "cell_type": "code",
      "execution_count": 117,
      "metadata": {
        "colab": {
          "base_uri": "https://localhost:8080/"
        },
        "id": "Tv-0PaN7Cohe",
        "outputId": "fe1bc8e3-518c-43d6-fcf9-4308462ceebf"
      },
      "outputs": [
        {
          "output_type": "execute_result",
          "data": {
            "text/plain": [
              "0.2779064381658175"
            ]
          },
          "metadata": {},
          "execution_count": 117
        }
      ],
      "source": [
        "len(job.loc[job['JobTitle_to_fix'] == 'data analyst', :]['index'].unique())*100/job.shape[0]"
      ]
    },
    {
      "cell_type": "code",
      "execution_count": 118,
      "metadata": {
        "id": "RDPgPXI2C_Tm"
      },
      "outputs": [],
      "source": [
        "idx = job.loc[job['JobTitle_to_fix'] == 'data analyst', 'index'].values"
      ]
    },
    {
      "cell_type": "code",
      "execution_count": 119,
      "metadata": {
        "id": "5AXTx2l8DBQs"
      },
      "outputs": [],
      "source": [
        "idxs = job_skill['index'].isin(idx)"
      ]
    },
    {
      "cell_type": "code",
      "execution_count": 120,
      "metadata": {
        "colab": {
          "base_uri": "https://localhost:8080/"
        },
        "id": "jjtO4iTGDY-2",
        "outputId": "cb407969-6de7-4e80-9e8f-e677aa442b04"
      },
      "outputs": [
        {
          "output_type": "execute_result",
          "data": {
            "text/plain": [
              "array(['dashboard', 'support', 'manager', 'analytic', 'report',\n",
              "       'visualization', 'math', 'sql', 'knowledgeable', 'statistics',\n",
              "       'recommendations', 'anomaly', 'research', 'databases', 'provides',\n",
              "       'leader', 'communicated', 'programing', 'segmentation', 'logic',\n",
              "       'design', 'organization', 'english', 'optimization'], dtype=object)"
            ]
          },
          "metadata": {},
          "execution_count": 120
        }
      ],
      "source": [
        "job_skill.loc[job_skill['index'].isin(idx), :]['Name Skill'].unique()"
      ]
    },
    {
      "cell_type": "code",
      "execution_count": 121,
      "metadata": {
        "id": "lZza1cplEvTM"
      },
      "outputs": [],
      "source": [
        "idx_tool = job.loc[job['JobTitle_to_fix'] == 'data analyst', 'index'].values"
      ]
    },
    {
      "cell_type": "code",
      "execution_count": 122,
      "metadata": {
        "id": "8hw5PALgFS8l"
      },
      "outputs": [],
      "source": [
        "idxs = job_tool['index'].isin(idx)"
      ]
    },
    {
      "cell_type": "code",
      "execution_count": 123,
      "metadata": {
        "colab": {
          "base_uri": "https://localhost:8080/"
        },
        "id": "K3FXAnS8FVlh",
        "outputId": "3bc9760c-83e5-4449-f9cb-efbf637890d2"
      },
      "outputs": [
        {
          "output_type": "execute_result",
          "data": {
            "text/plain": [
              "array(['visual', 'sql', 'tableau', 'word', 'excel', 'powerpoint',\n",
              "       'script', 'scala', 'python', 'snack', 'powerbi', 'serves'],\n",
              "      dtype=object)"
            ]
          },
          "metadata": {},
          "execution_count": 123
        }
      ],
      "source": [
        "job_tool.loc[job_tool['index'].isin(idx), :]['Name Tool'].unique()"
      ]
    },
    {
      "cell_type": "code",
      "execution_count": 124,
      "metadata": {
        "id": "Cvp0dB0xFYpW"
      },
      "outputs": [],
      "source": [
        "def statistical(nameJob, user_skill, user_tool):\n",
        "  idx = job.loc[job['JobTitle_to_fix'] == nameJob, 'index'].values\n",
        "  \n",
        "\n",
        "  idxs_skill = job_skill['index'].isin(idx)\n",
        "  idxs_tool = job_tool['index'].isin(idx)\n",
        "\n",
        "  unique_skill = job_skill.loc[job_skill['index'].isin(idx), :]['Name Skill'].unique()\n",
        "  unique_tool = job_tool.loc[job_tool['index'].isin(idx), :]['Name Tool'].unique()\n",
        "  print('Kỹ năng của '+ nameJob + \": \", str(unique_skill))\n",
        "  print('Công cụ của '+ nameJob + \": \", str(unique_tool))\n",
        "\n",
        "\n",
        "  per_user_skill = len(user_skill)*100/ len(unique_skill)\n",
        "  requests_job_skill = 100 - per_user_skill\n",
        "\n",
        "  per_user_tool = len(user_tool)*100/ len(unique_tool)\n",
        "  requests_job_tool = 100 - per_user_tool\n",
        "  # biểu đồ ứng viên có thể đáp ứng được công việc.\n",
        "  plt.figure(figsize = (20,10))\n",
        "  plt.subplot(1, 2, 1)\n",
        "  explode = [per_user_tool, requests_job_tool]\n",
        "  labels = ['công cụ ứng viên đáp ứng được', 'công cụ công việc yêu cầu']\n",
        "  \n",
        "  plt.pie(explode, labels=labels, autopct='%1.1f%%')\n",
        "  plt.subplot(1, 2, 2)\n",
        "  explode = [per_user_skill, requests_job_skill]\n",
        "  labels = ['Kỹ năng ứng viên đáp ứng được', 'Kỹ năng công việc yêu cầu']\n",
        "  \n",
        "  plt.pie(explode, labels=labels, autopct='%1.1f%%')\n",
        "  plt.show()"
      ]
    },
    {
      "cell_type": "code",
      "execution_count": 125,
      "metadata": {
        "colab": {
          "base_uri": "https://localhost:8080/",
          "height": 647
        },
        "id": "gm4uWFISGVLZ",
        "outputId": "75bd74d2-84ea-414d-e392-0f2cb40def09"
      },
      "outputs": [
        {
          "output_type": "stream",
          "name": "stdout",
          "text": [
            "Kỹ năng của data analyst:  ['dashboard' 'support' 'manager' 'analytic' 'report' 'visualization'\n",
            " 'math' 'sql' 'knowledgeable' 'statistics' 'recommendations' 'anomaly'\n",
            " 'research' 'databases' 'provides' 'leader' 'communicated' 'programing'\n",
            " 'segmentation' 'logic' 'design' 'organization' 'english' 'optimization']\n",
            "Công cụ của data analyst:  ['visual' 'sql' 'tableau' 'word' 'excel' 'powerpoint' 'script' 'scala'\n",
            " 'python' 'snack' 'powerbi' 'serves']\n"
          ]
        },
        {
          "output_type": "display_data",
          "data": {
            "text/plain": [
              "<Figure size 1440x720 with 2 Axes>"
            ],
            "image/png": "[encoded data removed]"
          },
          "metadata": {}
        }
      ],
      "source": [
        "statistical('data analyst', ['python', 'sql', 'spss'], ['design', 'test'])"
      ]
    },
    {
      "cell_type": "markdown",
      "metadata": {
        "id": "T-LD0Q92Z1vy"
      },
      "source": [
        "# Show name job suitable with skills, tools of emplyment."
      ]
    },
    {
      "cell_type": "code",
      "execution_count": 126,
      "metadata": {
        "colab": {
          "base_uri": "https://localhost:8080/",
          "height": 206
        },
        "id": "p3g_iBBHaNSz",
        "outputId": "113c24ad-aacc-4e0a-c8bc-b548f0b17713"
      },
      "outputs": [
        {
          "output_type": "execute_result",
          "data": {
            "text/plain": [
              "   index Name Skill\n",
              "0      0   provides\n",
              "1      0    manager\n",
              "2      0     design\n",
              "3      0   cleaning\n",
              "4      0     coding"
            ],
            "text/html": [
              "\n",
              "  <div id=\"df-df445de5-89f0-405b-8306-01663f7133bb\">\n",
              "    <div class=\"colab-df-container\">\n",
              "      <div>\n",
              "<style scoped>\n",
              "    .dataframe tbody tr th:only-of-type {\n",
              "        vertical-align: middle;\n",
              "    }\n",
              "\n",
              "    .dataframe tbody tr th {\n",
              "        vertical-align: top;\n",
              "    }\n",
              "\n",
              "    .dataframe thead th {\n",
              "        text-align: right;\n",
              "    }\n",
              "</style>\n",
              "<table border=\"1\" class=\"dataframe\">\n",
              "  <thead>\n",
              "    <tr style=\"text-align: right;\">\n",
              "      <th></th>\n",
              "      <th>index</th>\n",
              "      <th>Name Skill</th>\n",
              "    </tr>\n",
              "  </thead>\n",
              "  <tbody>\n",
              "    <tr>\n",
              "      <th>0</th>\n",
              "      <td>0</td>\n",
              "      <td>provides</td>\n",
              "    </tr>\n",
              "    <tr>\n",
              "      <th>1</th>\n",
              "      <td>0</td>\n",
              "      <td>manager</td>\n",
              "    </tr>\n",
              "    <tr>\n",
              "      <th>2</th>\n",
              "      <td>0</td>\n",
              "      <td>design</td>\n",
              "    </tr>\n",
              "    <tr>\n",
              "      <th>3</th>\n",
              "      <td>0</td>\n",
              "      <td>cleaning</td>\n",
              "    </tr>\n",
              "    <tr>\n",
              "      <th>4</th>\n",
              "      <td>0</td>\n",
              "      <td>coding</td>\n",
              "    </tr>\n",
              "  </tbody>\n",
              "</table>\n",
              "</div>\n",
              "      <button class=\"colab-df-convert\" onclick=\"convertToInteractive('df-df445de5-89f0-405b-8306-01663f7133bb')\"\n",
              "              title=\"Convert this dataframe to an interactive table.\"\n",
              "              style=\"display:none;\">\n",
              "        \n",
              "  <svg xmlns=\"http://www.w3.org/2000/svg\" height=\"24px\"viewBox=\"0 0 24 24\"\n",
              "       width=\"24px\">\n",
              "    <path d=\"M0 0h24v24H0V0z\" fill=\"none\"/>\n",
              "    <path d=\"M18.56 5.44l.94 2.06.94-2.06 2.06-.94-2.06-.94-.94-2.06-.94 2.06-2.06.94zm-11 1L8.5 8.5l.94-2.06 2.06-.94-2.06-.94L8.5 2.5l-.94 2.06-2.06.94zm10 10l.94 2.06.94-2.06 2.06-.94-2.06-.94-.94-2.06-.94 2.06-2.06.94z\"/><path d=\"M17.41 7.96l-1.37-1.37c-.4-.4-.92-.59-1.43-.59-.52 0-1.04.2-1.43.59L10.3 9.45l-7.72 7.72c-.78.78-.78 2.05 0 2.83L4 21.41c.39.39.9.59 1.41.59.51 0 1.02-.2 1.41-.59l7.78-7.78 2.81-2.81c.8-.78.8-2.07 0-2.86zM5.41 20L4 18.59l7.72-7.72 1.47 1.35L5.41 20z\"/>\n",
              "  </svg>\n",
              "      </button>\n",
              "      \n",
              "  <style>\n",
              "    .colab-df-container {\n",
              "      display:flex;\n",
              "      flex-wrap:wrap;\n",
              "      gap: 12px;\n",
              "    }\n",
              "\n",
              "    .colab-df-convert {\n",
              "      background-color: #E8F0FE;\n",
              "      border: none;\n",
              "      border-radius: 50%;\n",
              "      cursor: pointer;\n",
              "      display: none;\n",
              "      fill: #1967D2;\n",
              "      height: 32px;\n",
              "      padding: 0 0 0 0;\n",
              "      width: 32px;\n",
              "    }\n",
              "\n",
              "    .colab-df-convert:hover {\n",
              "      background-color: #E2EBFA;\n",
              "      box-shadow: 0px 1px 2px rgba(60, 64, 67, 0.3), 0px 1px 3px 1px rgba(60, 64, 67, 0.15);\n",
              "      fill: #174EA6;\n",
              "    }\n",
              "\n",
              "    [theme=dark] .colab-df-convert {\n",
              "      background-color: #3B4455;\n",
              "      fill: #D2E3FC;\n",
              "    }\n",
              "\n",
              "    [theme=dark] .colab-df-convert:hover {\n",
              "      background-color: #434B5C;\n",
              "      box-shadow: 0px 1px 3px 1px rgba(0, 0, 0, 0.15);\n",
              "      filter: drop-shadow(0px 1px 2px rgba(0, 0, 0, 0.3));\n",
              "      fill: #FFFFFF;\n",
              "    }\n",
              "  </style>\n",
              "\n",
              "      <script>\n",
              "        const buttonEl =\n",
              "          document.querySelector('#df-df445de5-89f0-405b-8306-01663f7133bb button.colab-df-convert');\n",
              "        buttonEl.style.display =\n",
              "          google.colab.kernel.accessAllowed ? 'block' : 'none';\n",
              "\n",
              "        async function convertToInteractive(key) {\n",
              "          const element = document.querySelector('#df-df445de5-89f0-405b-8306-01663f7133bb');\n",
              "          const dataTable =\n",
              "            await google.colab.kernel.invokeFunction('convertToInteractive',\n",
              "                                                     [key], {});\n",
              "          if (!dataTable) return;\n",
              "\n",
              "          const docLinkHtml = 'Like what you see? Visit the ' +\n",
              "            '<a target=\"_blank\" href=https://colab.research.google.com/notebooks/data_table.ipynb>data table notebook</a>'\n",
              "            + ' to learn more about interactive tables.';\n",
              "          element.innerHTML = '';\n",
              "          dataTable['output_type'] = 'display_data';\n",
              "          await google.colab.output.renderOutput(dataTable, element);\n",
              "          const docLink = document.createElement('div');\n",
              "          docLink.innerHTML = docLinkHtml;\n",
              "          element.appendChild(docLink);\n",
              "        }\n",
              "      </script>\n",
              "    </div>\n",
              "  </div>\n",
              "  "
            ]
          },
          "metadata": {},
          "execution_count": 126
        }
      ],
      "source": [
        "job_skill.head()"
      ]
    },
    {
      "cell_type": "code",
      "execution_count": 127,
      "metadata": {
        "colab": {
          "base_uri": "https://localhost:8080/",
          "height": 206
        },
        "id": "CPiPJdMvaNGs",
        "outputId": "5a83badd-0652-414d-d0c7-9f570ca7ec1d"
      },
      "outputs": [
        {
          "output_type": "execute_result",
          "data": {
            "text/plain": [
              "   index Name Tool\n",
              "0      0     excel\n",
              "1      0       sql\n",
              "2      0    visual\n",
              "3      0         c\n",
              "4      0   reactjs"
            ],
            "text/html": [
              "\n",
              "  <div id=\"df-b1796299-37bc-4c31-8bd5-b4c6663ddd20\">\n",
              "    <div class=\"colab-df-container\">\n",
              "      <div>\n",
              "<style scoped>\n",
              "    .dataframe tbody tr th:only-of-type {\n",
              "        vertical-align: middle;\n",
              "    }\n",
              "\n",
              "    .dataframe tbody tr th {\n",
              "        vertical-align: top;\n",
              "    }\n",
              "\n",
              "    .dataframe thead th {\n",
              "        text-align: right;\n",
              "    }\n",
              "</style>\n",
              "<table border=\"1\" class=\"dataframe\">\n",
              "  <thead>\n",
              "    <tr style=\"text-align: right;\">\n",
              "      <th></th>\n",
              "      <th>index</th>\n",
              "      <th>Name Tool</th>\n",
              "    </tr>\n",
              "  </thead>\n",
              "  <tbody>\n",
              "    <tr>\n",
              "      <th>0</th>\n",
              "      <td>0</td>\n",
              "      <td>excel</td>\n",
              "    </tr>\n",
              "    <tr>\n",
              "      <th>1</th>\n",
              "      <td>0</td>\n",
              "      <td>sql</td>\n",
              "    </tr>\n",
              "    <tr>\n",
              "      <th>2</th>\n",
              "      <td>0</td>\n",
              "      <td>visual</td>\n",
              "    </tr>\n",
              "    <tr>\n",
              "      <th>3</th>\n",
              "      <td>0</td>\n",
              "      <td>c</td>\n",
              "    </tr>\n",
              "    <tr>\n",
              "      <th>4</th>\n",
              "      <td>0</td>\n",
              "      <td>reactjs</td>\n",
              "    </tr>\n",
              "  </tbody>\n",
              "</table>\n",
              "</div>\n",
              "      <button class=\"colab-df-convert\" onclick=\"convertToInteractive('df-b1796299-37bc-4c31-8bd5-b4c6663ddd20')\"\n",
              "              title=\"Convert this dataframe to an interactive table.\"\n",
              "              style=\"display:none;\">\n",
              "        \n",
              "  <svg xmlns=\"http://www.w3.org/2000/svg\" height=\"24px\"viewBox=\"0 0 24 24\"\n",
              "       width=\"24px\">\n",
              "    <path d=\"M0 0h24v24H0V0z\" fill=\"none\"/>\n",
              "    <path d=\"M18.56 5.44l.94 2.06.94-2.06 2.06-.94-2.06-.94-.94-2.06-.94 2.06-2.06.94zm-11 1L8.5 8.5l.94-2.06 2.06-.94-2.06-.94L8.5 2.5l-.94 2.06-2.06.94zm10 10l.94 2.06.94-2.06 2.06-.94-2.06-.94-.94-2.06-.94 2.06-2.06.94z\"/><path d=\"M17.41 7.96l-1.37-1.37c-.4-.4-.92-.59-1.43-.59-.52 0-1.04.2-1.43.59L10.3 9.45l-7.72 7.72c-.78.78-.78 2.05 0 2.83L4 21.41c.39.39.9.59 1.41.59.51 0 1.02-.2 1.41-.59l7.78-7.78 2.81-2.81c.8-.78.8-2.07 0-2.86zM5.41 20L4 18.59l7.72-7.72 1.47 1.35L5.41 20z\"/>\n",
              "  </svg>\n",
              "      </button>\n",
              "      \n",
              "  <style>\n",
              "    .colab-df-container {\n",
              "      display:flex;\n",
              "      flex-wrap:wrap;\n",
              "      gap: 12px;\n",
              "    }\n",
              "\n",
              "    .colab-df-convert {\n",
              "      background-color: #E8F0FE;\n",
              "      border: none;\n",
              "      border-radius: 50%;\n",
              "      cursor: pointer;\n",
              "      display: none;\n",
              "      fill: #1967D2;\n",
              "      height: 32px;\n",
              "      padding: 0 0 0 0;\n",
              "      width: 32px;\n",
              "    }\n",
              "\n",
              "    .colab-df-convert:hover {\n",
              "      background-color: #E2EBFA;\n",
              "      box-shadow: 0px 1px 2px rgba(60, 64, 67, 0.3), 0px 1px 3px 1px rgba(60, 64, 67, 0.15);\n",
              "      fill: #174EA6;\n",
              "    }\n",
              "\n",
              "    [theme=dark] .colab-df-convert {\n",
              "      background-color: #3B4455;\n",
              "      fill: #D2E3FC;\n",
              "    }\n",
              "\n",
              "    [theme=dark] .colab-df-convert:hover {\n",
              "      background-color: #434B5C;\n",
              "      box-shadow: 0px 1px 3px 1px rgba(0, 0, 0, 0.15);\n",
              "      filter: drop-shadow(0px 1px 2px rgba(0, 0, 0, 0.3));\n",
              "      fill: #FFFFFF;\n",
              "    }\n",
              "  </style>\n",
              "\n",
              "      <script>\n",
              "        const buttonEl =\n",
              "          document.querySelector('#df-b1796299-37bc-4c31-8bd5-b4c6663ddd20 button.colab-df-convert');\n",
              "        buttonEl.style.display =\n",
              "          google.colab.kernel.accessAllowed ? 'block' : 'none';\n",
              "\n",
              "        async function convertToInteractive(key) {\n",
              "          const element = document.querySelector('#df-b1796299-37bc-4c31-8bd5-b4c6663ddd20');\n",
              "          const dataTable =\n",
              "            await google.colab.kernel.invokeFunction('convertToInteractive',\n",
              "                                                     [key], {});\n",
              "          if (!dataTable) return;\n",
              "\n",
              "          const docLinkHtml = 'Like what you see? Visit the ' +\n",
              "            '<a target=\"_blank\" href=https://colab.research.google.com/notebooks/data_table.ipynb>data table notebook</a>'\n",
              "            + ' to learn more about interactive tables.';\n",
              "          element.innerHTML = '';\n",
              "          dataTable['output_type'] = 'display_data';\n",
              "          await google.colab.output.renderOutput(dataTable, element);\n",
              "          const docLink = document.createElement('div');\n",
              "          docLink.innerHTML = docLinkHtml;\n",
              "          element.appendChild(docLink);\n",
              "        }\n",
              "      </script>\n",
              "    </div>\n",
              "  </div>\n",
              "  "
            ]
          },
          "metadata": {},
          "execution_count": 127
        }
      ],
      "source": [
        "job_tool.head()"
      ]
    },
    {
      "cell_type": "code",
      "execution_count": 128,
      "metadata": {
        "colab": {
          "base_uri": "https://localhost:8080/",
          "height": 206
        },
        "id": "GGnMguHpaWa8",
        "outputId": "e0917d1c-4323-420b-941e-1f4b061d8063"
      },
      "outputs": [
        {
          "output_type": "execute_result",
          "data": {
            "text/plain": [
              "   index                              JobTitle            Company  \\\n",
              "0      0                        .Net Developer           SmartDev   \n",
              "13     1            Intern / Fresher Developer     DXC Technology   \n",
              "27     2  .NET Developer (Middle/Senior level)              SIOUX   \n",
              "56     3         Jun/Mid/Senior .NET Developer  Saigon Technology   \n",
              "75     4     Web Developer (.NET, ASP.NET, C#)           NPV Corp   \n",
              "\n",
              "                 Location                                            Summary  \\\n",
              "0                 đà nẵng  compani descript smartdev is a lead provid of ...   \n",
              "13  thành phố hồ chí minh  overview : how would you like to join an inter...   \n",
              "27                đà nẵng  sioux group wa found in 1996 in the netherland...   \n",
              "56                đà nẵng  up to $ 2,200 junior , middl , senior da nang ...   \n",
              "75                đà nẵng  web develop ( .net , asp.net , c # ) npv corp ...   \n",
              "\n",
              "            JobUrl       JobTitle_to_fix  \n",
              "0   .NET Developer         net developer  \n",
              "13  .NET Developer    intern   developer  \n",
              "27  .NET Developer        net developer   \n",
              "56  .NET Developer  junmid net developer  \n",
              "75  .NET Developer        web developer   "
            ],
            "text/html": [
              "\n",
              "  <div id=\"df-f19a2b88-b326-40fc-8409-5bc58b6ac17a\">\n",
              "    <div class=\"colab-df-container\">\n",
              "      <div>\n",
              "<style scoped>\n",
              "    .dataframe tbody tr th:only-of-type {\n",
              "        vertical-align: middle;\n",
              "    }\n",
              "\n",
              "    .dataframe tbody tr th {\n",
              "        vertical-align: top;\n",
              "    }\n",
              "\n",
              "    .dataframe thead th {\n",
              "        text-align: right;\n",
              "    }\n",
              "</style>\n",
              "<table border=\"1\" class=\"dataframe\">\n",
              "  <thead>\n",
              "    <tr style=\"text-align: right;\">\n",
              "      <th></th>\n",
              "      <th>index</th>\n",
              "      <th>JobTitle</th>\n",
              "      <th>Company</th>\n",
              "      <th>Location</th>\n",
              "      <th>Summary</th>\n",
              "      <th>JobUrl</th>\n",
              "      <th>JobTitle_to_fix</th>\n",
              "    </tr>\n",
              "  </thead>\n",
              "  <tbody>\n",
              "    <tr>\n",
              "      <th>0</th>\n",
              "      <td>0</td>\n",
              "      <td>.Net Developer</td>\n",
              "      <td>SmartDev</td>\n",
              "      <td>đà nẵng</td>\n",
              "      <td>compani descript smartdev is a lead provid of ...</td>\n",
              "      <td>.NET Developer</td>\n",
              "      <td>net developer</td>\n",
              "    </tr>\n",
              "    <tr>\n",
              "      <th>13</th>\n",
              "      <td>1</td>\n",
              "      <td>Intern / Fresher Developer</td>\n",
              "      <td>DXC Technology</td>\n",
              "      <td>thành phố hồ chí minh</td>\n",
              "      <td>overview : how would you like to join an inter...</td>\n",
              "      <td>.NET Developer</td>\n",
              "      <td>intern   developer</td>\n",
              "    </tr>\n",
              "    <tr>\n",
              "      <th>27</th>\n",
              "      <td>2</td>\n",
              "      <td>.NET Developer (Middle/Senior level)</td>\n",
              "      <td>SIOUX</td>\n",
              "      <td>đà nẵng</td>\n",
              "      <td>sioux group wa found in 1996 in the netherland...</td>\n",
              "      <td>.NET Developer</td>\n",
              "      <td>net developer</td>\n",
              "    </tr>\n",
              "    <tr>\n",
              "      <th>56</th>\n",
              "      <td>3</td>\n",
              "      <td>Jun/Mid/Senior .NET Developer</td>\n",
              "      <td>Saigon Technology</td>\n",
              "      <td>đà nẵng</td>\n",
              "      <td>up to $ 2,200 junior , middl , senior da nang ...</td>\n",
              "      <td>.NET Developer</td>\n",
              "      <td>junmid net developer</td>\n",
              "    </tr>\n",
              "    <tr>\n",
              "      <th>75</th>\n",
              "      <td>4</td>\n",
              "      <td>Web Developer (.NET, ASP.NET, C#)</td>\n",
              "      <td>NPV Corp</td>\n",
              "      <td>đà nẵng</td>\n",
              "      <td>web develop ( .net , asp.net , c # ) npv corp ...</td>\n",
              "      <td>.NET Developer</td>\n",
              "      <td>web developer</td>\n",
              "    </tr>\n",
              "  </tbody>\n",
              "</table>\n",
              "</div>\n",
              "      <button class=\"colab-df-convert\" onclick=\"convertToInteractive('df-f19a2b88-b326-40fc-8409-5bc58b6ac17a')\"\n",
              "              title=\"Convert this dataframe to an interactive table.\"\n",
              "              style=\"display:none;\">\n",
              "        \n",
              "  <svg xmlns=\"http://www.w3.org/2000/svg\" height=\"24px\"viewBox=\"0 0 24 24\"\n",
              "       width=\"24px\">\n",
              "    <path d=\"M0 0h24v24H0V0z\" fill=\"none\"/>\n",
              "    <path d=\"M18.56 5.44l.94 2.06.94-2.06 2.06-.94-2.06-.94-.94-2.06-.94 2.06-2.06.94zm-11 1L8.5 8.5l.94-2.06 2.06-.94-2.06-.94L8.5 2.5l-.94 2.06-2.06.94zm10 10l.94 2.06.94-2.06 2.06-.94-2.06-.94-.94-2.06-.94 2.06-2.06.94z\"/><path d=\"M17.41 7.96l-1.37-1.37c-.4-.4-.92-.59-1.43-.59-.52 0-1.04.2-1.43.59L10.3 9.45l-7.72 7.72c-.78.78-.78 2.05 0 2.83L4 21.41c.39.39.9.59 1.41.59.51 0 1.02-.2 1.41-.59l7.78-7.78 2.81-2.81c.8-.78.8-2.07 0-2.86zM5.41 20L4 18.59l7.72-7.72 1.47 1.35L5.41 20z\"/>\n",
              "  </svg>\n",
              "      </button>\n",
              "      \n",
              "  <style>\n",
              "    .colab-df-container {\n",
              "      display:flex;\n",
              "      flex-wrap:wrap;\n",
              "      gap: 12px;\n",
              "    }\n",
              "\n",
              "    .colab-df-convert {\n",
              "      background-color: #E8F0FE;\n",
              "      border: none;\n",
              "      border-radius: 50%;\n",
              "      cursor: pointer;\n",
              "      display: none;\n",
              "      fill: #1967D2;\n",
              "      height: 32px;\n",
              "      padding: 0 0 0 0;\n",
              "      width: 32px;\n",
              "    }\n",
              "\n",
              "    .colab-df-convert:hover {\n",
              "      background-color: #E2EBFA;\n",
              "      box-shadow: 0px 1px 2px rgba(60, 64, 67, 0.3), 0px 1px 3px 1px rgba(60, 64, 67, 0.15);\n",
              "      fill: #174EA6;\n",
              "    }\n",
              "\n",
              "    [theme=dark] .colab-df-convert {\n",
              "      background-color: #3B4455;\n",
              "      fill: #D2E3FC;\n",
              "    }\n",
              "\n",
              "    [theme=dark] .colab-df-convert:hover {\n",
              "      background-color: #434B5C;\n",
              "      box-shadow: 0px 1px 3px 1px rgba(0, 0, 0, 0.15);\n",
              "      filter: drop-shadow(0px 1px 2px rgba(0, 0, 0, 0.3));\n",
              "      fill: #FFFFFF;\n",
              "    }\n",
              "  </style>\n",
              "\n",
              "      <script>\n",
              "        const buttonEl =\n",
              "          document.querySelector('#df-f19a2b88-b326-40fc-8409-5bc58b6ac17a button.colab-df-convert');\n",
              "        buttonEl.style.display =\n",
              "          google.colab.kernel.accessAllowed ? 'block' : 'none';\n",
              "\n",
              "        async function convertToInteractive(key) {\n",
              "          const element = document.querySelector('#df-f19a2b88-b326-40fc-8409-5bc58b6ac17a');\n",
              "          const dataTable =\n",
              "            await google.colab.kernel.invokeFunction('convertToInteractive',\n",
              "                                                     [key], {});\n",
              "          if (!dataTable) return;\n",
              "\n",
              "          const docLinkHtml = 'Like what you see? Visit the ' +\n",
              "            '<a target=\"_blank\" href=https://colab.research.google.com/notebooks/data_table.ipynb>data table notebook</a>'\n",
              "            + ' to learn more about interactive tables.';\n",
              "          element.innerHTML = '';\n",
              "          dataTable['output_type'] = 'display_data';\n",
              "          await google.colab.output.renderOutput(dataTable, element);\n",
              "          const docLink = document.createElement('div');\n",
              "          docLink.innerHTML = docLinkHtml;\n",
              "          element.appendChild(docLink);\n",
              "        }\n",
              "      </script>\n",
              "    </div>\n",
              "  </div>\n",
              "  "
            ]
          },
          "metadata": {},
          "execution_count": 128
        }
      ],
      "source": [
        "job.head()"
      ]
    },
    {
      "cell_type": "code",
      "execution_count": 129,
      "metadata": {
        "id": "pZ7-8qXYaWRN"
      },
      "outputs": [],
      "source": [
        "st_job_tool = job_tool.loc[job_tool['Name Tool'].isin(['c', 'javascript']), :]['index'].unique()\n",
        "st_job_skill = job_skill.loc[job_skill['Name Skill'].isin(['design', 'test', 'communicated']), :]['index'].unique()"
      ]
    },
    {
      "cell_type": "code",
      "execution_count": 130,
      "metadata": {
        "colab": {
          "base_uri": "https://localhost:8080/"
        },
        "id": "-_pQB49jaWH0",
        "outputId": "74921da2-3e64-4b88-ab46-d2c4479e7f0f"
      },
      "outputs": [
        {
          "output_type": "stream",
          "name": "stdout",
          "text": [
            "[ 0  1  2  3  5  7  8 10 11 14]\n",
            "[ 0  2  3  4  5  6  7  8 10 11]\n"
          ]
        }
      ],
      "source": [
        "print(st_job_skill[:10])\n",
        "print(st_job_tool[:10])\n"
      ]
    },
    {
      "cell_type": "code",
      "execution_count": 131,
      "metadata": {
        "id": "8PVkwL8obwV7"
      },
      "outputs": [],
      "source": [
        "values_job = job.loc[(job['index'].isin(st_job_skill)) & (job['index'].isin(st_job_tool)), :]['JobUrl'].value_counts()"
      ]
    },
    {
      "cell_type": "code",
      "execution_count": 132,
      "metadata": {
        "id": "1vC3ecoIdZNk"
      },
      "outputs": [],
      "source": [
        "name = values_job.index\n",
        "values = values_job.values\n",
        "idx = []\n",
        "val = []\n",
        "for i, v in zip(name,values):\n",
        "    idx.append(i)\n",
        "    val.append(v*100/sum(values))"
      ]
    },
    {
      "cell_type": "code",
      "execution_count": 133,
      "metadata": {
        "colab": {
          "base_uri": "https://localhost:8080/"
        },
        "id": "zz31AdoeeVvD",
        "outputId": "05d9be28-996c-4c8c-9487-0317d11ee063"
      },
      "outputs": [
        {
          "output_type": "execute_result",
          "data": {
            "text/plain": [
              "346"
            ]
          },
          "metadata": {},
          "execution_count": 133
        }
      ],
      "source": [
        "sum(values)"
      ]
    },
    {
      "cell_type": "code",
      "execution_count": 146,
      "metadata": {
        "id": "QEdGJtxPdPm7"
      },
      "outputs": [],
      "source": [
        "def show_job_suitable(user_skill, user_tool):\n",
        "  # get index  the tools and skills of the user.\n",
        "  st_job_tool = job_tool.loc[job_tool['Name Tool'].isin(['c', 'javascript']), :]['index'].unique()\n",
        "  st_job_skill = job_skill.loc[job_skill['Name Skill'].isin(['design', 'test', 'communicated']), :]['index'].unique()\n",
        "  # get the job by the tools of user and skills of the user.\n",
        "  values_job = job.loc[(job['index'].isin(st_job_skill)) & (job['index'].isin(st_job_tool)), :]['JobUrl'].value_counts()\n",
        "  # calulator percentage.\n",
        "  name = values_job.index\n",
        "  values = values_job.values\n",
        "  idx = []\n",
        "  val = []\n",
        "  for i, v in zip(name,values):\n",
        "      idx.append(i)\n",
        "      val.append(v*100/sum(values))\n",
        "  # Figure Size\n",
        "  fig, ax = plt.subplots(figsize =(16, 9))\n",
        "  \n",
        "  # Horizontal Bar Plot\n",
        "  ax.barh(idx, val)\n",
        "  \n",
        "  # Remove axes splines\n",
        "  for s in ['top', 'bottom', 'left', 'right']:\n",
        "      ax.spines[s].set_visible(False)\n",
        "  \n",
        "  # Remove x, y Ticks\n",
        "  ax.xaxis.set_ticks_position('none')\n",
        "  ax.yaxis.set_ticks_position('none')\n",
        "  \n",
        "  # Add padding between axes and labels\n",
        "  ax.xaxis.set_tick_params(pad = 5)\n",
        "  ax.yaxis.set_tick_params(pad = 10)\n",
        "  \n",
        "  # Add x, y gridlines\n",
        "  ax.grid(b = True, color ='grey',\n",
        "          linestyle ='-.', linewidth = 0.5,\n",
        "          alpha = 0.2)\n",
        "  \n",
        "  # Show top values\n",
        "  ax.invert_yaxis()\n",
        "  \n",
        "  # Add annotation to bars\n",
        "  for i in ax.patches:\n",
        "      plt.text(i.get_width()+0.2, i.get_y()+0.5,\n",
        "              str(round((i.get_width()), 2)),\n",
        "              fontsize = 10, fontweight ='bold',\n",
        "              color ='grey')\n",
        "  \n",
        "  \n",
        "  \n",
        "  # Add Text watermark\n",
        "  fig.text(0.9, 0.15, 'tranhuuan', fontsize = 12,\n",
        "          color ='grey', ha ='right', va ='bottom',\n",
        "          alpha = 0.7)\n",
        "  # Show Plot\n",
        "  plt.show()"
      ]
    },
    {
      "cell_type": "code",
      "execution_count": 147,
      "metadata": {
        "colab": {
          "base_uri": "https://localhost:8080/",
          "height": 597
        },
        "id": "3wo439O7f145",
        "outputId": "c54c61e7-820b-42bb-fbe5-33e4fb67eb20"
      },
      "outputs": [
        {
          "output_type": "stream",
          "name": "stderr",
          "text": [
            "<ipython-input-146-6cdb42afe5e7>:34: MatplotlibDeprecationWarning: The 'b' parameter of grid() has been renamed 'visible' since Matplotlib 3.5; support for the old name will be dropped two minor releases later.\n",
            "  ax.grid(b = True, color ='grey',\n"
          ]
        },
        {
          "output_type": "display_data",
          "data": {
            "text/plain": [
              "<Figure size 1152x648 with 1 Axes>"
            ],
            "image/png": "[encoded data removed]"
          },
          "metadata": {}
        }
      ],
      "source": [
        "show_job_suitable(['c', 'javascript'], ['design', 'test'])"
      ]
    },
    {
      "cell_type": "code",
      "execution_count": 145,
      "metadata": {
        "id": "okt7OssfCIPR"
      },
      "outputs": [],
      "source": []
    }
  ],
  "metadata": {
    "colab": {
      "provenance": [],
      "mount_file_id": "1ieqVfJnOLp9qLyuXqXcrxjSzGgyVds1A",
      "authorship_tag": "ABX9TyOAOj4GRYtwtDvMPUv2Dx0Z",
      "include_colab_link": true
    },
    "kernelspec": {
      "display_name": "Python 3",
      "name": "python3"
    },
    "language_info": {
      "name": "python"
    }
  },
  "nbformat": 4,
  "nbformat_minor": 0
}